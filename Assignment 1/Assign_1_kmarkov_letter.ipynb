{
  "nbformat": 4,
  "nbformat_minor": 0,
  "metadata": {
    "colab": {
      "name": "Assign_1_kmarkov_letter.ipynb",
      "provenance": []
    },
    "kernelspec": {
      "name": "python3",
      "display_name": "Python 3"
    }
  },
  "cells": [
    {
      "cell_type": "markdown",
      "metadata": {
        "id": "fhmopDGbKiJp"
      },
      "source": [
        "#K - Times Markov Sampling for Letter dataset"
      ]
    },
    {
      "cell_type": "code",
      "metadata": {
        "id": "-7K_Bc6V8Bm5"
      },
      "source": [
        "# Import all dependencies\n",
        "import pandas as pd\n",
        "import numpy as np\n",
        "from sklearn.svm import SVC\n",
        "from sklearn.model_selection import train_test_split\n",
        "from sklearn import metrics\n",
        "from sklearn.metrics import confusion_matrix\n",
        "from sklearn.model_selection import KFold\n",
        "from sklearn.model_selection import cross_val_score\n",
        "from sklearn.model_selection import GridSearchCV\n",
        "import matplotlib.pyplot as plt\n",
        "import seaborn as sns\n",
        "from sklearn.preprocessing import scale"
      ],
      "execution_count": 2,
      "outputs": []
    },
    {
      "cell_type": "markdown",
      "metadata": {
        "id": "AqBQLS2tufi2"
      },
      "source": [
        "\n",
        "\n",
        "---\n",
        "\n",
        "\n",
        "Connecting  to the  Google drive for easy import and export of data\n",
        "\n",
        "\n",
        "---\n"
      ]
    },
    {
      "cell_type": "code",
      "metadata": {
        "colab": {
          "base_uri": "https://localhost:8080/"
        },
        "id": "Vwy91UXUlIXP",
        "outputId": "d882481f-48d5-468e-b3cf-8d30c3f64d89"
      },
      "source": [
        "from google.colab import drive\n",
        "drive.mount('/content/drive')"
      ],
      "execution_count": 26,
      "outputs": [
        {
          "output_type": "stream",
          "text": [
            "Drive already mounted at /content/drive; to attempt to forcibly remount, call drive.mount(\"/content/drive\", force_remount=True).\n"
          ],
          "name": "stdout"
        }
      ]
    },
    {
      "cell_type": "markdown",
      "metadata": {
        "id": "NIlHbfAWvMPe"
      },
      "source": [
        "\n",
        "---\n",
        "\n",
        "\n",
        "Reading the csv file made for the dataset - And initializing the dataframe with it\n",
        "\n",
        "\n",
        "---\n",
        "\n"
      ]
    },
    {
      "cell_type": "code",
      "metadata": {
        "id": "EVeniiLD8HR_",
        "colab": {
          "base_uri": "https://localhost:8080/"
        },
        "outputId": "efcbb464-0a64-4fd9-a377-3b910b523071"
      },
      "source": [
        "letters = pd.read_csv(\"/content/letter-recognition.csv\")\n",
        "letters.columns = ['letter', 'xbox', 'ybox', 'width', 'height', 'onpix', 'xbar','ybar', 'x2bar', 'y2bar', 'xybar', 'x2ybar', 'xy2bar', 'xedge','xedgey', 'yedge', 'yedgex']\n",
        "\n",
        "print(\"Letter dataset in csv format -----------\")\n",
        "print(letters)"
      ],
      "execution_count": 27,
      "outputs": [
        {
          "output_type": "stream",
          "text": [
            "Letter dataset in csv format -----------\n",
            "      letter  xbox  ybox  width  height  ...  xy2bar  xedge  xedgey  yedge  yedgex\n",
            "0          I     5    12      3       7  ...       9      2       8      4      10\n",
            "1          D     4    11      6       8  ...       7      3       7      3       9\n",
            "2          N     7    11      6       6  ...      10      6      10      2       8\n",
            "3          G     2     1      3       1  ...       9      1       7      5      10\n",
            "4          S     4    11      5       8  ...       6      0       8      9       7\n",
            "...      ...   ...   ...    ...     ...  ...     ...    ...     ...    ...     ...\n",
            "19994      D     2     2      3       3  ...       4      2       8      3       7\n",
            "19995      C     7    10      8       8  ...      13      2       9      3       7\n",
            "19996      T     6     9      6       7  ...       5      2      12      2       4\n",
            "19997      S     2     3      4       2  ...       8      1       9      5       8\n",
            "19998      A     4     9      6       6  ...       8      2       7      2       8\n",
            "\n",
            "[19999 rows x 17 columns]\n"
          ],
          "name": "stdout"
        }
      ]
    },
    {
      "cell_type": "markdown",
      "metadata": {
        "id": "p5wJ6AOCKwKL"
      },
      "source": [
        "## Starting with the algorithm : \n",
        "\n",
        "\n",
        "---\n",
        "\n",
        "\n",
        "### K - TIMES MARKOV SAMPLING FOR SVMC\n",
        "\n",
        "\n",
        "---\n",
        "\n",
        "\n",
        "**Step 1** : Draw randomly N samples Siid := {zj}N\n",
        "j=1 from ST . Train Siid by SVMC and obtain a preliminary\n",
        "learning model f0. Let i = 0.\n",
        "\n",
        "\n",
        "---\n",
        "\n"
      ]
    },
    {
      "cell_type": "code",
      "metadata": {
        "id": "wQfr-biD9iFM"
      },
      "source": [
        "markov= pd.DataFrame(columns = letters.columns)\n",
        "uniqChar=list(np.sort(letters['letter'].unique()))\n",
        "classCNT=len(uniqChar)\n",
        "limit=100\n",
        "m=classCNT*limit\n",
        "charNo={}\n",
        "c=0\n",
        "for i in uniqChar:\n",
        "    charNo[i]=c\n",
        "    c+=1\n",
        "mAZ={i:0 for i in uniqChar}\n",
        "\n",
        "# Choosing parameters\n",
        "k=5\n",
        "q=1.2\n",
        "acc=0"
      ],
      "execution_count": 28,
      "outputs": []
    },
    {
      "cell_type": "markdown",
      "metadata": {
        "id": "nuynfrsTEJyF"
      },
      "source": [
        "\n",
        "\n",
        "---\n",
        "\n",
        "\n",
        "Train a linear Model on N[here 2000] size train set\n",
        "\n",
        "\n",
        "---\n",
        "\n"
      ]
    },
    {
      "cell_type": "code",
      "metadata": {
        "id": "qn8CYh4HueNL",
        "colab": {
          "base_uri": "https://localhost:8080/"
        },
        "outputId": "13ed021f-7806-4c71-b16c-d865bcf3aec9"
      },
      "source": [
        "X = letters.drop(\"letter\", axis = 1)\n",
        "y = letters['letter']\n",
        "\n",
        "X_scaled = scale(X)\n",
        "\n",
        "# train test split\n",
        "X_train, X_test, y_train, y_test = train_test_split(X_scaled, y, test_size = 0.9, random_state = 101)\n",
        "model_linear = SVC(kernel='linear')\n",
        "model_linear.fit(X_train, y_train)\n",
        "\n",
        "# predict\n",
        "y_pred = model_linear.predict(X_test)\n",
        "\n",
        "print(\"Displaying the predicted value ----------------\")\n",
        "print(y_pred)"
      ],
      "execution_count": 29,
      "outputs": [
        {
          "output_type": "stream",
          "text": [
            "Displaying the predicted value ----------------\n",
            "['X' 'M' 'E' ... 'M' 'B' 'J']\n"
          ],
          "name": "stdout"
        }
      ]
    },
    {
      "cell_type": "markdown",
      "metadata": {
        "id": "rqSnFNdkK641"
      },
      "source": [
        "\n",
        "---\n",
        "\n",
        "\n",
        "**Step 2 :** Let N+ = 0, N− = 0, t = 1.\n",
        "\n",
        "\n",
        "---\n"
      ]
    },
    {
      "cell_type": "code",
      "metadata": {
        "id": "-eeuIKzj_0qi",
        "colab": {
          "base_uri": "https://localhost:8080/"
        },
        "outputId": "cbcf53dc-ffb3-4281-9711-3cc4f881b9d2"
      },
      "source": [
        "# Chosing a random sample as first of markov chain\n",
        "i=np.random.randint(letters.shape[0])\n",
        "z0=letters.iloc[i]\n",
        "y0=model_linear.predict(np.array([z0.drop('letter')]))[0]\n",
        "if m%classCNT==0:\n",
        "    mAZ[z0['letter']]+=1\n",
        "\n",
        "d={}\n",
        "for i,val in z0.items():\n",
        "    print(i,val)\n",
        "    d[i]=val\n",
        "markov.append(d,ignore_index=True)\n",
        "\n",
        "print()\n",
        "print(\"The generated Markov Chain :\")\n",
        "print(markov)\n",
        "print()"
      ],
      "execution_count": 30,
      "outputs": [
        {
          "output_type": "stream",
          "text": [
            "letter M\n",
            "xbox 4\n",
            "ybox 7\n",
            "width 6\n",
            "height 5\n",
            "onpix 4\n",
            "xbar 6\n",
            "ybar 6\n",
            "x2bar 7\n",
            "y2bar 5\n",
            "xybar 7\n",
            "x2ybar 8\n",
            "xy2bar 11\n",
            "xedge 8\n",
            "xedgey 5\n",
            "yedge 2\n",
            "yedgex 9\n",
            "\n",
            "The generated Markov Chain :\n",
            "Empty DataFrame\n",
            "Columns: [letter, xbox, ybox, width, height, onpix, xbar, ybar, x2bar, y2bar, xybar, x2ybar, xy2bar, xedge, xedgey, yedge, yedgex]\n",
            "Index: []\n",
            "\n"
          ],
          "name": "stdout"
        }
      ]
    },
    {
      "cell_type": "code",
      "metadata": {
        "id": "xLPcDb9Hv6bZ"
      },
      "source": [
        "predProb=[]"
      ],
      "execution_count": 31,
      "outputs": []
    },
    {
      "cell_type": "markdown",
      "metadata": {
        "id": "ytKK5ymJyLwY"
      },
      "source": [
        "\n",
        "---\n",
        "\n",
        "\n",
        "# Step 3 To Step 7\n",
        "\n",
        "\n",
        "---\n",
        "\n",
        "**Step 3 :**  Draw randomly a sample zt from ST , called it the current sample. Let N+ = N+ + 1 if the label of zt is +1, or let N− = N− + 1 if the label of zt is −1.\n",
        "\n",
        "**Step 4 :** Draw randomly another sample z∗ from ST , called it the candidate sample, and calculate the ratio α, α = e−( fi,z∗)/e−( fi,zt).\n",
        "\n",
        "**Step 5 :** If α ≥ 1, yt y∗ = 1 accept z∗ with probability α1 = e−y∗ fi /e−yt fi . If α = 1 and yt y∗ = −1 or α < 1, accept z∗ with probability α. If there are n2 candidate samples can not be accepted continually, then set α2 = qα and accept z∗ with probability α2. If z∗ is not accepted, go to Step 4, else let zt+1 = z∗, N+ = N+ + 1 if the label of zt+1 is +1 and N+ < N/2, or let zt+1 = z∗, N− = N−+1 if the label of zt+1 is −1 and N− < N/2 (if the value α (or α1, α2) is bigger than 1, accept the candidate sample z∗ with probability 1).\n",
        "\n",
        "**Step 6 :** If N+ +N− < N, return to Step 4, else we obtain N Markov chain samples SMar. Let i = i + 1. Train SMar by SVMC and obtain a learning model fi .\n",
        "\n",
        "\n",
        "**Step 7 :** If i < k, go to Step 2, else output sign( fk ).\n",
        "\n",
        "---\n",
        "\n",
        "\n"
      ]
    },
    {
      "cell_type": "markdown",
      "metadata": {
        "id": "jfjKQkU6y4aY"
      },
      "source": [
        "\n",
        "\n",
        "---\n",
        "\n",
        "\n",
        "Utility Function for loop condition\n",
        "\n",
        "\n",
        "---\n",
        "\n"
      ]
    },
    {
      "cell_type": "code",
      "metadata": {
        "id": "6XdDB1FsAjEJ"
      },
      "source": [
        "def exist(dic,limit):\n",
        "    for i,val in dic.items():\n",
        "        if val<limit:\n",
        "            return True\n",
        "    return False            "
      ],
      "execution_count": 32,
      "outputs": []
    },
    {
      "cell_type": "markdown",
      "metadata": {
        "id": "-T8Jl5K_zEFn"
      },
      "source": [
        "\n",
        "\n",
        "---\n",
        "\n",
        "\n",
        "Utility loss Function\n",
        "\n",
        "\n",
        "---\n",
        "\n"
      ]
    },
    {
      "cell_type": "code",
      "metadata": {
        "id": "hdK-VA5jvL40"
      },
      "source": [
        "def lossF(actual,pred):\n",
        "    if actual==pred:\n",
        "        return 1.0\n",
        "    return np.exp(-2)"
      ],
      "execution_count": 33,
      "outputs": []
    },
    {
      "cell_type": "markdown",
      "metadata": {
        "id": "a9vUezP_zJtd"
      },
      "source": [
        "\n",
        "\n",
        "---\n",
        "\n",
        "\n",
        "Utility Function for getting class index\n",
        "\n",
        "\n",
        "---\n",
        "\n"
      ]
    },
    {
      "cell_type": "code",
      "metadata": {
        "id": "PaUkRX-Fz5TW"
      },
      "source": [
        "def getNo(ch):\n",
        "    return charNo[ch]"
      ],
      "execution_count": 34,
      "outputs": []
    },
    {
      "cell_type": "markdown",
      "metadata": {
        "id": "AcnneeN0zOXW"
      },
      "source": [
        "\n",
        "\n",
        "---\n",
        "\n",
        "\n",
        "Utility function for training subsequent models\n",
        "\n",
        "\n",
        "---\n",
        "\n"
      ]
    },
    {
      "cell_type": "code",
      "metadata": {
        "id": "oroweD30lK5U"
      },
      "source": [
        "def train(data):\n",
        "    \n",
        "    X = data.drop(\"letter\", axis = 1)\n",
        "    y = data['letter']\n",
        "\n",
        "    # train test split\n",
        "    X_train, X_test, y_train, y_test = train_test_split(X, y, test_size = 0.8, random_state = 101)\n",
        "    model_linear = SVC(kernel='linear')\n",
        "    model_linear.fit(X_train, y_train)\n",
        "\n",
        "    return model_linear"
      ],
      "execution_count": 35,
      "outputs": []
    },
    {
      "cell_type": "code",
      "metadata": {
        "id": "c_9v0egiDGWM"
      },
      "source": [
        "lst=[]"
      ],
      "execution_count": 36,
      "outputs": []
    },
    {
      "cell_type": "markdown",
      "metadata": {
        "id": "LUCCbNOtzT04"
      },
      "source": [
        "\n",
        "\n",
        "---\n",
        "\n",
        "\n",
        "Loop To run the markov chain generator k times\n",
        "\n",
        "---\n",
        "\n"
      ]
    },
    {
      "cell_type": "code",
      "metadata": {
        "colab": {
          "base_uri": "https://localhost:8080/"
        },
        "id": "QKLkHKVWAAKR",
        "outputId": "c1fd3f41-28d5-4624-cd60-7f17bb733605"
      },
      "source": [
        "for km in range(2):\n",
        "    # Reset parameters for next markov chain\n",
        "    if km!=0:\n",
        "        predProb=[]\n",
        "        model_linear=train(markov)\n",
        "        markov= pd.DataFrame(columns = letters.columns)\n",
        "        mAZ={i:0 for i in uniqChar}\n",
        "    lst=[]\n",
        "    \n",
        "    # Chosing a random sample as first of markov chain\n",
        "    i=np.random.randint(letters.shape[0])\n",
        "    z0=letters.iloc[i]\n",
        "    y0=model_linear.predict(np.array([z0.drop('letter')]))[0]\n",
        "    if m%classCNT==0:\n",
        "        mAZ[z0['letter']]+=1\n",
        "    print(\"Choosing random sample ...........\")\n",
        "    while exist(mAZ,limit):\n",
        "        # choosing a random sample\n",
        "        i=np.random.randint(letters.shape[0])\n",
        "        while i in lst:\n",
        "            i=np.random.randint(letters.shape[0])\n",
        "        z1=letters.iloc[i]\n",
        "        y1=model_linear.predict(np.array([z1.drop('letter')]))[0]\n",
        "        n=lossF(z1['letter'],y1)\n",
        "        d=lossF(z0['letter'],y0)\n",
        "        p=n/d\n",
        "        \n",
        "        # Deciding of acceptance of chosen sample and its probability in markov chain\n",
        "        if acc==k:\n",
        "            acc=0\n",
        "            p2=q*p\n",
        "            p2=min(p2,1)\n",
        "            predProb.append([z1['letter'],y1,p2])\n",
        "            markov=markov.append(z1)\n",
        "            z0=z1\n",
        "            mAZ[z1['letter']]+=1\n",
        "            acc+=1\n",
        "            lst.append(i)\n",
        "        elif p==1 and z0['letter']==z1['letter']:\n",
        "            n=np.exp(-getNo(y1)*getNo(z1['letter']))\n",
        "            d=np.exp(-getNo(y0)*getNo(z0['letter']))\n",
        "\n",
        "            p1=n/d\n",
        "            p1=min(p1,1)\n",
        "            predProb.append([z1['letter'],y1,p1])\n",
        "            markov=markov.append(z1)\n",
        "            z0=z1\n",
        "            mAZ[z1['letter']]+=1\n",
        "            acc+=1\n",
        "            lst.append(i)\n",
        "        elif p<1:\n",
        "            predProb.append([z1['letter'],y1,p])\n",
        "            markov=markov.append(z1)\n",
        "            z0=z1\n",
        "            mAZ[z1['letter']]+=1\n",
        "            acc+=1\n",
        "            lst.append(i)\n",
        "        elif p==1 and z0['letter']!=z1['letter']:\n",
        "            predProb.append([z1['letter'],y1,p])\n",
        "            markov=markov.append(z1)\n",
        "            z0=z1\n",
        "            mAZ[z1['letter']]+=1\n",
        "            acc+=1\n",
        "            lst.append(i)\n",
        "\n",
        "print(\"The generated Markov Chain :\")\n",
        "print(markov)\n",
        "\n",
        "print(\"The predicted Probabilities :\")\n",
        "print(predProb)"
      ],
      "execution_count": 38,
      "outputs": [
        {
          "output_type": "stream",
          "text": [
            "Choosing random sample ...........\n",
            "Choosing random sample ...........\n",
            "The generated Markov Chain :\n",
            "      letter xbox ybox width height  ... xy2bar xedge xedgey yedge yedgex\n",
            "12670      J    4    9     6      7  ...      8     3      7     4      6\n",
            "2340       H    3    6     4      4  ...      8     3      8     0      8\n",
            "17393      N    2    1     2      2  ...      7     4      8     1      7\n",
            "3777       I    5    7     6      8  ...      7     4      8     9     10\n",
            "14449      H    7   11    10      8  ...      7     4      9     4      9\n",
            "...      ...  ...  ...   ...    ...  ...    ...   ...    ...   ...    ...\n",
            "11979      L    4    6     5      4  ...      9     2      8     4     10\n",
            "9389       C    5   10     6      8  ...     13     1      8     4      9\n",
            "10620      R    4    8     6      6  ...      7     4      6     7      8\n",
            "6048       R    4    9     5      7  ...      9     3      6     6      9\n",
            "11143      W    4    5     6      5  ...      8     9      9     8      8\n",
            "\n",
            "[5283 rows x 17 columns]\n",
            "The predicted Probabilities :\n",
            "[['J', 'A', 0.1353352832366127], ['H', 'O', 1.0], ['N', 'D', 1.0], ['I', 'J', 1.0], ['H', 'F', 1], ['M', 'D', 1.0], ['D', 'O', 1.0], ['V', 'Y', 0.1353352832366127], ['C', 'E', 1.0], ['O', 'O', 1], ['B', 'S', 1.0], ['B', 'D', 1.0], ['T', 'F', 1.0], ['V', 'G', 1.0], ['M', 'W', 1], ['G', 'V', 1.0], ['P', 'F', 1.0], ['G', 'C', 1.0], ['C', 'O', 1.0], ['Q', 'Q', 1], ['C', 'U', 1.0], ['S', 'R', 1.0], ['U', 'H', 1.0], ['C', 'E', 1.0], ['U', 'U', 1], ['J', 'E', 1.0], ['C', 'G', 1.0], ['K', 'C', 1.0], ['R', 'A', 1.0], ['R', 'B', 1], ['Q', 'G', 1.0], ['N', 'O', 1.0], ['Z', 'E', 1.0], ['M', 'O', 1.0], ['A', 'A', 1], ['U', 'H', 1.0], ['O', 'C', 1.0], ['F', 'Y', 1.0], ['B', 'H', 1.0], ['J', 'J', 1], ['R', 'H', 1.0], ['B', 'Q', 1.0], ['H', 'O', 1.0], ['N', 'H', 1.0], ['I', 'I', 1], ['B', 'S', 1.0], ['F', 'B', 1.0], ['J', 'A', 1.0], ['P', 'Q', 1.0], ['I', 'I', 1], ['G', 'P', 1.0], ['C', 'E', 1.0], ['H', 'O', 1.0], ['L', 'J', 1.0], ['O', 'O', 1], ['B', 'S', 1.0], ['R', 'B', 1.0], ['P', 'O', 1.0], ['V', 'Y', 1.0], ['I', 'I', 1], ['M', 'A', 1.0], ['Z', 'S', 1.0], ['T', 'K', 1.0], ['K', 'X', 1.0], ['H', 'O', 1], ['I', 'D', 1.0], ['R', 'B', 1.0], ['M', 'A', 1.0], ['L', 'G', 1.0], ['F', 'N', 1], ['S', 'G', 1.0], ['V', 'F', 1.0], ['Q', 'L', 1.0], ['Y', 'V', 1.0], ['H', 'R', 1], ['J', 'E', 1.0], ['X', 'S', 1.0], ['Z', 'T', 1.0], ['R', 'V', 1.0], ['Q', 'Q', 1], ['L', 'E', 1.0], ['O', 'G', 1.0], ['H', 'O', 1.0], ['Z', 'E', 1.0], ['J', 'D', 1], ['B', 'H', 1.0], ['U', 'T', 1.0], ['N', 'A', 1.0], ['G', 'C', 1.0], ['M', 'M', 1], ['B', 'K', 1.0], ['J', 'E', 1.0], ['B', 'G', 1.0], ['U', 'D', 1.0], ['C', 'K', 1], ['N', 'H', 1.0], ['C', 'E', 1.0], ['H', 'M', 1.0], ['U', 'Y', 1.0], ['W', 'W', 1], ['G', 'C', 1.0], ['F', 'J', 1.0], ['T', 'F', 1.0], ['H', 'O', 1.0], ['A', 'A', 1], ['I', 'J', 1.0], ['S', 'Z', 1.0], ['U', 'O', 1.0], ['R', 'K', 1.0], ['Z', 'Z', 1], ['N', 'D', 1.0], ['B', 'H', 1.0], ['S', 'G', 1.0], ['L', 'D', 1.0], ['W', 'B', 1], ['M', 'A', 1.0], ['H', 'D', 1.0], ['N', 'O', 1.0], ['B', 'S', 1.0], ['U', 'U', 1], ['Q', 'B', 1.0], ['Q', 'E', 1.1253517471925912e-07], ['Q', 'A', 1], ['V', 'H', 1.0], ['D', 'F', 1], ['H', 'B', 0.1353352832366127], ['B', 'S', 1.0], ['K', 'H', 1.0], ['Z', 'S', 1.0], ['R', 'H', 1], ['V', 'B', 1.0], ['M', 'A', 1.0], ['N', 'O', 1.0], ['O', 'G', 1.0], ['Q', 'Q', 1], ['P', 'W', 1.0], ['A', 'Y', 1.0], ['F', 'S', 1.0], ['N', 'A', 1.0], ['T', 'T', 1], ['P', 'F', 1.0], ['G', 'C', 1.0], ['J', 'C', 1.0], ['Z', 'J', 1.0], ['L', 'D', 1], ['I', 'X', 1.0], ['D', 'O', 1.0], ['S', 'S', 1.0], ['K', 'C', 1.0], ['N', 'N', 1], ['Z', 'S', 1.0], ['T', 'F', 1.0], ['B', 'R', 1.0], ['N', 'C', 1.0], ['K', 'K', 1], ['R', 'B', 1.0], ['X', 'H', 1.0], ['K', 'C', 1.0], ['X', 'Q', 1.0], ['I', 'I', 1], ['H', 'O', 1.0], ['H', 'K', 5.242885663363464e-22], ['N', 'U', 1.0], ['H', 'O', 1.0], ['U', 'U', 1], ['V', 'F', 1.0], ['Q', 'G', 1.0], ['B', 'S', 1.0], ['B', 'V', 1.522997974471263e-08], ['S', 'S', 1], ['X', 'K', 1.0], ['V', 'F', 1.0], ['I', 'Y', 1.0], ['N', 'D', 1.0], ['P', 'P', 1], ['U', 'Y', 1.0], ['N', 'O', 1.0], ['R', 'A', 1.0], ['H', 'O', 1.0], ['O', 'H', 1], ['F', 'C', 1.0], ['V', 'Y', 1.0], ['Z', 'E', 1.0], ['D', 'H', 1.0], ['S', 'S', 1], ['R', 'K', 1.0], ['Z', 'S', 1.0], ['F', 'D', 1.0], ['F', 'T', 1.804851387845415e-35], ['M', 'M', 1], ['V', 'Y', 1.0], ['A', 'Y', 1.0], ['F', 'I', 1.0], ['M', 'N', 1.0], ['W', 'W', 1], ['H', 'O', 1.0], ['E', 'T', 1.0], ['B', 'S', 1.0], ['D', 'B', 1.0], ['J', 'J', 1], ['B', 'R', 1.0], ['G', 'Q', 1.0], ['R', 'E', 1.0], ['H', 'O', 1.0], ['O', 'O', 1], ['X', 'S', 1.0], ['A', 'Y', 1.0], ['H', 'C', 1.0], ['P', 'O', 1.0], ['Y', 'Y', 1], ['O', 'H', 1.0], ['O', 'D', 1.0], ['G', 'C', 1.0], ['M', 'A', 1.0], ['V', 'V', 1], ['M', 'D', 1.0], ['V', 'Y', 1.0], ['F', 'S', 1.0], ['F', 'N', 1.9287498479639176e-22], ['C', 'C', 1], ['V', 'R', 1.0], ['R', 'H', 1.0], ['G', 'Q', 1.0], ['G', 'C', 1], ['D', 'D', 1], ['U', 'Y', 0.1353352832366127], ['X', 'E', 1.0], ['K', 'E', 1.0], ['U', 'Y', 1.0], ['U', 'U', 1], ['C', 'E', 1.0], ['H', 'E', 1.0], ['M', 'A', 1.0], ['B', 'S', 1.0], ['F', 'F', 1], ['D', 'A', 1.0], ['A', 'A', 1.0], ['Q', 'H', 1.0], ['Z', 'E', 1.0], ['F', 'F', 1], ['R', 'H', 1.0], ['H', 'D', 1.0], ['L', 'G', 1.0], ['V', 'F', 1.0], ['U', 'Y', 1], ['D', 'B', 1.0], ['J', 'J', 1.0], ['J', 'D', 1.0], ['M', 'A', 1.0], ['B', 'S', 1], ['N', 'O', 1.0], ['S', 'X', 1.0], ['F', 'T', 1.0], ['V', 'G', 1.0], ['I', 'I', 1], ['D', 'F', 1.0], ['K', 'K', 1.0], ['M', 'O', 1.0], ['N', 'O', 1.0], ['X', 'X', 1], ['Q', 'Y', 1.0], ['M', 'W', 1.0], ['N', 'O', 1.0], ['F', 'H', 1.0], ['N', 'N', 1], ['G', 'C', 1.0], ['R', 'B', 1.0], ['R', 'K', 2.0842828425817514e-52], ['J', 'E', 1.0], ['L', 'L', 1], ['N', 'D', 1.0], ['G', 'E', 1.0], ['B', 'F', 1.0], ['B', 'H', 0.018315638888734182], ['W', 'W', 1], ['E', 'B', 1.0], ['U', 'H', 1.0], ['P', 'F', 1.0], ['U', 'Y', 1.0], ['L', 'G', 1], ['H', 'O', 1.0], ['Y', 'V', 1.0], ['B', 'S', 1.0], ['G', 'C', 1.0], ['N', 'N', 1], ['U', 'H', 1.0], ['L', 'G', 1.0], ['B', 'S', 1.0], ['B', 'S', 3.059023205018258e-07], ['X', 'X', 1], ['Z', 'E', 1.0], ['M', 'N', 1.0], ['N', 'O', 1.0], ['H', 'D', 1.0], ['W', 'W', 1], ['G', 'B', 1.0], ['Q', 'H', 1.0], ['R', 'K', 1.0], ['H', 'O', 1.0], ['G', 'C', 1], ['C', 'E', 1.0], ['M', 'U', 1.0], ['T', 'E', 1.0], ['B', 'X', 1.0], ['T', 'T', 1], ['B', 'S', 1.0], ['F', 'Y', 1.0], ['Q', 'D', 1.0], ['J', 'N', 1.0], ['R', 'R', 1], ['H', 'O', 1.0], ['C', 'E', 1.0], ['E', 'Q', 1.0], ['B', 'S', 1.0], ['Q', 'Q', 1], ['G', 'E', 1.0], ['R', 'K', 1.0], ['P', 'F', 1.0], ['R', 'H', 1.0], ['F', 'S', 1], ['Z', 'S', 1.0], ['F', 'T', 1.0], ['T', 'K', 1.0], ['T', 'Z', 2.916799416564376e-182], ['Q', 'Q', 1], ['P', 'F', 1.0], ['G', 'C', 1.0], ['E', 'K', 1.0], ['B', 'V', 1.0], ['V', 'V', 1], ['N', 'O', 1.0], ['R', 'H', 1.0], ['X', 'R', 1.0], ['S', 'Z', 1.0], ['B', 'B', 1], ['G', 'L', 1.0], ['J', 'A', 1.0], ['G', 'E', 1.0], ['Z', 'E', 1.0], ['K', 'K', 1], ['Z', 'J', 1.0], ['R', 'K', 1.0], ['Q', 'E', 1.0], ['Z', 'S', 1.0], ['O', 'O', 1], ['V', 'Y', 1.0], ['E', 'B', 1.0], ['N', 'D', 1.0], ['U', 'Y', 1.0], ['G', 'C', 1], ['G', 'Q', 1.3336148155022614e-34], ['R', 'B', 1.0], ['R', 'H', 2.937482111710803e-30], ['G', 'C', 1.0], ['Z', 'S', 1], ['B', 'S', 1.0], ['I', 'X', 1.0], ['F', 'Y', 1.0], ['T', 'C', 1.0], ['F', 'F', 1], ['U', 'G', 1.0], ['L', 'S', 1.0], ['H', 'O', 1.0], ['P', 'F', 1.0], ['F', 'F', 1], ['T', 'F', 1.0], ['A', 'Q', 1.0], ['Q', 'B', 1.0], ['S', 'Q', 1.0], ['T', 'T', 1], ['K', 'E', 1.0], ['N', 'O', 1.0], ['T', 'C', 1.0], ['Z', 'T', 1.0], ['A', 'Y', 1], ['X', 'S', 1.0], ['G', 'C', 1.0], ['G', 'C', 1], ['S', 'T', 1.0], ['X', 'X', 1], ['G', 'C', 1.0], ['D', 'S', 1.0], ['K', 'K', 1.0], ['O', 'P', 1.0], ['A', 'A', 1], ['U', 'H', 1.0], ['D', 'T', 1.0], ['Y', 'Y', 1.0], ['H', 'O', 1.0], ['Z', 'Z', 1], ['P', 'H', 1.0], ['G', 'C', 1.0], ['Z', 'J', 1.0], ['V', 'T', 1.0], ['I', 'J', 1], ['K', 'E', 1.0], ['F', 'Y', 1.0], ['G', 'Q', 1.0], ['T', 'Y', 1.0], ['X', 'X', 1], ['D', 'O', 1.0], ['M', 'M', 1.0], ['R', 'D', 1.0], ['C', 'E', 1.0], ['G', 'Q', 1], ['G', 'Q', 1.3336148155022614e-34], ['B', 'S', 1.0], ['B', 'X', 2.061153622438558e-09], ['I', 'J', 1.0], ['T', 'T', 1], ['F', 'Y', 1.0], ['Q', 'S', 1.0], ['E', 'T', 1.0], ['S', 'Q', 1.0], ['D', 'K', 1], ['A', 'A', 1.0], ['Y', 'F', 1.0], ['G', 'O', 1.0], ['U', 'Y', 1.0], ['Z', 'Z', 1], ['R', 'H', 1.0], ['G', 'C', 1.0], ['K', 'H', 1.0], ['F', 'S', 1.0], ['V', 'F', 1], ['Y', 'F', 1.0], ['I', 'J', 1.0], ['N', 'K', 1.0], ['G', 'Q', 1.0], ['L', 'L', 1], ['Z', 'E', 1.0], ['T', 'Y', 1.0], ['H', 'O', 1.0], ['U', 'O', 1.0], ['C', 'C', 1], ['T', 'Y', 1.0], ['G', 'L', 1.0], ['G', 'C', 1], ['R', 'H', 1.0], ['G', 'R', 1], ['N', 'O', 1.0], ['C', 'O', 1.0], ['V', 'Y', 1.0], ['K', 'H', 1.0], ['T', 'T', 1], ['L', 'X', 1.0], ['G', 'C', 1.0], ['N', 'D', 1.0], ['O', 'W', 1.0], ['O', 'Q', 1], ['U', 'G', 1.0], ['V', 'Y', 1.0], ['G', 'S', 1.0], ['N', 'O', 1.0], ['V', 'V', 1], ['S', 'G', 1.0], ['R', 'H', 1.0], ['O', 'H', 1.0], ['B', 'Q', 1.0], ['O', 'F', 1], ['D', 'A', 1.0], ['G', 'C', 0.1353352832366127], ['P', 'F', 1.0], ['G', 'C', 1.0], ['A', 'A', 1], ['I', 'G', 1.0], ['U', 'H', 1.0], ['A', 'G', 1.0], ['U', 'G', 1.0], ['F', 'F', 1], ['Q', 'Y', 1.0], ['V', 'Y', 1.0], ['J', 'Q', 1.0], ['R', 'K', 1.0], ['G', 'Q', 1], ['T', 'E', 1.0], ['X', 'Q', 1.0], ['B', 'T', 1.0], ['V', 'Y', 1.0], ['R', 'R', 1], ['M', 'D', 1.0], ['B', 'H', 1.0], ['F', 'H', 1.0], ['X', 'T', 1.0], ['Z', 'Z', 1], ['R', 'H', 1.0], ['I', 'F', 1.0], ['I', 'S', 7.667648073722e-53], ['G', 'Q', 1.0], ['Q', 'Q', 1], ['Q', 'S', 5.8792826982452694e-105], ['R', 'H', 1.0], ['M', 'U', 1.0], ['C', 'K', 1.0], ['H', 'K', 1], ['V', 'N', 1.0], ['J', 'Q', 1.0], ['N', 'O', 1.0], ['G', 'B', 1.0], ['O', 'H', 1], ['Q', 'E', 1.0], ['N', 'D', 1.0], ['R', 'K', 1.0], ['R', 'K', 2.0842828425817514e-52], ['I', 'I', 1], ['G', 'C', 1.0], ['U', 'H', 1.0], ['Z', 'S', 1.0], ['Q', 'Y', 1.0], ['P', 'P', 1], ['N', 'M', 1.0], ['C', 'A', 1.0], ['Q', 'M', 1.0], ['S', 'P', 1.0], ['B', 'B', 1], ['G', 'C', 1.0], ['M', 'O', 1.0], ['U', 'T', 1.0], ['N', 'O', 1.0], ['M', 'M', 1], ['H', 'O', 1.0], ['F', 'P', 1.0], ['N', 'D', 1.0], ['U', 'M', 1.0], ['P', 'P', 1], ['Q', 'A', 1.0], ['H', 'K', 1.0], ['Q', 'P', 1.0], ['P', 'F', 1.0], ['Y', 'Y', 1], ['A', 'Q', 1.0], ['M', 'D', 1.0], ['B', 'S', 1.0], ['E', 'L', 1.0], ['Y', 'Y', 1], ['R', 'B', 1.0], ['Y', 'M', 1.0], ['B', 'S', 1.0], ['V', 'Y', 1.0], ['M', 'M', 1], ['Q', 'V', 1.0], ['N', 'M', 1.0], ['N', 'O', 7.868448159078602e-63], ['W', 'O', 1.0], ['J', 'D', 1], ['Q', 'P', 1.0], ['G', 'L', 1.0], ['E', 'G', 1.0], ['P', 'F', 1.0], ['U', 'H', 1], ['O', 'W', 1.0], ['P', 'Y', 1.0], ['B', 'H', 1.0], ['H', 'R', 1.0], ['K', 'K', 1], ['I', 'S', 1.0], ['P', 'D', 1.0], ['B', 'S', 1.0], ['D', 'O', 1.0], ['S', 'S', 1], ['Y', 'F', 1.0], ['E', 'G', 1.0], ['Y', 'F', 1.0], ['R', 'H', 1.0], ['N', 'O', 1], ['G', 'Q', 1.0], ['X', 'E', 1.0], ['F', 'P', 1.0], ['S', 'Z', 1.0], ['C', 'C', 1], ['C', 'E', 0.1353352832366127], ['B', 'R', 1.0], ['O', 'H', 1.0], ['I', 'J', 1.0], ['N', 'N', 1], ['P', 'Y', 1.0], ['Y', 'A', 1.0], ['N', 'M', 1.0], ['B', 'D', 1.0], ['X', 'J', 1], ['H', 'Q', 1.0], ['R', 'K', 1.0], ['G', 'L', 1.0], ['A', 'L', 1.0], ['B', 'B', 1], ['G', 'K', 1.0], ['G', 'Q', 1.3336148155022614e-34], ['U', 'G', 1.0], ['G', 'C', 1.0], ['E', 'E', 1], ['J', 'D', 1.0], ['C', 'E', 1.0], ['S', 'X', 1.0], ['R', 'B', 1.0], ['N', 'O', 1], ['U', 'H', 1.0], ['E', 'S', 1.0], ['E', 'L', 1.2664165549094176e-14], ['F', 'C', 1.0], ['J', 'J', 1], ['G', 'K', 1.0], ['F', 'N', 1.0], ['R', 'K', 1.0], ['M', 'A', 1.0], ['H', 'J', 1], ['V', 'T', 1.0], ['R', 'H', 1.0], ['H', 'O', 1.0], ['T', 'I', 1.0], ['N', 'W', 1], ['F', 'N', 1.0], ['S', 'Z', 1.0], ['A', 'R', 1.0], ['H', 'O', 1.0], ['N', 'N', 1], ['P', 'D', 1.0], ['U', 'Y', 1.0], ['R', 'D', 1.0], ['G', 'C', 1.0], ['X', 'X', 1], ['V', 'Y', 1.0], ['R', 'O', 1.0], ['N', 'O', 1.0], ['K', 'H', 1.0], ['H', 'O', 1], ['V', 'Y', 1.0], ['B', 'D', 1.0], ['Q', 'S', 1.0], ['B', 'S', 1.0], ['Y', 'Y', 1], ['S', 'Q', 1.0], ['S', 'B', 1], ['U', 'W', 1.0], ['Q', 'E', 1.0], ['G', 'G', 1], ['E', 'C', 1.0], ['U', 'T', 1.0], ['M', 'A', 1.0], ['L', 'Q', 1.0], ['R', 'R', 1], ['K', 'F', 1.0], ['N', 'O', 1.0], ['S', 'G', 1.0], ['U', 'Y', 1.0], ['Z', 'S', 1], ['B', 'D', 1.0], ['G', 'C', 1.0], ['S', 'Z', 1.0], ['N', 'D', 1.0], ['M', 'M', 1], ['V', 'M', 1.0], ['K', 'B', 1.0], ['H', 'O', 1.0], ['R', 'D', 1.0], ['E', 'E', 1], ['U', 'G', 1.0], ['G', 'E', 1.0], ['M', 'N', 1.0], ['P', 'I', 1.0], ['U', 'U', 1], ['W', 'A', 1.0], ['G', 'X', 1.0], ['V', 'Y', 1.0], ['Q', 'E', 1.0], ['U', 'U', 1], ['G', 'C', 1.0], ['G', 'C', 1], ['B', 'K', 1.0], ['N', 'O', 1.0], ['W', 'W', 1], ['C', 'E', 1.0], ['D', 'N', 1.0], ['F', 'Y', 0.1353352832366127], ['X', 'K', 1.0], ['M', 'M', 1], ['S', 'J', 1.0], ['L', 'S', 1.0], ['N', 'M', 1.0], ['Y', 'F', 1.0], ['I', 'I', 1], ['H', 'J', 1.0], ['O', 'D', 1.0], ['S', 'T', 1.0], ['L', 'D', 1.0], ['K', 'K', 1], ['P', 'F', 1.0], ['X', 'Y', 1.0], ['T', 'F', 1.0], ['D', 'A', 1.0], ['M', 'M', 1], ['J', 'I', 1.0], ['E', 'Z', 1.0], ['S', 'X', 1.0], ['R', 'K', 1.0], ['W', 'W', 1], ['X', 'L', 1.0], ['D', 'B', 1.0], ['G', 'G', 1.0], ['N', 'O', 1.0], ['R', 'H', 1], ['R', 'B', 1], ['V', 'N', 1.0], ['E', 'Q', 1.0], ['N', 'O', 1.0], ['I', 'I', 1], ['U', 'H', 1.0], ['G', 'C', 1.0], ['A', 'Y', 1.0], ['R', 'H', 1.0], ['W', 'W', 1], ['G', 'Q', 1.0], ['U', 'A', 1.0], ['B', 'S', 1.0], ['V', 'Y', 1.0], ['V', 'V', 1], ['V', 'Y', 2.993184452260193e-192], ['H', 'O', 1.0], ['H', 'N', 3.975449735908647e-31], ['Z', 'S', 1.0], ['M', 'M', 1], ['X', 'F', 1.0], ['F', 'J', 1.0], ['U', 'W', 1.0], ['H', 'X', 1.0], ['E', 'E', 1], ['S', 'A', 1.0], ['L', 'E', 1.0], ['U', 'Y', 1.0], ['G', 'C', 1.0], ['R', 'K', 1], ['B', 'S', 1.0], ['M', 'U', 1.0], ['G', 'C', 1.0], ['X', 'J', 1.0], ['Y', 'Y', 1], ['E', 'S', 1.0], ['W', 'M', 1.0], ['Z', 'S', 1.0], ['J', 'Q', 1.0], ['T', 'T', 1], ['Y', 'F', 1.0], ['G', 'L', 1.0], ['G', 'E', 0.0024787521766663585], ['C', 'G', 1.0], ['F', 'F', 1], ['T', 'X', 1.0], ['M', 'W', 1.0], ['H', 'D', 1.0], ['S', 'E', 1.0], ['H', 'H', 1], ['D', 'R', 1.0], ['G', 'G', 1.0], ['J', 'C', 1.0], ['V', 'H', 1.0], ['U', 'L', 1], ['C', 'O', 1.0], ['A', 'R', 1.0], ['B', 'T', 1.0], ['P', 'F', 1.0], ['O', 'H', 1], ['V', 'Y', 1.0], ['Q', 'S', 1.0], ['D', 'J', 1.0], ['P', 'P', 1.0], ['U', 'U', 1], ['Z', 'S', 1.0], ['V', 'N', 1.0], ['C', 'E', 1.0], ['N', 'R', 1.0], ['P', 'P', 1], ['U', 'Y', 1.0], ['V', 'G', 1.0], ['V', 'Y', 2.993184452260193e-192], ['N', 'O', 1.0], ['Q', 'Q', 1], ['H', 'R', 1.0], ['Z', 'J', 1.0], ['J', 'E', 1.0], ['L', 'E', 1.0], ['G', 'G', 1], ['G', 'C', 1], ['N', 'W', 1.0], ['G', 'C', 1.0], ['Q', 'S', 1.0], ['Y', 'Y', 1], ['W', 'M', 1.0], ['P', 'F', 1.0], ['K', 'C', 1.0], ['B', 'H', 1.0], ['S', 'S', 1], ['P', 'F', 1.0], ['R', 'N', 1.0], ['G', 'H', 1.0], ['S', 'R', 1.0], ['V', 'Y', 1], ['M', 'N', 1.0], ['U', 'H', 1.0], ['Z', 'S', 1.0], ['X', 'Q', 1.0], ['C', 'C', 1], ['Y', 'F', 1.0], ['J', 'C', 1.0], ['R', 'K', 1.0], ['H', 'K', 1.0], ['O', 'O', 1], ['N', 'O', 1.0], ['G', 'Q', 1.0], ['M', 'R', 1.0], ['Z', 'S', 1.0], ['O', 'O', 1], ['R', 'K', 1.0], ['G', 'Q', 1.0], ['V', 'F', 1.0], ['B', 'S', 1.0], ['D', 'A', 1], ['J', 'J', 1.0], ['D', 'B', 1.0], ['A', 'A', 1.0], ['C', 'E', 1.0], ['L', 'E', 1], ['O', 'W', 1.0], ['H', 'K', 1.0], ['R', 'K', 1.0], ['K', 'R', 1.0], ['S', 'S', 1], ['U', 'H', 1.0], ['K', 'G', 1.0], ['U', 'H', 1.0], ['K', 'E', 1.0], ['R', 'H', 1], ['D', 'A', 1.0], ['J', 'E', 0.1353352832366127], ['G', 'Q', 1.0], ['D', 'B', 1.0], ['Q', 'H', 0.16240233988393524], ['U', 'Y', 1.0], ['V', 'Y', 1.0], ['T', 'Y', 1.0], ['N', 'O', 1.0], ['C', 'C', 1], ['M', 'B', 1.0], ['P', 'F', 1.0], ['Q', 'G', 1.0], ['R', 'H', 1.0], ['T', 'T', 1], ['U', 'H', 1.0], ['D', 'O', 1.0], ['S', 'S', 1.0], ['M', 'U', 1.0], ['V', 'V', 1], ['U', 'H', 1.0], ['P', 'Y', 1.0], ['N', 'O', 1.0], ['H', 'K', 1.0], ['G', 'C', 1], ['G', 'E', 0.0024787521766663585], ['X', 'R', 1.0], ['B', 'S', 1.0], ['Z', 'S', 1.0], ['J', 'J', 1], ['Q', 'O', 1.0], ['J', 'A', 1.0], ['C', 'E', 1.0], ['Q', 'Y', 1.0], ['K', 'K', 1], ['U', 'G', 1.0], ['H', 'C', 1.0], ['O', 'Q', 1.0], ['S', 'B', 1.0], ['W', 'W', 1], ['J', 'D', 1.0], ['Z', 'S', 1.0], ['Q', 'B', 1.0], ['Q', 'M', 2.8946403116483003e-63], ['N', 'O', 1], ['C', 'E', 1.0], ['M', 'K', 1.0], ['Q', 'G', 1.0], ['C', 'K', 1.0], ['I', 'I', 1], ['Z', 'S', 1.0], ['J', 'A', 1.0], ['B', 'R', 1.0], ['G', 'E', 1.0], ['X', 'X', 1], ['V', 'W', 1.0], ['V', 'Y', 2.993184452260193e-192], ['Z', 'S', 1.0], ['L', 'C', 1.0], ['K', 'K', 1], ['H', 'O', 1.0], ['W', 'M', 1.0], ['H', 'D', 1.0], ['V', 'F', 1.0], ['Q', 'Q', 1], ['B', 'X', 1.0], ['I', 'A', 1.0], ['N', 'O', 1.0], ['B', 'I', 1.0], ['U', 'U', 1], ['D', 'T', 1.0], ['V', 'V', 1.0], ['V', 'Y', 2.993184452260193e-192], ['Q', 'P', 1.0], ['C', 'C', 1], ['P', 'F', 1.0], ['Z', 'S', 1.0], ['J', 'E', 1.0], ['V', 'N', 1.0], ['D', 'D', 1], ['N', 'D', 0.1353352832366127], ['R', 'K', 1.0], ['Y', 'V', 1.0], ['O', 'C', 1.0], ['L', 'C', 1], ['X', 'Q', 1.0], ['T', 'F', 1.0], ['D', 'B', 1.0], ['F', 'F', 1.0], ['X', 'X', 1], ['R', 'K', 1.0], ['T', 'Y', 1.0], ['A', 'R', 1.0], ['H', 'Y', 1.0], ['N', 'O', 1], ['V', 'T', 1.0], ['E', 'P', 1.0], ['E', 'L', 1.2664165549094176e-14], ['T', 'F', 1.0], ['S', 'S', 1], ['T', 'F', 1.0], ['J', 'C', 1.0], ['A', 'Y', 1.0], ['R', 'E', 1.0], ['A', 'A', 1], ['R', 'K', 1.0], ['M', 'B', 1.0], ['A', 'L', 1.0], ['R', 'B', 1.0], ['H', 'O', 1], ['B', 'S', 1.0], ['N', 'D', 1.0], ['L', 'G', 1.0], ['U', 'Y', 1.0], ['M', 'M', 1], ['D', 'O', 1.0], ['R', 'H', 0.1353352832366127], ['R', 'H', 2.937482111710803e-30], ['P', 'F', 1.0], ['I', 'I', 1], ['F', 'S', 1.0], ['G', 'Q', 1.0], ['A', 'R', 1.0], ['V', 'F', 1.0], ['N', 'O', 1], ['F', 'D', 1.0], ['E', 'L', 1.0], ['B', 'S', 1.0], ['B', 'S', 3.059023205018258e-07], ['R', 'R', 1], ['V', 'Y', 1.0], ['A', 'R', 1.0], ['Z', 'S', 1.0], ['M', 'W', 1.0], ['X', 'X', 1], ['R', 'B', 1.0], ['B', 'S', 1.0], ['G', 'V', 1.0], ['G', 'C', 1], ['C', 'C', 1], ['R', 'H', 1.0], ['G', 'B', 1.0], ['U', 'Y', 1.0], ['X', 'O', 1.0], ['L', 'D', 1], ['R', 'B', 1.0], ['U', 'H', 1.0], ['Y', 'I', 1.0], ['B', 'S', 1.0], ['O', 'O', 1], ['G', 'K', 1.0], ['P', 'L', 1.0], ['C', 'E', 1.0], ['E', 'L', 1.0], ['S', 'S', 1], ['H', 'O', 1.0], ['I', 'L', 1.0], ['B', 'Q', 1.0], ['H', 'O', 1.0], ['D', 'D', 1], ['D', 'S', 0.1353352832366127], ['I', 'I', 1.0], ['B', 'H', 1.0], ['X', 'R', 1.0], ['Y', 'Y', 1], ['J', 'C', 1.0], ['D', 'G', 1.0], ['Y', 'F', 0.1353352832366127], ['G', 'S', 1.0], ['C', 'C', 1], ['D', 'G', 1.0], ['X', 'X', 1.0], ['E', 'K', 1.0], ['S', 'B', 1.0], ['T', 'E', 1], ['J', 'I', 1.0], ['H', 'B', 1.0], ['B', 'S', 1.0], ['T', 'K', 1.0], ['P', 'P', 1], ['R', 'K', 1.0], ['F', 'P', 1.0], ['H', 'D', 1.0], ['Q', 'L', 1.0], ['X', 'X', 1], ['H', 'K', 1.0], ['R', 'D', 1.0], ['L', 'M', 1.0], ['U', 'Y', 1.0], ['G', 'G', 1], ['N', 'D', 1.0], ['W', 'M', 1.0], ['U', 'H', 1.0], ['O', 'Q', 1.0], ['A', 'A', 1], ['P', 'Y', 1.0], ['N', 'O', 1.0], ['V', 'Y', 1.0], ['N', 'H', 1.0], ['G', 'Q', 1], ['B', 'Q', 1.0], ['N', 'O', 1.0], ['U', 'K', 1.0], ['N', 'H', 1.0], ['E', 'E', 1], ['A', 'L', 1.0], ['Z', 'E', 1.0], ['H', 'D', 1.0], ['G', 'C', 1.0], ['C', 'C', 1], ['M', 'W', 1.0], ['H', 'T', 1.0], ['V', 'N', 1.0], ['Q', 'B', 1.0], ['U', 'U', 1], ['R', 'B', 1.0], ['N', 'O', 1.0], ['T', 'Y', 1.0], ['K', 'C', 1.0], ['R', 'R', 1], ['P', 'F', 1.0], ['Z', 'S', 1.0], ['V', 'F', 1.0], ['N', 'O', 1.0], ['O', 'O', 1], ['H', 'O', 1.0], ['L', 'Q', 1.0], ['C', 'E', 1.0], ['T', 'X', 1.0], ['M', 'M', 1], ['G', 'C', 1.0], ['H', 'Y', 1.0], ['G', 'C', 1.0], ['O', 'H', 1.0], ['M', 'M', 1], ['Q', 'H', 1.0], ['O', 'H', 1.0], ['Q', 'L', 1.0], ['W', 'U', 1.0], ['F', 'F', 1], ['L', 'D', 1.0], ['E', 'Q', 1.0], ['B', 'R', 1.0], ['B', 'P', 6.14421235332821e-06], ['M', 'M', 1], ['P', 'Y', 1.0], ['C', 'E', 1.0], ['B', 'I', 1.0], ['Q', 'G', 1.0], ['E', 'E', 1], ['U', 'H', 1.0], ['U', 'C', 1], ['V', 'F', 1.0], ['M', 'N', 1.0], ['J', 'J', 1], ['G', 'C', 1.0], ['G', 'C', 1], ['H', 'K', 1.0], ['N', 'D', 1.0], ['O', 'O', 1], ['X', 'K', 1.0], ['S', 'P', 1.0], ['K', 'E', 1.0], ['G', 'B', 1.0], ['M', 'A', 1], ['G', 'C', 1.0], ['L', 'K', 1.0], ['S', 'Z', 1.0], ['N', 'M', 1.0], ['W', 'W', 1], ['R', 'H', 1.0], ['H', 'R', 1.0], ['P', 'F', 1.0], ['D', 'G', 1.0], ['S', 'B', 0.16240233988393524], ['H', 'B', 1.0], ['F', 'T', 1.0], ['T', 'Y', 1.0], ['E', 'Q', 1.0], ['E', 'E', 1], ['F', 'H', 1.0], ['H', 'O', 1.0], ['M', 'D', 1.0], ['Z', 'I', 1.0], ['J', 'J', 1], ['C', 'E', 1.0], ['U', 'H', 1.0], ['V', 'N', 1.0], ['M', 'W', 1.0], ['I', 'S', 1], ['G', 'H', 1.0], ['R', 'H', 1.0], ['B', 'S', 1.0], ['R', 'H', 1.0], ['G', 'H', 1], ['B', 'S', 1.0], ['U', 'C', 1.0], ['E', 'S', 1.0], ['F', 'T', 1.0], ['N', 'N', 1], ['A', 'Z', 1.0], ['Q', 'H', 1.0], ['S', 'F', 1.0], ['H', 'D', 1.0], ['Y', 'Y', 1], ['K', 'E', 1.0], ['A', 'R', 1.0], ['O', 'H', 1.0], ['L', 'D', 1.0], ['F', 'F', 1], ['J', 'Q', 1.0], ['U', 'H', 1.0], ['P', 'D', 1.0], ['J', 'A', 1.0], ['L', 'L', 1], ['G', 'L', 1.0], ['D', 'O', 1.0], ['R', 'K', 0.1353352832366127], ['D', 'G', 1.0], ['F', 'D', 0.16240233988393524], ['H', 'M', 1.0], ['S', 'Z', 1.0], ['S', 'B', 1], ['T', 'E', 1.0], ['O', 'O', 1], ['O', 'J', 3.305700626760734e-37], ['H', 'D', 1.0], ['A', 'S', 1.0], ['N', 'W', 1.0], ['E', 'E', 1], ['P', 'G', 1.0], ['Y', 'T', 1.0], ['J', 'A', 1.0], ['L', 'X', 1.0], ['H', 'O', 1], ['H', 'O', 3.625140919143559e-34], ['T', 'Y', 1.0], ['Q', 'G', 1.0], ['U', 'C', 1.0], ['X', 'D', 1], ['V', 'H', 1.0], ['Y', 'U', 1.0], ['Z', 'S', 1.0], ['L', 'E', 1.0], ['Y', 'Y', 1], ['A', 'G', 1.0], ['G', 'P', 1.0], ['V', 'H', 1.0], ['F', 'J', 1.0], ['I', 'I', 1], ['F', 'E', 1.0], ['N', 'U', 1.0], ['H', 'K', 1.0], ['Z', 'E', 1.0], ['Q', 'P', 1], ['X', 'S', 1.0], ['R', 'H', 1.0], ['U', 'G', 1.0], ['Z', 'S', 1.0], ['Y', 'Y', 1], ['P', 'D', 1.0], ['Q', 'E', 1.0], ['D', 'P', 1.0], ['Q', 'Q', 1.0], ['X', 'X', 1], ['F', 'E', 1.0], ['G', 'O', 1.0], ['Y', 'X', 1.0], ['X', 'J', 1.0], ['G', 'C', 1], ['L', 'O', 1.0], ['G', 'Q', 1.0], ['N', 'A', 1.0], ['B', 'S', 1.0], ['N', 'N', 1], ['G', 'B', 1.0], ['V', 'Y', 1.0], ['L', 'Q', 1.0], ['F', 'J', 1.0], ['Z', 'S', 1], ['C', 'E', 1.0], ['U', 'A', 1.0], ['P', 'F', 1.0], ['V', 'W', 1.0], ['F', 'P', 1], ['Z', 'S', 1.0], ['D', 'J', 1.0], ['G', 'G', 1.0], ['P', 'F', 1.0], ['O', 'H', 1], ['U', 'H', 1.0], ['R', 'Q', 1.0], ['U', 'Y', 1.0], ['G', 'C', 1.0], ['F', 'F', 1], ['N', 'C', 1.0], ['E', 'L', 1.0], ['N', 'K', 1.0], ['G', 'L', 1.0], ['V', 'Y', 1], ['Q', 'G', 1.0], ['V', 'Y', 1.0], ['O', 'H', 1.0], ['R', 'K', 1.0], ['O', 'F', 1], ['J', 'C', 1.0], ['N', 'O', 1.0], ['M', 'U', 1.0], ['A', 'K', 1.0], ['F', 'F', 1], ['C', 'E', 1.0], ['G', 'O', 1.0], ['Z', 'S', 1.0], ['N', 'A', 1.0], ['C', 'C', 1], ['U', 'C', 1.0], ['J', 'D', 1.0], ['E', 'L', 1.0], ['D', 'H', 1.0], ['C', 'C', 1], ['J', 'D', 1.0], ['S', 'Z', 1.0], ['B', 'S', 1.0], ['O', 'H', 1.0], ['U', 'G', 1], ['P', 'F', 1.0], ['D', 'U', 1.0], ['I', 'I', 1.0], ['Z', 'S', 1.0], ['W', 'W', 1], ['M', 'O', 1.0], ['H', 'O', 1.0], ['Y', 'F', 1.0], ['V', 'Y', 1.0], ['H', 'H', 1], ['U', 'Y', 1.0], ['R', 'N', 1.0], ['K', 'R', 1.0], ['U', 'W', 1.0], ['X', 'X', 1], ['W', 'O', 1.0], ['U', 'W', 1.0], ['B', 'S', 1.0], ['Z', 'J', 1.0], ['W', 'W', 1], ['W', 'M', 1.0225689071173033e-86], ['U', 'H', 1.0], ['L', 'T', 1.0], ['G', 'C', 1.0], ['G', 'Q', 1], ['Q', 'E', 1.0], ['V', 'Y', 1.0], ['M', 'K', 1.0], ['D', 'H', 1.0], ['Y', 'Y', 1], ['Z', 'S', 1.0], ['V', 'Y', 1.0], ['N', 'D', 1.0], ['G', 'Q', 1.0], ['O', 'O', 1], ['U', 'H', 1.0], ['N', 'O', 1.0], ['Q', 'E', 1.0], ['L', 'S', 1.0], ['G', 'H', 1], ['G', 'E', 0.0024787521766663585], ['K', 'E', 1.0], ['K', 'H', 4.248354255291589e-18], ['I', 'J', 1.0], ['I', 'I', 1], ['Z', 'I', 1.0], ['J', 'O', 1.0], ['P', 'D', 1.0], ['Z', 'S', 1.0], ['O', 'O', 1], ['M', 'W', 1.0], ['V', 'F', 1.0], ['K', 'H', 1.0], ['K', 'C', 1], ['N', 'H', 1], ['G', 'Q', 1.0], ['S', 'T', 1.0], ['E', 'L', 1.0], ['B', 'S', 1.0], ['Q', 'Q', 1], ['W', 'V', 1.0], ['G', 'Q', 1.0], ['N', 'K', 1.0], ['U', 'H', 1.0], ['W', 'W', 1], ['V', 'T', 1.0], ['Z', 'I', 1.0], ['J', 'I', 1.0], ['K', 'C', 1.0], ['X', 'X', 1], ['G', 'K', 1.0], ['Y', 'U', 1.0], ['U', 'O', 1.0], ['B', 'S', 1.0], ['R', 'R', 1], ['T', 'K', 1.0], ['T', 'Z', 2.916799416564376e-182], ['T', 'Y', 5.205970713164919e-174], ['V', 'Y', 1.0], ['L', 'D', 1], ['Q', 'S', 1.0], ['N', 'O', 1.0], ['J', 'C', 1.0], ['X', 'K', 1.0], ['C', 'E', 1], ['O', 'M', 1.0], ['G', 'Q', 1.0], ['G', 'C', 1], ['G', 'L', 1.4251640827409352e-21], ['L', 'L', 1], ['B', 'Q', 1.0], ['D', 'O', 1.0], ['Y', 'Y', 1.0], ['R', 'K', 1.0], ['J', 'J', 1], ['G', 'C', 1.0], ['A', 'R', 1.0], ['R', 'L', 1.0], ['T', 'Y', 1.0], ['I', 'I', 1], ['U', 'N', 1.0], ['M', 'U', 1.0], ['V', 'T', 1.0], ['V', 'H', 3.3057006267607343e-37], ['P', 'P', 1], ['I', 'X', 1.0], ['H', 'Y', 1.0], ['G', 'C', 1.0], ['U', 'H', 1.0], ['I', 'J', 1], ['C', 'E', 1.0], ['G', 'H', 1.0], ['S', 'Q', 1.0], ['H', 'B', 1.0], ['T', 'Y', 1], ['O', 'J', 1.0], ['D', 'B', 1.0], ['M', 'M', 1.0], ['B', 'S', 1.0], ['A', 'A', 1], ['I', 'J', 1.0], ['S', 'Z', 1.0], ['M', 'N', 1.0], ['F', 'H', 1.0], ['H', 'O', 1], ['J', 'I', 1.0], ['D', 'O', 1.0], ['C', 'C', 1.0], ['R', 'B', 1.0], ['S', 'S', 1], ['B', 'H', 1.0], ['A', 'Z', 1.0], ['P', 'V', 1.0], ['C', 'K', 1.0], ['N', 'N', 1], ['F', 'Y', 1.0], ['U', 'Y', 1.0], ['L', 'Q', 1.0], ['M', 'D', 1.0], ['T', 'T', 1], ['L', 'D', 1.0], ['U', 'C', 1.0], ['L', 'D', 1.0], ['C', 'E', 1.0], ['J', 'J', 1], ['Z', 'J', 1.0], ['Z', 'T', 1.9151695967140057e-174], ['Q', 'G', 1.0], ['P', 'F', 1.0], ['D', 'D', 1], ['E', 'Q', 0.1353352832366127], ['Z', 'S', 1.0], ['U', 'T', 1.0], ['K', 'B', 1.0], ['T', 'T', 1], ['N', 'O', 1.0], ['M', 'N', 1.0], ['U', 'T', 1.0], ['U', 'T', 1.0611231537463512e-139], ['C', 'F', 1], ['I', 'X', 1.0], ['D', 'O', 1.0], ['B', 'B', 1.0], ['H', 'K', 1.0], ['Z', 'J', 1], ['H', 'O', 1.0], ['Z', 'I', 1.0], ['X', 'R', 1.0], ['M', 'O', 1.0], ['V', 'V', 1], ['M', 'U', 1.0], ['Q', 'E', 1.0], ['A', 'R', 1.0], ['C', 'E', 1.0], ['Q', 'Q', 1], ['L', 'E', 1.0], ['B', 'S', 1.0], ['D', 'P', 1.0], ['W', 'W', 1.0], ['Z', 'Z', 1], ['G', 'K', 1.0], ['S', 'G', 1.0], ['Q', 'O', 1.0], ['T', 'F', 1.0], ['O', 'O', 1], ['G', 'V', 1.0], ['H', 'O', 1.0], ['V', 'Y', 1.0], ['D', 'R', 1.0], ['N', 'N', 1], ['J', 'A', 1.0], ['R', 'H', 1.0], ['C', 'E', 1.0], ['G', 'F', 1.0], ['A', 'A', 1], ['G', 'C', 1.0], ['Z', 'S', 1.0], ['N', 'O', 1.0], ['Z', 'J', 1.0], ['S', 'S', 1], ['T', 'F', 1.0], ['L', 'E', 1.0], ['O', 'H', 1.0], ['U', 'H', 1.0], ['O', 'O', 1], ['H', 'O', 1.0], ['X', 'L', 1.0], ['Z', 'S', 1.0], ['R', 'K', 1.0], ['K', 'K', 1], ['G', 'Q', 1.0], ['C', 'F', 1.0], ['N', 'H', 1.0], ['M', 'N', 1.0], ['N', 'O', 1], ['B', 'S', 1.0], ['J', 'A', 1.0], ['B', 'S', 1.0], ['A', 'Z', 1.0], ['C', 'G', 1], ['Z', 'S', 1.0], ['Z', 'S', 1.3790159402541388e-163], ['X', 'Q', 1.0], ['J', 'O', 1.0], ['N', 'D', 1], ['N', 'D', 1.0], ['R', 'B', 1.0], ['U', 'H', 1.0], ['N', 'U', 1.0], ['E', 'E', 1], ['N', 'O', 1.0], ['O', 'C', 1.0], ['D', 'A', 1.0], ['W', 'W', 1.0], ['S', 'S', 1], ['N', 'O', 1.0], ['O', 'H', 1.0], ['B', 'D', 1.0], ['Z', 'E', 1.0], ['F', 'F', 1], ['U', 'A', 1.0], ['H', 'V', 1.0], ['R', 'N', 1.0], ['S', 'K', 1.0], ['M', 'U', 1], ['G', 'L', 1.0], ['H', 'O', 1.0], ['U', 'H', 1.0], ['H', 'K', 1.0], ['B', 'S', 1], ['S', 'T', 1.0], ['W', 'M', 1.0], ['J', 'A', 1.0], ['R', 'B', 1.0], ['V', 'U', 1], ['R', 'D', 1.0], ['Y', 'F', 1.0], ['M', 'B', 1.0], ['Z', 'S', 1.0], ['E', 'E', 1], ['P', 'A', 1.0], ['E', 'B', 1.0], ['Q', 'L', 1.0], ['V', 'Y', 1.0], ['E', 'E', 1], ['F', 'Y', 1.0], ['L', 'X', 1.0], ['J', 'O', 1.0], ['V', 'W', 1.0], ['Q', 'Q', 1], ['U', 'H', 1.0], ['Q', 'A', 1.0], ['Z', 'J', 1.0], ['U', 'H', 1.0], ['K', 'H', 1], ['N', 'O', 1.0], ['N', 'O', 7.868448159078602e-63], ['J', 'A', 1.0], ['O', 'G', 1.0], ['K', 'K', 1], ['N', 'R', 1.0], ['M', 'W', 1.0], ['X', 'E', 1.0], ['M', 'N', 1.0], ['V', 'V', 1], ['B', 'S', 1.0], ['P', 'Y', 1.0], ['U', 'O', 1.0], ['Z', 'J', 1.0], ['X', 'X', 1], ['G', 'C', 1.0], ['Q', 'P', 1.0], ['L', 'H', 1.0], ['G', 'C', 1.0], ['R', 'O', 1], ['R', 'H', 2.937482111710803e-30], ['Z', 'T', 1.0], ['G', 'C', 1.0], ['P', 'F', 1.0], ['S', 'S', 1], ['N', 'D', 1.0], ['P', 'Y', 1.0], ['C', 'E', 1.0], ['R', 'B', 1.0], ['N', 'O', 1], ['R', 'D', 1.0], ['V', 'T', 1.0], ['R', 'H', 1.0], ['N', 'O', 1.0], ['C', 'G', 1], ['K', 'D', 1.0], ['N', 'O', 1.0], ['J', 'E', 1.0], ['G', 'C', 1.0], ['C', 'C', 1], ['Z', 'S', 1.0], ['U', 'C', 1.0], ['H', 'O', 1.0], ['U', 'Y', 1.0], ['M', 'M', 1], ['T', 'F', 1.0], ['V', 'Y', 1.0], ['J', 'E', 1.0], ['W', 'V', 1.0], ['X', 'X', 1], ['W', 'M', 1.0], ['V', 'H', 1.0], ['Z', 'S', 1.0], ['H', 'B', 1.0], ['Y', 'Y', 1], ['N', 'O', 1.0], ['L', 'D', 1.0], ['G', 'E', 1.0], ['U', 'L', 1.0], ['H', 'H', 1], ['S', 'J', 1.0], ['G', 'H', 1.0], ['L', 'D', 1.0], ['B', 'X', 1.0], ['N', 'N', 1], ['O', 'J', 1.0], ['Z', 'S', 1.0], ['P', 'V', 1.0], ['U', 'T', 1.0], ['R', 'D', 1], ['N', 'W', 1.0], ['S', 'J', 1.0], ['F', 'J', 1.0], ['H', 'P', 1.0], ['F', 'F', 1], ['K', 'E', 1.0], ['R', 'P', 1.0], ['Z', 'J', 1.0], ['V', 'H', 1.0], ['R', 'D', 1], ['T', 'P', 1.0], ['W', 'M', 1.0], ['V', 'Y', 1.0], ['U', 'M', 1.0], ['L', 'L', 1], ['C', 'G', 1.0], ['B', 'S', 1.0], ['Q', 'G', 1.0], ['R', 'H', 1.0], ['S', 'S', 1], ['K', 'C', 1.0], ['J', 'H', 1.0], ['G', 'E', 1.0], ['N', 'M', 1.0], ['M', 'M', 1], ['B', 'S', 1.0], ['L', 'D', 1.0], ['X', 'S', 1.0], ['B', 'S', 1.0], ['V', 'T', 1], ['B', 'I', 1.0], ['X', 'Q', 1.0], ['B', 'S', 1.0], ['P', 'F', 1.0], ['I', 'I', 1], ['Q', 'G', 1.0], ['N', 'K', 1.0], ['U', 'H', 1.0], ['O', 'A', 1.0], ['S', 'Z', 1], ['B', 'S', 1.0], ['N', 'D', 1.0], ['S', 'T', 1.0], ['K', 'H', 1.0], ['L', 'L', 1], ['U', 'C', 1.0], ['B', 'S', 1.0], ['G', 'C', 1.0], ['F', 'H', 1.0], ['C', 'C', 1], ['B', 'S', 1.0], ['Z', 'I', 1.0], ['D', 'X', 1.0], ['Q', 'O', 0.1353352832366127], ['X', 'X', 1], ['I', 'J', 1.0], ['O', 'M', 1.0], ['E', 'Z', 1.0], ['F', 'P', 1.0], ['E', 'E', 1], ['A', 'G', 1.0], ['U', 'Y', 1.0], ['H', 'K', 1.0], ['U', 'Y', 1.0], ['A', 'A', 1], ['B', 'S', 1.0], ['S', 'Z', 1.0], ['U', 'W', 1.0], ['O', 'G', 1.0], ['R', 'R', 1], ['J', 'E', 1.0], ['K', 'G', 1.0], ['F', 'H', 1.0], ['J', 'I', 1.0], ['L', 'L', 1], ['Y', 'F', 1.0], ['O', 'G', 1.0], ['U', 'H', 1.0], ['E', 'L', 1.0], ['I', 'I', 1], ['B', 'H', 1.0], ['U', 'H', 1.0], ['D', 'J', 1.0], ['I', 'I', 1.0], ['A', 'A', 1], ['L', 'E', 1.0], ['D', 'P', 1.0], ['R', 'R', 1.0], ['Z', 'B', 1.0], ['J', 'A', 1], ['H', 'U', 1.0], ['Y', 'V', 1.0], ['K', 'H', 1.0], ['D', 'B', 1.0], ['P', 'P', 1], ['Q', 'G', 1.0], ['P', 'K', 1.0], ['C', 'G', 1.0], ['V', 'H', 1.0], ['R', 'R', 1], ['B', 'K', 1.0], ['P', 'F', 1.0], ['N', 'O', 1.0], ['U', 'T', 1.0], ['G', 'G', 1], ['V', 'H', 1.0], ['N', 'O', 1.0], ['X', 'K', 1.0], ['X', 'R', 1.4360740256119015e-140], ['P', 'P', 1], ['H', 'O', 1.0], ['X', 'Q', 1.0], ['V', 'R', 1.0], ['L', 'E', 1.0], ['N', 'O', 1], ['H', 'R', 1.0], ['M', 'U', 1.0], ['R', 'H', 1.0], ['A', 'G', 1.0], ['Q', 'Q', 1], ['E', 'Z', 1.0], ['C', 'T', 1.0], ['M', 'D', 1.0], ['J', 'A', 1.0], ['V', 'V', 1], ['M', 'N', 1.0], ['G', 'Q', 1.0], ['U', 'H', 1.0], ['M', 'K', 1.0], ['D', 'D', 1], ['W', 'W', 1.0], ['K', 'L', 1.0], ['O', 'H', 1.0], ['U', 'H', 1.0], ['T', 'T', 1], ['O', 'Q', 1.0], ['U', 'G', 1.0], ['S', 'G', 1.0], ['H', 'K', 1.0], ['R', 'R', 1], ['G', 'C', 1.0], ['B', 'H', 1.0], ['W', 'B', 1.0], ['H', 'D', 1.0], ['F', 'F', 1], ['G', 'L', 1.0], ['K', 'R', 1.0], ['U', 'H', 1.0], ['L', 'S', 1.0], ['G', 'C', 1], ['G', 'Q', 1.3336148155022614e-34], ['O', 'D', 1.0], ['D', 'H', 1.0], ['B', 'B', 1.0], ['D', 'D', 1], ['R', 'K', 0.1353352832366127], ['V', 'H', 1.0], ['U', 'W', 1.0], ['X', 'Q', 1.0], ['S', 'S', 1], ['M', 'W', 1.0], ['W', 'M', 1.0], ['D', 'B', 1.0], ['W', 'W', 1.0], ['D', 'D', 1], ['J', 'Z', 0.1353352832366127], ['P', 'G', 1.0], ['Y', 'F', 1.0], ['Q', 'G', 1.0], ['D', 'D', 1], ['C', 'C', 1.0], ['M', 'K', 1.0], ['Q', 'G', 1.0], ['D', 'N', 1.0], ['X', 'X', 1], ['N', 'O', 1.0], ['P', 'F', 1.0], ['D', 'O', 1.0], ['V', 'V', 1.0], ['S', 'S', 1], ['J', 'E', 1.0], ['Z', 'I', 1.0], ['F', 'V', 1.0], ['N', 'W', 1.0], ['G', 'C', 1], ['G', 'Q', 1.3336148155022614e-34], ['G', 'C', 1], ['J', 'I', 1.0], ['G', 'C', 1.0], ['H', 'H', 1], ['U', 'Y', 1.0], ['H', 'O', 1.0], ['P', 'D', 1.0], ['H', 'D', 1.0], ['C', 'C', 1], ['Z', 'S', 1.0], ['G', 'C', 1.0], ['V', 'H', 1.0], ['L', 'D', 1.0], ['X', 'X', 1], ['G', 'C', 1.0], ['R', 'B', 1.0], ['R', 'D', 1.0], ['T', 'F', 1.0], ['U', 'U', 1], ['P', 'F', 1.0], ['G', 'B', 1.0], ['Z', 'S', 1.0], ['S', 'G', 1.0], ['B', 'B', 1], ['K', 'G', 1.0], ['B', 'S', 1.0], ['B', 'S', 3.059023205018258e-07], ['M', 'B', 1.0], ['G', 'H', 1], ['B', 'H', 1.0], ['K', 'H', 1.0], ['X', 'S', 1.0], ['V', 'F', 1.0], ['M', 'U', 1], ['O', 'X', 1.0], ['Q', 'G', 1.0], ['S', 'F', 1.0], ['H', 'B', 1.0], ['E', 'E', 1], ['H', 'D', 1.0], ['U', 'H', 1.0], ['F', 'J', 1.0], ['B', 'S', 1.0], ['V', 'N', 1], ['G', 'V', 1.0], ['P', 'F', 1.0], ['V', 'Y', 1.0], ['Y', 'V', 1.0], ['J', 'J', 1], ['Z', 'S', 1.0], ['O', 'H', 1.0], ['B', 'Q', 1.0], ['N', 'O', 1.0], ['Y', 'Y', 1], ['G', 'Q', 1.0], ['B', 'S', 1.0], ['U', 'T', 1.0], ['A', 'G', 1.0], ['M', 'M', 1], ['N', 'O', 1.0], ['G', 'L', 1.0], ['P', 'V', 1.0], ['J', 'A', 1.0], ['J', 'J', 1], ['F', 'P', 1.0], ['G', 'S', 1.0], ['X', 'K', 1.0], ['M', 'U', 1.0], ['O', 'F', 1], ['M', 'W', 1.0], ['B', 'S', 1.0], ['Q', 'H', 1.0], ['H', 'B', 1.0], ['T', 'S', 1], ['S', 'T', 1.0], ['O', 'H', 1.0], ['H', 'N', 1.0], ['V', 'X', 1.0], ['G', 'C', 1], ['Z', 'E', 1.0], ['L', 'D', 1.0], ['O', 'H', 1.0], ['B', 'H', 1.0], ['M', 'M', 1], ['G', 'B', 1.0], ['J', 'H', 1.0], ['J', 'A', 1], ['Y', 'F', 1.0], ['U', 'U', 1], ['Z', 'S', 1.0], ['K', 'H', 1.0], ['D', 'T', 1.0], ['D', 'D', 1.0], ['S', 'L', 0.16240233988393524], ['G', 'L', 1.0], ['P', 'F', 1.0], ['K', 'C', 1.0], ['Z', 'I', 1.0], ['S', 'S', 1], ['Z', 'J', 1.0], ['S', 'Z', 1.0], ['M', 'O', 1.0], ['G', 'Q', 1.0], ['C', 'C', 1], ['E', 'S', 1.0], ['K', 'C', 1.0], ['B', 'J', 1.0], ['G', 'K', 1.0], ['N', 'N', 1], ['L', 'D', 1.0], ['A', 'R', 1.0], ['C', 'Q', 1.0], ['B', 'S', 1.0], ['M', 'M', 1], ['E', 'L', 1.0], ['M', 'U', 1.0], ['N', 'D', 1.0], ['S', 'F', 1.0], ['O', 'Q', 1], ['L', 'E', 1.0], ['G', 'Q', 1.0], ['D', 'T', 1.0], ['I', 'I', 1.0], ['A', 'A', 1], ['Q', 'S', 1.0], ['G', 'C', 1.0], ['M', 'O', 1.0], ['O', 'W', 1.0], ['M', 'G', 1], ['X', 'K', 1.0], ['G', 'C', 1.0], ['X', 'S', 1.0], ['X', 'Q', 1.3994259113851394e-130], ['P', 'P', 1], ['N', 'O', 1.0], ['K', 'R', 1.0], ['K', 'X', 1.3838965267367373e-87], ['G', 'Q', 1.0], ['A', 'A', 1], ['Y', 'F', 1.0], ['K', 'L', 1.0], ['G', 'P', 1.0], ['N', 'A', 1.0], ['K', 'C', 1], ['C', 'T', 1.0], ['G', 'C', 1.0], ['O', 'P', 1.0], ['Q', 'E', 1.0], ['N', 'N', 1], ['U', 'Y', 1.0], ['I', 'S', 1.0], ['L', 'D', 1.0], ['N', 'U', 1.0], ['U', 'U', 1], ['B', 'S', 1.0], ['G', 'C', 1.0], ['R', 'B', 1.0], ['N', 'M', 1.0], ['N', 'N', 1], ['Q', 'A', 1.0], ['U', 'G', 1.0], ['P', 'F', 1.0], ['Q', 'D', 1.0], ['S', 'S', 1], ['U', 'G', 1.0], ['S', 'G', 1.0], ['Z', 'S', 1.0], ['N', 'B', 1.0], ['G', 'G', 1], ['P', 'F', 1.0], ['U', 'A', 1.0], ['A', 'U', 1.0], ['L', 'Q', 1.0], ['K', 'K', 1], ['D', 'S', 1.0], ['M', 'N', 0.1353352832366127], ['S', 'I', 1.0], ['L', 'G', 1.0], ['K', 'K', 1], ['D', 'O', 1.0], ['E', 'R', 0.1353352832366127], ['B', 'D', 1.0], ['G', 'L', 1.0], ['N', 'W', 1], ['M', 'N', 1.0], ['D', 'F', 1.0], ['K', 'K', 1.0], ['H', 'O', 1.0], ['K', 'K', 1], ['E', 'L', 1.0], ['B', 'Q', 1.0], ['E', 'B', 1.0], ['J', 'C', 1.0], ['D', 'O', 1], ['W', 'W', 1.0], ['G', 'C', 1.0], ['P', 'O', 1.0], ['M', 'U', 1.0], ['G', 'C', 1], ['L', 'S', 1.0], ['J', 'A', 1.0], ['O', 'P', 1.0], ['L', 'D', 1.0], ['D', 'F', 1], ['L', 'L', 1.0], ['O', 'D', 1.0], ['F', 'I', 1.0], ['M', 'U', 1.0], ['A', 'A', 1], ['E', 'L', 1.0], ['E', 'G', 6.14421235332821e-06], ['V', 'W', 1.0], ['H', 'D', 1.0], ['A', 'A', 1], ['C', 'E', 1.0], ['I', 'J', 1.0], ['G', 'C', 1.0], ['U', 'C', 1.0], ['D', 'D', 1], ['Y', 'Y', 1.0], ['V', 'G', 1.0], ['X', 'L', 1.0], ['N', 'U', 1.0], ['W', 'W', 1], ['C', 'E', 1.0], ['Z', 'S', 1.0], ['K', 'R', 1.0], ['T', 'Y', 1.0], ['I', 'I', 1], ['U', 'H', 1.0], ['I', 'F', 1.0], ['Q', 'P', 1.0], ['R', 'H', 1.0], ['V', 'V', 1], ['D', 'S', 1.0], ['K', 'K', 1.0], ['B', 'J', 1.0], ['K', 'E', 1.0], ['P', 'P', 1], ['N', 'O', 1.0], ['W', 'U', 1.0], ['X', 'L', 1.0], ['M', 'W', 1.0], ['R', 'O', 1], ['D', 'K', 1.0], ['S', 'S', 1.0], ['V', 'F', 1.0], ['J', 'O', 1.0], ['V', 'V', 1], ['F', 'E', 1.0], ['Z', 'S', 1.0], ['B', 'K', 1.0], ['U', 'Y', 1.0], ['Q', 'Q', 1], ['Z', 'S', 1.0], ['F', 'N', 1.0], ['H', 'D', 1.0], ['L', 'K', 1.0], ['X', 'X', 1], ['M', 'A', 1.0], ['S', 'Q', 1.0], ['Q', 'G', 1.0], ['N', 'H', 1.0], ['T', 'U', 1], ['V', 'F', 1.0], ['P', 'Y', 1.0], ['S', 'T', 1.0], ['U', 'H', 1.0], ['B', 'B', 1], ['H', 'K', 1.0], ['F', 'E', 1.0], ['N', 'H', 1.0], ['M', 'U', 1.0], ['K', 'K', 1], ['D', 'O', 1.0], ['H', 'H', 1.0], ['H', 'K', 5.242885663363464e-22], ['G', 'O', 1.0], ['Q', 'Q', 1], ['T', 'C', 1.0], ['F', 'P', 1.0], ['C', 'E', 1.0], ['B', 'R', 1.0], ['W', 'W', 1], ['J', 'C', 1.0], ['V', 'Y', 1.0], ['P', 'Y', 1.0], ['H', 'M', 1.0], ['A', 'A', 1], ['L', 'K', 1.0], ['A', 'X', 1.0], ['G', 'C', 1.0], ['B', 'S', 1.0], ['U', 'G', 1], ['N', 'K', 1.0], ['B', 'S', 1.0], ['H', 'O', 1.0], ['N', 'O', 1.0], ['R', 'R', 1], ['B', 'S', 1.0], ['G', 'L', 1.0], ['M', 'N', 1.0], ['R', 'K', 1.0], ['L', 'L', 1], ['M', 'N', 1.0], ['Q', 'S', 1.0], ['R', 'D', 1.0], ['C', 'E', 1.0], ['B', 'S', 1], ['P', 'L', 1.0], ['B', 'X', 1.0], ['J', 'I', 1.0], ['U', 'Y', 1.0], ['C', 'C', 1], ['U', 'O', 1.0], ['M', 'D', 1.0], ['Z', 'J', 1.0], ['H', 'M', 1.0], ['Z', 'Z', 1], ['H', 'R', 1.0], ['Q', 'E', 1.0], ['H', 'O', 1.0], ['Z', 'S', 1.0], ['N', 'D', 1], ['V', 'Y', 1.0], ['Q', 'E', 1.0], ['I', 'O', 1.0], ['G', 'K', 1.0], ['O', 'O', 1], ['D', 'O', 1.0], ['A', 'A', 1.0], ['X', 'J', 1.0], ['S', 'B', 1.0], ['K', 'K', 1], ['E', 'I', 1.0], ['E', 'R', 4.780892883885469e-25], ['Q', 'S', 1.0], ['R', 'E', 1.0], ['N', 'W', 1], ['H', 'D', 1.0], ['X', 'E', 1.0], ['R', 'K', 1.0], ['V', 'N', 1.0], ['U', 'U', 1], ['A', 'Y', 1.0], ['P', 'Y', 1.0], ['E', 'S', 1.0], ['F', 'Y', 1.0], ['M', 'M', 1], ['N', 'O', 1.0], ['L', 'E', 1.0], ['A', 'Y', 1.0], ['N', 'D', 1.0], ['V', 'V', 1], ['H', 'O', 1.0], ['M', 'W', 1.0], ['V', 'P', 1.0], ['M', 'U', 1.0], ['Z', 'E', 1], ['J', 'O', 1.0], ['C', 'O', 1.0], ['N', 'H', 1.0], ['O', 'F', 1.0], ['H', 'H', 1], ['N', 'U', 1.0], ['V', 'F', 1.0], ['L', 'J', 1.0], ['R', 'D', 1.0], ['J', 'J', 1], ['X', 'K', 1.0], ['G', 'Q', 1.0], ['A', 'R', 1.0], ['J', 'I', 1.0], ['Y', 'Y', 1], ['Z', 'S', 1.0], ['R', 'H', 1.0], ['X', 'S', 1.0], ['G', 'C', 1.0], ['H', 'K', 1], ['U', 'B', 1.0], ['Z', 'F', 1.0], ['Q', 'T', 1.0], ['G', 'C', 1.0], ['D', 'D', 1], ['Z', 'Z', 1.0], ['G', 'C', 1.0], ['C', 'U', 1.0], ['G', 'C', 1.0], ['G', 'C', 1], ['B', 'S', 1.0], ['R', 'G', 1.0], ['G', 'C', 1.0], ['F', 'Y', 1.0], ['H', 'H', 1], ['R', 'H', 1.0], ['H', 'G', 1.0], ['J', 'E', 1.0], ['X', 'T', 1.0], ['B', 'Z', 1], ['F', 'Y', 1.0], ['W', 'B', 1.0], ['F', 'P', 1.0], ['A', 'G', 1.0], ['I', 'G', 1], ['S', 'B', 1.0], ['Z', 'I', 1.0], ['T', 'F', 1.0], ['K', 'O', 1.0], ['Z', 'Z', 1], ['M', 'A', 1.0], ['H', 'B', 1.0], ['K', 'B', 1.0], ['G', 'P', 1.0], ['K', 'E', 1], ['U', 'C', 1.0], ['Y', 'F', 1.0], ['B', 'S', 1.0], ['B', 'D', 1.0], ['N', 'O', 1], ['J', 'S', 1.0], ['F', 'A', 1.0], ['E', 'T', 1.0], ['G', 'C', 1.0], ['M', 'O', 1], ['B', 'K', 1.0], ['K', 'E', 1.0], ['F', 'P', 1.0], ['H', 'Y', 1.0], ['B', 'B', 1], ['M', 'N', 1.0], ['V', 'Y', 1.0], ['Q', 'G', 1.0], ['P', 'V', 1.0], ['X', 'X', 1], ['T', 'F', 1.0], ['J', 'C', 1.0], ['Z', 'S', 1.0], ['S', 'T', 1.0], ['W', 'W', 1], ['R', 'K', 1.0], ['M', 'N', 1.0], ['X', 'J', 1.0], ['B', 'S', 1.0], ['N', 'N', 1], ['V', 'Y', 1.0], ['O', 'Q', 1.0], ['U', 'Y', 1.0], ['J', 'A', 1.0], ['M', 'U', 1], ['U', 'G', 1.0], ['V', 'T', 1.0], ['I', 'J', 1.0], ['E', 'T', 1.0], ['J', 'J', 1], ['T', 'Y', 1.0], ['E', 'Q', 1.0], ['U', 'H', 1.0], ['T', 'G', 1.0], ['W', 'W', 1], ['C', 'E', 1.0], ['D', 'F', 1.0], ['F', 'H', 0.1353352832366127], ['U', 'O', 1.0], ['X', 'X', 1], ['P', 'V', 1.0], ['E', 'D', 1.0], ['M', 'O', 1.0], ['F', 'E', 1.0], ['H', 'H', 1], ['E', 'B', 1.0], ['L', 'D', 1.0], ['G', 'U', 1.0], ['R', 'K', 1.0], ['Z', 'Z', 1], ['H', 'B', 1.0], ['Q', 'H', 1.0], ['N', 'M', 1.0], ['M', 'A', 1.0], ['H', 'D', 1], ['V', 'F', 1.0], ['P', 'Y', 1.0], ['J', 'S', 1.0], ['J', 'A', 1], ['K', 'K', 1], ['P', 'F', 1.0], ['B', 'Q', 1.0], ['S', 'Z', 1.0], ['H', 'D', 1.0], ['K', 'K', 1], ['V', 'F', 1.0], ['L', 'E', 1.0], ['N', 'O', 1.0], ['V', 'P', 1.0], ['D', 'D', 1], ['Z', 'Z', 1.0], ['T', 'Y', 1.0], ['R', 'D', 1.0], ['M', 'A', 1.0], ['E', 'E', 1], ['V', 'O', 1.0], ['G', 'Q', 1.0], ['Z', 'X', 1.0], ['H', 'C', 1.0], ['M', 'M', 1], ['L', 'D', 1.0], ['B', 'S', 1.0], ['P', 'F', 1.0], ['B', 'D', 1.0], ['X', 'X', 1], ['M', 'A', 1.0], ['O', 'G', 1.0], ['G', 'Q', 1.0], ['K', 'C', 1.0], ['X', 'X', 1], ['T', 'F', 1.0], ['L', 'D', 1.0], ['K', 'R', 1.0], ['J', 'A', 1.0], ['X', 'J', 1], ['R', 'K', 1.0], ['K', 'H', 1.0], ['U', 'G', 1.0], ['O', 'H', 1.0], ['N', 'M', 1], ['G', 'Q', 1.0], ['C', 'G', 1.0], ['B', 'R', 1.0], ['G', 'C', 1.0], ['V', 'V', 1], ['M', 'A', 1.0], ['S', 'F', 1.0], ['K', 'E', 1.0], ['B', 'G', 1.0], ['W', 'W', 1], ['R', 'D', 1.0], ['S', 'T', 1.0], ['M', 'O', 1.0], ['C', 'E', 1.0], ['K', 'K', 1], ['N', 'O', 1.0], ['L', 'D', 1.0], ['C', 'L', 1.0], ['W', 'N', 1.0], ['Q', 'A', 1], ['H', 'J', 1.0], ['Q', 'J', 1.0], ['N', 'O', 1.0], ['F', 'J', 1.0], ['B', 'B', 1], ['G', 'Q', 1.0], ['N', 'O', 1.0], ['R', 'H', 1.0], ['G', 'D', 1.0], ['I', 'I', 1], ['J', 'I', 1.0], ['R', 'D', 1.0], ['N', 'K', 1.0], ['N', 'O', 7.868448159078602e-63], ['F', 'F', 1], ['N', 'H', 1.0], ['Z', 'E', 1.0], ['Z', 'S', 1.3790159402541388e-163], ['A', 'K', 1.0], ['H', 'Y', 1], ['J', 'D', 1.0], ['X', 'E', 1.0], ['V', 'F', 1.0], ['B', 'S', 1.0], ['D', 'D', 1], ['W', 'W', 1.0], ['L', 'G', 1.0], ['U', 'D', 1.0], ['H', 'O', 1.0], ['W', 'W', 1], ['U', 'T', 1.0], ['C', 'E', 1.0], ['V', 'T', 1.0], ['J', 'I', 1.0], ['H', 'H', 1], ['G', 'C', 1.0], ['N', 'O', 1.0], ['X', 'E', 1.0], ['C', 'E', 1.0], ['B', 'Q', 1], ['Z', 'S', 1.0], ['S', 'Q', 1.0], ['N', 'W', 1.0], ['U', 'C', 1.0], ['D', 'D', 1], ['C', 'C', 1.0], ['S', 'G', 1.0], ['B', 'S', 1.0], ['L', 'E', 1.0], ['F', 'F', 1], ['P', 'O', 1.0], ['Q', 'V', 1.0], ['B', 'S', 1.0], ['M', 'A', 1.0], ['G', 'H', 1], ['L', 'G', 1.0], ['S', 'E', 1.0], ['E', 'L', 1.0], ['D', 'T', 1.0], ['U', 'U', 1], ['C', 'K', 1.0], ['B', 'Z', 1.0], ['Q', 'Y', 1.0], ['G', 'L', 1.0], ['F', 'F', 1], ['Y', 'U', 1.0], ['R', 'G', 1.0], ['J', 'S', 1.0], ['G', 'C', 1.0], ['P', 'P', 1], ['T', 'Y', 1.0], ['U', 'G', 1.0], ['V', 'D', 1.0], ['D', 'T', 1.0], ['X', 'R', 0.16240233988393524], ['H', 'O', 1.0], ['X', 'Q', 1.0], ['D', 'P', 1.0], ['F', 'F', 1.0], ['Q', 'G', 1], ['B', 'S', 1.0], ['G', 'Q', 1.0], ['F', 'G', 1.0], ['F', 'Y', 2.506567475899953e-46], ['F', 'F', 1], ['D', 'K', 1.0], ['Z', 'E', 0.1353352832366127], ['A', 'M', 1.0], ['Q', 'H', 1.0], ['S', 'S', 1], ['M', 'O', 1.0], ['K', 'D', 1.0], ['H', 'B', 1.0], ['W', 'G', 1.0], ['O', 'O', 1], ['K', 'X', 1.0], ['N', 'O', 1.0], ['U', 'H', 1.0], ['L', 'X', 1.0], ['Y', 'F', 1], ['T', 'F', 1.0], ['Q', 'B', 1.0], ['G', 'Q', 1.0], ['G', 'C', 1], ['Y', 'Y', 1], ['H', 'O', 1.0], ['O', 'P', 1.0], ['V', 'Y', 1.0], ['L', 'X', 1.0], ['U', 'H', 1], ['V', 'T', 1.0], ['J', 'A', 1.0], ['H', 'O', 1.0], ['L', 'S', 1.0], ['Z', 'Z', 1], ['N', 'O', 1.0], ['V', 'F', 1.0], ['P', 'Y', 1.0], ['E', 'L', 1.0], ['Y', 'Y', 1], ['H', 'G', 1.0], ['N', 'D', 1.0], ['Z', 'S', 1.0], ['K', 'C', 1.0], ['N', 'N', 1], ['Q', 'G', 1.0], ['P', 'W', 1.0], ['P', 'D', 1.0], ['G', 'F', 1.0], ['R', 'R', 1], ['B', 'S', 1.0], ['V', 'Y', 1.0], ['R', 'A', 1.0], ['M', 'A', 1.0], ['G', 'G', 1], ['H', 'U', 1.0], ['R', 'N', 1.0], ['G', 'H', 1.0], ['J', 'A', 1.0], ['M', 'W', 1], ['N', 'O', 1.0], ['N', 'M', 1.5400882849875202e-51], ['G', 'V', 1.0], ['F', 'J', 1.0], ['M', 'M', 1], ['Q', 'V', 1.0], ['U', 'W', 1.0], ['G', 'O', 1.0], ['Q', 'A', 1.0], ['K', 'K', 1], ['I', 'S', 1.0], ['M', 'U', 1.0], ['R', 'H', 1.0], ['G', 'C', 1.0], ['Z', 'Z', 1], ['J', 'A', 1.0], ['F', 'E', 1.0], ['V', 'H', 1.0], ['B', 'D', 1.0], ['G', 'C', 1], ['W', 'N', 1.0], ['H', 'D', 1.0], ['U', 'G', 1.0], ['B', 'S', 1.0], ['Q', 'Q', 1], ['E', 'Q', 1.0], ['D', 'O', 1.0], ['Y', 'Y', 1.0], ['C', 'E', 1.0], ['Y', 'Y', 1], ['N', 'O', 1.0], ['Q', 'A', 1.0], ['W', 'M', 1.0], ['A', 'U', 1.0], ['D', 'D', 1], ['W', 'W', 1.0], ['R', 'D', 1.0], ['S', 'J', 1.0], ['G', 'C', 1.0], ['T', 'T', 1], ['F', 'T', 1.0], ['B', 'S', 1.0], ['M', 'U', 1.0], ['R', 'H', 1.0], ['I', 'I', 1], ['D', 'B', 1.0], ['M', 'M', 1.0], ['J', 'E', 1.0], ['C', 'L', 1.0], ['B', 'B', 1], ['V', 'Y', 1.0], ['B', 'S', 1.0], ['L', 'D', 1.0], ['O', 'U', 1.0], ['M', 'U', 1], ['F', 'T', 1.0], ['X', 'K', 1.0], ['X', 'Y', 1.72093806494073e-210], ['C', 'E', 1.0], ['U', 'U', 1], ['V', 'Y', 1.0], ['P', 'F', 1.0], ['Y', 'V', 1.0], ['H', 'D', 1.0], ['T', 'T', 1], ['N', 'U', 1.0], ['C', 'U', 1.0], ['E', 'T', 1.0], ['U', 'O', 1.0], ['V', 'Y', 1], ['H', 'D', 1.0], ['E', 'I', 1.0], ['F', 'P', 1.0], ['C', 'L', 1.0], ['I', 'I', 1], ['N', 'O', 1.0], ['U', 'G', 1.0], ['Q', 'A', 1.0], ['E', 'S', 1.0], ['L', 'L', 1], ['K', 'X', 1.0], ['K', 'F', 2.061153622438558e-09], ['U', 'H', 1.0], ['G', 'O', 1.0], ['X', 'X', 1], ['N', 'W', 1.0], ['G', 'C', 1.0], ['X', 'S', 1.0], ['J', 'A', 1.0], ['T', 'T', 1], ['K', 'B', 1.0], ['E', 'S', 1.0], ['A', 'O', 1.0], ['I', 'J', 1.0], ['L', 'L', 1], ['J', 'E', 1.0], ['P', 'N', 1.0], ['N', 'D', 1.0], ['J', 'A', 1.0], ['B', 'B', 1], ['G', 'H', 1.0], ['J', 'A', 1.0], ['L', 'D', 1.0], ['R', 'B', 1.0], ['K', 'C', 1], ['R', 'H', 1.0], ['J', 'A', 1.0], ['N', 'O', 1.0], ['F', 'J', 1.0], ['G', 'G', 1], ['N', 'A', 1.0], ['V', 'W', 1.0], ['P', 'D', 1.0], ['F', 'P', 1.0], ['M', 'M', 1], ['X', 'Q', 1.0], ['Z', 'S', 1.0], ['W', 'M', 1.0], ['G', 'C', 1.0], ['U', 'T', 1], ['V', 'Y', 1.0], ['J', 'X', 1.0], ['Q', 'S', 1.0], ['Q', 'O', 3.665820411179563e-77], ['X', 'X', 1], ['S', 'E', 1.0], ['U', 'H', 1.0], ['G', 'Q', 1.0], ['U', 'H', 1.0], ['L', 'L', 1], ['C', 'K', 1.0], ['R', 'H', 1.0], ['U', 'H', 1.0], ['Y', 'T', 1.0], ['Y', 'Y', 1], ['Y', 'V', 2.42540248273781e-188], ['K', 'X', 1.0], ['T', 'U', 1.0], ['U', 'A', 1.0], ['O', 'O', 1], ['D', 'B', 1.0], ['X', 'X', 1.0], ['U', 'G', 1.0], ['Q', 'B', 1.0], ['Y', 'Y', 1], ['R', 'D', 1.0], ['H', 'D', 1.0], ['X', 'J', 1.0], ['T', 'E', 1.0], ['Q', 'S', 1], ['N', 'D', 1.0], ['N', 'O', 7.868448159078602e-63], ['M', 'A', 1.0], ['A', 'R', 1.0], ['J', 'J', 1], ['Y', 'F', 1.0], ['Q', 'V', 1.0], ['K', 'E', 1.0], ['X', 'K', 1.0], ['J', 'J', 1], ['M', 'A', 1.0], ['D', 'B', 1.0], ['U', 'U', 1.0], ['R', 'B', 1.0], ['W', 'N', 1], ['U', 'T', 1.0], ['Q', 'L', 1.0], ['B', 'R', 1.0], ['O', 'D', 1.0], ['I', 'I', 1], ['U', 'H', 1.0], ['J', 'D', 1.0], ['G', 'H', 1.0], ['U', 'C', 1.0], ['Y', 'Y', 1], ['R', 'H', 1.0], ['S', 'L', 1.0], ['K', 'E', 1.0], ['H', 'R', 1.0], ['O', 'O', 1], ['M', 'U', 1.0], ['Z', 'S', 1.0], ['Z', 'J', 7.175095973164411e-66], ['K', 'X', 1.0], ['K', 'K', 1], ['H', 'D', 1.0], ['E', 'R', 1.0], ['M', 'U', 1.0], ['E', 'Q', 1.0], ['F', 'F', 1], ['G', 'B', 1.0], ['Y', 'X', 1.0], ['G', 'C', 1.0], ['U', 'O', 1.0], ['I', 'I', 1], ['K', 'A', 1.0], ['U', 'H', 1.0], ['N', 'H', 1.0], ['G', 'Q', 1.0], ['T', 'T', 1], ['H', 'N', 1.0], ['Q', 'H', 1.0], ['H', 'D', 1.0], ['O', 'G', 1.0], ['E', 'E', 1], ['U', 'W', 1.0], ['H', 'V', 1.0], ['S', 'T', 1.0], ['D', 'F', 1.0], ['T', 'F', 0.16240233988393524], ['K', 'X', 1.0], ['U', 'G', 1.0], ['X', 'F', 1.0], ['G', 'C', 1.0], ['X', 'X', 1], ['B', 'S', 1.0], ['B', 'S', 3.059023205018258e-07], ['Q', 'D', 1.0], ['O', 'H', 1.0], ['N', 'N', 1], ['R', 'K', 1.0], ['H', 'D', 1.0], ['V', 'F', 1.0], ['N', 'M', 1.0], ['X', 'X', 1], ['K', 'E', 1.0], ['T', 'Y', 1.0], ['R', 'K', 1.0], ['P', 'D', 1.0], ['F', 'Y', 1], ['I', 'J', 1.0], ['H', 'C', 1.0], ['H', 'O', 3.625140919143559e-34], ['S', 'E', 1.0], ['K', 'K', 1], ['Y', 'T', 1.0], ['A', 'R', 1.0], ['J', 'O', 1.0], ['Z', 'S', 1.0], ['U', 'T', 1], ['Z', 'E', 1.0], ['Z', 'S', 1.3790159402541388e-163], ['N', 'O', 1.0], ['E', 'L', 1.0], ['Y', 'Y', 1], ['S', 'J', 1.0], ['I', 'J', 1.0], ['U', 'G', 1.0], ['V', 'Y', 1.0], ['O', 'O', 1], ['P', 'F', 1.0], ['Q', 'S', 1.0], ['Z', 'X', 1.0], ['G', 'C', 1.0], ['Z', 'Z', 1], ['O', 'H', 1.0], ['H', 'C', 1.0], ['D', 'B', 1.0], ['T', 'T', 1.0], ['T', 'E', 1], ['L', 'E', 1.0], ['Y', 'F', 1.0], ['Z', 'J', 1.0], ['B', 'S', 1.0], ['P', 'P', 1], ['S', 'J', 1.0], ['F', 'E', 1.0], ['D', 'S', 1.0], ['Y', 'Y', 1.0], ['G', 'G', 1], ['S', 'G', 1.0], ['I', 'S', 1.0], ['U', 'Y', 1.0], ['F', 'P', 1.0], ['N', 'N', 1], ['M', 'A', 1.0], ['C', 'E', 1.0], ['U', 'G', 1.0], ['M', 'W', 1.0], ['Y', 'Y', 1], ['X', 'F', 1.0], ['T', 'S', 1.0], ['P', 'Q', 1.0], ['H', 'O', 1.0], ['Q', 'Q', 1], ['G', 'O', 1.0], ['G', 'H', 3.775134544279098e-11], ['B', 'S', 1.0], ['Q', 'O', 1.0], ['B', 'B', 1], ['A', 'R', 1.0], ['H', 'O', 1.0], ['N', 'O', 1.0], ['R', 'K', 1.0], ['D', 'D', 1], ['T', 'S', 0.1353352832366127], ['N', 'D', 1.0], ['X', 'S', 1.0], ['G', 'Q', 1.0], ['R', 'D', 1], ['P', 'Y', 1.0], ['L', 'E', 1.0], ['Q', 'S', 1.0], ['U', 'W', 1.0], ['P', 'P', 1], ['H', 'M', 1.0], ['C', 'E', 1.0], ['H', 'O', 1.0], ['Z', 'X', 1.0], ['A', 'A', 1], ['B', 'S', 1.0], ['H', 'L', 1.0], ['Q', 'L', 1.0], ['V', 'Y', 1.0], ['H', 'H', 1], ['V', 'F', 1.0], ['T', 'Y', 1.0], ['S', 'G', 1.0], ['P', 'O', 1.0], ['S', 'S', 1], ['V', 'N', 1.0], ['I', 'C', 1.0], ['J', 'A', 1.0], ['S', 'Z', 1.0], ['V', 'V', 1], ['I', 'J', 1.0], ['R', 'H', 1.0], ['Z', 'S', 1.0], ['N', 'A', 1.0], ['F', 'F', 1], ['L', 'D', 1.0], ['U', 'T', 1.0], ['V', 'Y', 1.0], ['H', 'B', 1.0], ['E', 'E', 1], ['R', 'H', 1.0], ['Y', 'F', 1.0], ['J', 'E', 1.0], ['Z', 'E', 1.0], ['U', 'H', 1], ['B', 'Q', 1.0], ['C', 'L', 1.0], ['B', 'S', 1.0], ['W', 'M', 1.0], ['C', 'C', 1], ['P', 'D', 1.0], ['U', 'C', 1.0], ['M', 'U', 1.0], ['Z', 'I', 1.0], ['G', 'Q', 1], ['Q', 'V', 1.0], ['P', 'F', 1.0], ['E', 'K', 1.0], ['A', 'D', 1.0], ['J', 'J', 1], ['R', 'N', 1.0], ['O', 'P', 1.0], ['U', 'A', 1.0], ['C', 'E', 1.0], ['E', 'E', 1], ['V', 'N', 1.0], ['K', 'E', 1.0], ['H', 'D', 1.0], ['N', 'D', 1.0], ['K', 'K', 1], ['P', 'O', 1.0], ['V', 'Y', 1.0], ['A', 'Z', 1.0], ['P', 'Y', 1.0], ['X', 'X', 1], ['K', 'C', 1.0], ['L', 'X', 1.0], ['Z', 'I', 1.0], ['K', 'E', 1.0], ['I', 'X', 1], ['F', 'Y', 1.0], ['M', 'N', 1.0], ['S', 'B', 1.0], ['S', 'E', 1.522997974471263e-08], ['D', 'D', 1], ['X', 'T', 0.1353352832366127], ['R', 'H', 1.0], ['Q', 'E', 1.0], ['T', 'F', 1.0], ['U', 'U', 1], ['N', 'O', 1.0], ['U', 'T', 1.0], ['M', 'D', 1.0], ['F', 'S', 1.0], ['L', 'L', 1], ['D', 'B', 1.0], ['P', 'P', 1.0], ['K', 'C', 1.0], ['Q', 'S', 1.0], ['X', 'X', 1], ['S', 'Q', 1.0], ['B', 'V', 1.0], ['Z', 'S', 1.0], ['H', 'R', 1.0], ['U', 'G', 1], ['M', 'W', 1.0], ['B', 'D', 1.0], ['V', 'N', 1.0], ['H', 'D', 1.0], ['F', 'F', 1], ['B', 'S', 1.0], ['K', 'C', 1.0], ['V', 'F', 1.0], ['T', 'Y', 1.0], ['W', 'W', 1], ['J', 'C', 1.0], ['R', 'H', 1.0], ['L', 'T', 1.0], ['B', 'R', 1.0], ['M', 'U', 1], ['B', 'S', 1.0], ['N', 'A', 1.0], ['U', 'O', 1.0], ['Y', 'X', 1.0], ['F', 'F', 1], ['B', 'E', 1.0], ['B', 'H', 0.018315638888734182], ['C', 'E', 1.0], ['J', 'A', 1.0], ['S', 'J', 1], ['G', 'H', 1.0], ['X', 'F', 1.0], ['M', 'U', 1.0], ['U', 'Y', 1.0], ['Q', 'Q', 1], ['B', 'D', 1.0], ['N', 'O', 1.0], ['P', 'D', 1.0], ['J', 'O', 1.0], ['B', 'R', 1], ['X', 'S', 1.0], ['M', 'A', 1.0], ['B', 'S', 1.0], ['V', 'Y', 1.0], ['S', 'S', 1], ['G', 'L', 1.0], ['B', 'S', 1.0], ['R', 'K', 1.0], ['N', 'O', 1.0], ['O', 'O', 1], ['Q', 'B', 1.0], ['B', 'S', 1.0], ['X', 'K', 1.0], ['U', 'C', 1.0], ['W', 'W', 1], ['H', 'O', 1.0], ['M', 'N', 1.0], ['G', 'E', 1.0], ['S', 'Z', 1.0], ['W', 'W', 1], ['W', 'M', 1.0225689071173033e-86], ['S', 'J', 1.0], ['U', 'H', 1.0], ['J', 'Q', 1.0], ['J', 'J', 1], ['P', 'F', 1.0], ['H', 'O', 1.0], ['M', 'D', 1.0], ['H', 'O', 1.0], ['W', 'W', 1], ['W', 'U', 3.74855397154819e-163], ['V', 'B', 1.0], ['B', 'S', 1.0], ['C', 'E', 1.0], ['A', 'R', 1], ['P', 'F', 1.0], ['K', 'B', 1.0], ['J', 'A', 1.0], ['B', 'S', 1.0], ['U', 'U', 1], ['U', 'H', 1.8048513878454153e-35], ['H', 'D', 1.0], ['E', 'S', 1.0], ['G', 'C', 1.0], ['M', 'M', 1], ['G', 'E', 1.0], ['T', 'Y', 1.0], ['H', 'R', 1.0], ['S', 'G', 1.0], ['P', 'F', 1], ['B', 'D', 1.0], ['X', 'C', 1.0], ['Y', 'F', 1.0], ['L', 'E', 1.0], ['O', 'O', 1], ['Z', 'J', 1.0], ['V', 'F', 1.0], ['Q', 'S', 1.0], ['N', 'K', 1.0], ['V', 'V', 1], ['N', 'D', 1.0], ['O', 'H', 1.0], ['L', 'E', 1.0], ['U', 'G', 1.0], ['X', 'Q', 1], ['I', 'J', 1.0], ['H', 'O', 1.0], ['G', 'C', 1.0], ['D', 'B', 1.0], ['P', 'P', 1], ['B', 'S', 1.0], ['F', 'J', 1.0], ['T', 'P', 1.0], ['R', 'Q', 1.0], ['G', 'Q', 1], ['W', 'M', 1.0], ['E', 'G', 1.0], ['E', 'Q', 2.610279069667705e-23], ['R', 'N', 1.0], ['C', 'C', 1], ['L', 'D', 1.0], ['G', 'L', 1.0], ['N', 'D', 1.0], ['T', 'F', 1.0], ['O', 'O', 1], ['U', 'C', 1.0], ['H', 'D', 1.0], ['V', 'Y', 1.0], ['O', 'W', 1.0], ['K', 'K', 1], ['F', 'P', 1.0], ['H', 'O', 1.0], ['J', 'A', 1.0], ['X', 'K', 1.0], ['M', 'M', 1], ['B', 'S', 1.0], ['L', 'E', 1.0], ['S', 'E', 1.0], ['O', 'Q', 1.0], ['G', 'G', 1], ['G', 'H', 3.775134544279098e-11], ['Q', 'O', 1.0], ['N', 'O', 1.0], ['L', 'E', 1.0], ['C', 'C', 1], ['Y', 'F', 1.0], ['T', 'F', 1.0], ['X', 'S', 1.0], ['M', 'N', 1.0], ['D', 'D', 1], ['A', 'A', 1.0], ['O', 'A', 1.0], ['U', 'Y', 1.0], ['V', 'Y', 1.0], ['M', 'M', 1], ['Z', 'S', 1.0], ['T', 'E', 1.0], ['K', 'E', 1.0], ['N', 'D', 1.0], ['X', 'X', 1], ['U', 'G', 1.0], ['N', 'O', 1.0], ['O', 'H', 1.0], ['I', 'S', 1.0], ['Y', 'Y', 1], ['N', 'D', 1.0], ['J', 'F', 1.0], ['R', 'H', 1.0], ['N', 'D', 1.0], ['O', 'C', 1], ['S', 'Q', 1.0], ['H', 'R', 1.0], ['O', 'Q', 1.0], ['H', 'M', 1.0], ['V', 'V', 1], ['V', 'A', 1], ['D', 'T', 1.0], ['J', 'J', 1.0], ['N', 'O', 1.0], ['W', 'W', 1], ['H', 'O', 1.0], ['P', 'I', 1.0], ['N', 'O', 1.0], ['U', 'Y', 1.0], ['A', 'A', 1], ['J', 'C', 1.0], ['N', 'A', 1.0], ['H', 'O', 1.0], ['L', 'X', 1.0], ['O', 'O', 1], ['X', 'E', 1.0], ['A', 'Z', 1.0], ['F', 'J', 1.0], ['M', 'R', 1.0], ['P', 'O', 1], ['N', 'U', 1.0], ['P', 'F', 1.0], ['N', 'O', 1.0], ['K', 'X', 1.0], ['P', 'P', 1], ['K', 'C', 1.0], ['O', 'G', 1.0], ['O', 'H', 4.780892883885469e-25], ['C', 'E', 1.0], ['L', 'D', 1], ['S', 'E', 1.0], ['B', 'S', 1.0], ['R', 'H', 1.0], ['X', 'L', 1.0], ['M', 'N', 1], ['T', 'Y', 1.0], ['T', 'Y', 5.205970713164919e-174], ['H', 'R', 1.0], ['K', 'X', 1.0], ['Z', 'S', 1], ['E', 'S', 1.0], ['U', 'Y', 1.0], ['N', 'O', 1.0], ['E', 'Q', 1.0], ['N', 'N', 1], ['L', 'C', 1.0], ['A', 'U', 1.0], ['G', 'S', 1.0], ['X', 'Y', 1.0], ['E', 'E', 1], ['P', 'F', 1.0], ['N', 'D', 1.0], ['Q', 'E', 1.0], ['S', 'F', 1.0], ['P', 'P', 1], ['Z', 'J', 1.0], ['H', 'O', 1.0], ['G', 'C', 1.0], ['J', 'I', 1.0], ['Z', 'X', 1], ['K', 'R', 1.0], ['I', 'J', 1.0], ['N', 'O', 1.0], ['M', 'U', 1.0], ['S', 'E', 1], ['X', 'C', 1.0], ['Z', 'Q', 1.0], ['X', 'Q', 1.0], ['M', 'A', 1.0], ['Y', 'Y', 1], ['E', 'Q', 1.0], ['N', 'H', 1.0], ['A', 'Q', 1.0], ['N', 'O', 1.0], ['Z', 'Z', 1], ['Y', 'F', 1.0], ['L', 'D', 1.0], ['B', 'S', 1.0], ['N', 'O', 1.0], ['H', 'H', 1], ['J', 'E', 1.0], ['J', 'H', 2.3195228302435696e-16], ['I', 'E', 1.0], ['N', 'H', 1.0], ['C', 'C', 1], ['O', 'U', 1.0], ['U', 'C', 1.0], ['U', 'Y', 3.947458751851265e-183], ['J', 'A', 1.0], ['E', 'E', 1], ['B', 'S', 1.0], ['C', 'U', 1.0], ['M', 'N', 1.0], ['N', 'O', 1.0], ['A', 'A', 1], ['N', 'M', 1.0], ['P', 'S', 1.0], ['V', 'N', 1.0], ['H', 'O', 1.0], ['L', 'L', 1], ['P', 'M', 1.0], ['B', 'V', 1.0], ['T', 'P', 1.0], ['P', 'O', 1.0], ['Y', 'Y', 1], ['P', 'D', 1.0], ['K', 'C', 1.0], ['V', 'Y', 1.0], ['R', 'H', 1.0], ['N', 'O', 1], ['I', 'J', 1.0], ['Q', 'A', 1.0], ['G', 'S', 1.0], ['O', 'G', 1.0], ['D', 'D', 1], ['S', 'S', 1.0], ['N', 'D', 1.0], ['U', 'Y', 1.0], ['C', 'E', 1.0], ['L', 'L', 1], ['O', 'A', 1.0], ['E', 'K', 1.0], ['T', 'Y', 1.0], ['P', 'F', 1.0], ['B', 'B', 1], ['E', 'Q', 1.0], ['D', 'B', 1.0], ['T', 'T', 1.0], ['R', 'H', 1.0], ['I', 'I', 1], ['N', 'O', 1.0], ['I', 'Z', 1.0], ['Y', 'A', 1.0], ['B', 'N', 1.0], ['C', 'C', 1], ['W', 'M', 1.0], ['G', 'Q', 1.0], ['K', 'B', 1.0], ['T', 'F', 1.0], ['Z', 'Z', 1], ['V', 'F', 1.0], ['A', 'L', 1.0], ['U', 'T', 1.0], ['B', 'S', 1.0], ['R', 'B', 1], ['Z', 'E', 1.0], ['Z', 'S', 1.3790159402541388e-163], ['V', 'F', 1.0], ['N', 'O', 1.0], ['D', 'D', 1], ['L', 'L', 1.0], ['F', 'P', 1.0], ['H', 'O', 1.0], ['U', 'O', 1.0], ['C', 'C', 1], ['U', 'H', 1.0], ['G', 'C', 1.0], ['T', 'Y', 1.0], ['Q', 'S', 1.0], ['B', 'B', 1], ['O', 'D', 1.0], ['Z', 'J', 1.0], ['K', 'X', 1.0], ['H', 'G', 1.0], ['Z', 'Z', 1], ['U', 'O', 1.0], ['J', 'I', 1.0], ['O', 'H', 1.0], ['G', 'C', 1.0], ['H', 'H', 1], ['J', 'A', 1.0], ['L', 'D', 1.0], ['C', 'E', 1.0], ['U', 'G', 1.0], ['L', 'L', 1], ['R', 'K', 1.0], ['P', 'F', 1.0], ['H', 'K', 1.0], ['I', 'J', 1.0], ['Y', 'Y', 1], ['U', 'Y', 1.0], ['R', 'H', 1.0], ['Q', 'Y', 1.0], ['J', 'I', 1.0], ['Y', 'Y', 1], ['N', 'O', 1.0], ['O', 'H', 1.0], ['B', 'S', 1.0], ['C', 'E', 1.0], ['J', 'A', 1], ['N', 'O', 1.0], ['N', 'O', 7.868448159078602e-63], ['U', 'H', 1.0], ['E', 'Q', 1.0], ['K', 'C', 1], ['X', 'Y', 1.0], ['N', 'O', 1.0], ['Q', 'D', 1.0], ['I', 'J', 1.0], ['F', 'S', 1], ['V', 'F', 1.0], ['C', 'E', 1.0], ['T', 'H', 1.0], ['P', 'V', 1.0], ['P', 'P', 1], ['V', 'H', 1.0], ['S', 'X', 1.0], ['D', 'F', 1.0], ['I', 'I', 1.0], ['Q', 'Q', 1], ['H', 'O', 1.0], ['V', 'Y', 1.0], ['P', 'J', 1.0], ['H', 'B', 1.0], ['Z', 'Z', 1], ['Y', 'F', 1.0], ['W', 'N', 1.0], ['P', 'F', 1.0], ['M', 'N', 1.0], ['R', 'R', 1], ['H', 'O', 1.0], ['H', 'K', 5.242885663363464e-22], ['Q', 'S', 1.0], ['S', 'E', 1.0], ['X', 'X', 1], ['R', 'K', 1.0], ['X', 'L', 1.0], ['U', 'O', 1.0], ['F', 'P', 1.0], ['I', 'I', 1], ['F', 'E', 1.0], ['J', 'I', 1.0], ['V', 'N', 1.0], ['P', 'G', 1.0], ['E', 'E', 1], ['I', 'J', 1.0], ['A', 'Y', 1.0], ['S', 'L', 1.0], ['G', 'Q', 1.0], ['M', 'M', 1], ['B', 'Q', 1.0], ['S', 'J', 1.0], ['I', 'J', 1.0], ['K', 'R', 1.0], ['D', 'D', 1], ['O', 'O', 1.0], ['N', 'O', 1.0], ['W', 'M', 1.0], ['E', 'S', 1.0], ['R', 'B', 1], ['J', 'E', 1.0], ['Y', 'T', 1.0], ['D', 'T', 1.0], ['P', 'F', 0.1353352832366127], ['R', 'R', 1], ['V', 'G', 1.0], ['D', 'K', 1.0], ['K', 'K', 1.0], ['B', 'P', 1.0], ['F', 'F', 1], ['L', 'E', 1.0], ['V', 'F', 1.0], ['N', 'D', 1.0], ['B', 'S', 1.0], ['A', 'A', 1], ['Q', 'O', 1.0], ['U', 'Y', 1.0], ['P', 'Q', 1.0], ['E', 'Z', 1.0], ['L', 'L', 1], ['B', 'Q', 1.0], ['P', 'Q', 1.0], ['X', 'J', 1.0], ['R', 'B', 1.0], ['L', 'L', 1], ['W', 'M', 1.0], ['P', 'V', 1.0], ['B', 'S', 1.0], ['D', 'B', 1.0], ['Y', 'Y', 1], ['F', 'P', 1.0], ['R', 'H', 1.0], ['M', 'A', 1.0], ['Q', 'H', 1.0], ['X', 'X', 1], ['V', 'F', 1.0], ['M', 'U', 1.0], ['U', 'O', 1.0], ['S', 'G', 1.0], ['P', 'P', 1], ['H', 'O', 1.0], ['P', 'F', 1.0], ['M', 'U', 1.0], ['B', 'Q', 1.0], ['Q', 'Q', 1], ['U', 'O', 1.0], ['U', 'H', 1.8048513878454153e-35], ['C', 'G', 1.0], ['Z', 'E', 1.0], ['Q', 'Q', 1], ['K', 'X', 1.0], ['A', 'R', 1.0], ['I', 'J', 1.0], ['Y', 'F', 1.0], ['M', 'M', 1], ['W', 'N', 1.0], ['G', 'C', 1.0], ['B', 'S', 1.0], ['J', 'A', 1.0], ['T', 'T', 1], ['F', 'P', 1.0], ['E', 'Z', 1.0], ['J', 'E', 1.0], ['F', 'N', 1.0], ['M', 'M', 1], ['N', 'A', 1.0], ['N', 'D', 1.0], ['D', 'F', 1.0], ['W', 'W', 1.0], ['H', 'O', 1], ['G', 'C', 1.0], ['H', 'O', 1.0], ['P', 'O', 1.0], ['P', 'D', 1.0], ['V', 'H', 1], ['H', 'Q', 1.0], ['R', 'K', 1.0], ['V', 'T', 1.0], ['E', 'K', 1.0], ['P', 'F', 1], ['N', 'H', 1.0], ['W', 'G', 1.0], ['O', 'M', 1.0], ['N', 'O', 1.0], ['O', 'O', 1], ['B', 'Z', 1.0], ['M', 'O', 1.0], ['J', 'O', 1.0], ['G', 'C', 1.0], ['I', 'I', 1], ['E', 'S', 1.0], ['D', 'K', 1.0], ['I', 'J', 0.1353352832366127], ['S', 'Q', 1.0], ['D', 'D', 1], ['G', 'G', 1.0], ['B', 'S', 1.0], ['J', 'A', 1.0], ['G', 'L', 1.0], ['C', 'C', 1], ['G', 'C', 1.0], ['L', 'Q', 1.0], ['H', 'O', 1.0], ['Z', 'S', 1.0], ['X', 'J', 1], ['H', 'D', 1.0], ['V', 'F', 1.0], ['B', 'S', 1.0], ['V', 'B', 1.0], ['U', 'U', 1], ['T', 'Y', 1.0], ['M', 'W', 1.0], ['K', 'R', 1.0], ['I', 'J', 1.0], ['I', 'I', 1], ['O', 'H', 1.0], ['T', 'Y', 1.0], ['W', 'N', 1.0], ['Q', 'E', 1.0], ['Y', 'Y', 1], ['B', 'H', 1.0], ['D', 'R', 1.0], ['F', 'F', 1.0], ['E', 'Q', 1.0], ['U', 'U', 1], ['R', 'H', 1.0], ['G', 'P', 1.0], ['Z', 'S', 1.0], ['Z', 'S', 1.3790159402541388e-163], ['W', 'W', 1], ['O', 'H', 1.0], ['Y', 'S', 1.0], ['V', 'Y', 1.0], ['N', 'O', 1.0], ['O', 'O', 1], ['M', 'U', 1.0], ['N', 'O', 1.0], ['R', 'H', 1.0], ['P', 'I', 1.0], ['Q', 'Q', 1], ['J', 'E', 1.0], ['C', 'E', 1.0], ['P', 'F', 1.0], ['F', 'N', 1.0], ['L', 'L', 1], ['F', 'P', 1.0], ['N', 'D', 1.0], ['O', 'Q', 1.0], ['P', 'F', 1.0], ['X', 'X', 1], ['R', 'K', 1.0], ['F', 'H', 1.0], ['B', 'S', 1.0], ['Q', 'S', 1.0], ['N', 'N', 1], ['P', 'F', 1.0], ['N', 'H', 1.0], ['S', 'Z', 1.0], ['O', 'C', 1.0], ['I', 'I', 1], ['E', 'T', 1.0], ['X', 'K', 1.0], ['R', 'D', 1.0], ['O', 'A', 1.0], ['E', 'E', 1], ['H', 'C', 1.0], ['H', 'Q', 3.0144087850653746e-40], ['U', 'T', 1.0], ['H', 'D', 1.0], ['D', 'D', 1], ['D', 'D', 1.0], ['E', 'E', 1.0], ['N', 'O', 1.0], ['M', 'C', 1.0], ['G', 'G', 1], ['Q', 'P', 1.0], ['N', 'D', 1.0], ['K', 'M', 1.0], ['V', 'B', 1.0], ['P', 'P', 1], ['B', 'S', 1.0], ['B', 'Q', 2.2603294069810542e-06], ['B', 'S', 3.059023205018258e-07], ['O', 'C', 1.0], ['C', 'C', 1], ['G', 'C', 1.0], ['D', 'F', 1.0], ['W', 'W', 1.0], ['V', 'F', 1.0], ['N', 'N', 1], ['Z', 'S', 1.0], ['C', 'E', 1.0], ['F', 'J', 1.0], ['X', 'E', 1.0], ['O', 'Q', 1], ['H', 'C', 1.0], ['R', 'B', 1.0], ['O', 'H', 1.0], ['G', 'Q', 1.0], ['G', 'G', 1], ['Z', 'X', 1.0], ['Y', 'F', 1.0], ['U', 'H', 1.0], ['C', 'T', 1.0], ['W', 'W', 1], ['J', 'H', 1.0], ['X', 'K', 1.0], ['T', 'Y', 1.0], ['T', 'Y', 5.205970713164919e-174], ['R', 'R', 1], ['O', 'D', 1.0], ['G', 'C', 1.0], ['J', 'A', 1.0], ['U', 'Y', 1.0], ['E', 'S', 1], ['Z', 'J', 1.0], ['B', 'Q', 1.0], ['H', 'D', 1.0], ['F', 'P', 1.0], ['Z', 'T', 1], ['E', 'L', 1.0], ['L', 'E', 1.0], ['N', 'C', 1.0], ['M', 'O', 1.0], ['G', 'C', 1], ['J', 'A', 1.0], ['T', 'S', 1.0], ['L', 'D', 1.0], ['H', 'O', 1.0], ['O', 'O', 1], ['Y', 'V', 1.0], ['N', 'H', 1.0], ['K', 'Q', 1.0], ['U', 'H', 1.0], ['P', 'P', 1], ['Y', 'F', 1.0], ['Z', 'T', 1.0], ['U', 'H', 1.0], ['M', 'A', 1.0], ['N', 'N', 1], ['D', 'J', 1.0], ['K', 'K', 1.0], ['G', 'Q', 1.0], ['U', 'O', 1.0], ['Q', 'Q', 1], ['U', 'H', 1.0], ['N', 'O', 1.0], ['Z', 'J', 1.0], ['S', 'Z', 1.0], ['F', 'F', 1], ['P', 'F', 1.0], ['X', 'T', 1.0], ['R', 'H', 1.0], ['P', 'F', 1.0], ['Z', 'S', 1], ['D', 'O', 1.0], ['Y', 'Y', 1.0], ['J', 'O', 1.0], ['J', 'N', 8.194012623990516e-40], ['V', 'V', 1], ['H', 'O', 1.0], ['X', 'G', 1.0], ['K', 'H', 1.0], ['H', 'K', 1.0], ['L', 'E', 1], ['R', 'D', 1.0], ['P', 'F', 1.0], ['U', 'Y', 1.0], ['R', 'B', 1.0], ['V', 'Y', 1], ['N', 'O', 1.0], ['Z', 'E', 1.0], ['W', 'O', 1.0], ['M', 'A', 1.0], ['I', 'I', 1], ['E', 'Q', 1.0], ['R', 'G', 1.0], ['E', 'G', 1.0], ['Z', 'J', 1.0], ['V', 'Y', 1], ['U', 'O', 1.0], ['Z', 'S', 1.0], ['U', 'H', 1.0], ['P', 'F', 1.0], ['R', 'R', 1], ['V', 'Y', 1.0], ['W', 'O', 1.0], ['M', 'O', 1.0], ['R', 'H', 1.0], ['A', 'A', 1], ['B', 'S', 1.0], ['U', 'O', 1.0], ['N', 'O', 1.0], ['C', 'E', 1.0], ['X', 'Q', 1], ['F', 'J', 1.0], ['N', 'O', 1.0], ['T', 'N', 1.0], ['I', 'J', 1.0], ['D', 'D', 1], ['G', 'G', 1.0], ['L', 'G', 1.0], ['N', 'O', 1.0], ['C', 'F', 1.0], ['C', 'K', 1], ['R', 'H', 1.0], ['Q', 'H', 1.0], ['H', 'O', 1.0], ['C', 'K', 1.0], ['Z', 'Z', 1], ['V', 'Y', 1.0], ['I', 'L', 1.0], ['G', 'Q', 1.0], ['R', 'B', 1.0], ['M', 'M', 1], ['Z', 'S', 1.0], ['L', 'S', 1.0], ['D', 'B', 1.0], ['S', 'S', 1.0], ['A', 'A', 1], ['G', 'C', 1.0], ['H', 'Y', 1.0], ['T', 'F', 1.0], ['P', 'F', 1.0], ['D', 'D', 1], ['A', 'A', 1.0], ['O', 'H', 1.0], ['K', 'H', 1.0], ['H', 'O', 1.0], ['Y', 'Y', 1], ['D', 'O', 1.0], ['I', 'I', 1.0], ['N', 'M', 1.0], ['R', 'B', 1.0], ['D', 'D', 1], ['B', 'A', 0.1353352832366127], ['R', 'K', 1.0], ['M', 'O', 1.0], ['U', 'K', 1.0], ['I', 'I', 1], ['F', 'T', 1.0], ['Q', 'S', 1.0], ['J', 'S', 1.0], ['F', 'P', 1.0], ['C', 'C', 1], ['K', 'E', 1.0], ['G', 'C', 1.0], ['Z', 'J', 1.0], ['M', 'O', 1.0], ['V', 'V', 1], ['H', 'B', 1.0], ['E', 'T', 1.0], ['V', 'A', 1.0], ['G', 'C', 1.0], ['M', 'M', 1], ['G', 'C', 1.0], ['N', 'O', 1.0], ['J', 'A', 1.0], ['H', 'K', 1.0], ['A', 'A', 1], ['V', 'Y', 1.0], ['N', 'O', 1.0], ['K', 'R', 1.0], ['B', 'D', 1.0], ['K', 'K', 1], ['F', 'Y', 1.0], ['P', 'F', 1.0], ['T', 'Y', 1.0], ['M', 'U', 1.0], ['C', 'C', 1], ['Z', 'J', 1.0], ['H', 'M', 1.0], ['T', 'Y', 1.0], ['M', 'N', 1.0], ['E', 'E', 1], ['C', 'E', 1.0], ['L', 'D', 1.0], ['H', 'O', 1.0], ['A', 'R', 1.0], ['B', 'G', 1], ['A', 'M', 1.0], ['N', 'M', 1.0], ['B', 'S', 1.0], ['G', 'C', 1.0], ['G', 'G', 1], ['G', 'Q', 1.3336148155022614e-34], ['X', 'Q', 1.0], ['J', 'I', 1.0], ['R', 'V', 1.0], ['S', 'S', 1], ['V', 'O', 1.0], ['Q', 'S', 1.0], ['B', 'Q', 1.0], ['I', 'G', 1.0], ['R', 'A', 1], ['J', 'H', 1.0], ['O', 'H', 1.0], ['R', 'D', 1.0], ['N', 'W', 1.0], ['V', 'V', 1], ['I', 'D', 1.0], ['L', 'E', 1.0], ['H', 'O', 1.0], ['N', 'O', 1.0], ['Z', 'S', 1], ['H', 'O', 1.0], ['X', 'S', 1.0], ['S', 'E', 1.0], ['T', 'F', 1.0], ['P', 'F', 1], ['B', 'S', 1.0], ['V', 'N', 1.0], ['L', 'G', 1.0], ['R', 'H', 1.0], ['V', 'V', 1], ['F', 'Y', 1.0], ['R', 'H', 1.0], ['G', 'C', 1.0], ['H', 'O', 1.0], ['L', 'L', 1], ['J', 'E', 1.0], ['X', 'F', 1.0], ['B', 'S', 1.0], ['N', 'H', 1.0], ['C', 'C', 1], ['A', 'U', 1.0], ['G', 'J', 1.0], ['B', 'S', 1.0], ['H', 'D', 1.0], ['X', 'S', 1], ['D', 'S', 1.0], ['H', 'M', 0.1353352832366127], ['Z', 'E', 1.0], ['V', 'H', 1.0], ['K', 'K', 1], ['J', 'Q', 1.0], ['T', 'Y', 1.0], ['Q', 'H', 1.0], ['O', 'H', 1.0], ['C', 'C', 1], ['H', 'O', 1.0], ['X', 'F', 1.0], ['J', 'A', 1.0], ['B', 'S', 1.0], ['X', 'X', 1], ['B', 'Q', 1.0], ['G', 'V', 1.0], ['T', 'S', 1.0], ['D', 'G', 1.0], ['T', 'T', 1], ['J', 'I', 1.0], ['Y', 'V', 1.0], ['U', 'H', 1.0], ['P', 'Y', 1.0], ['M', 'O', 1], ['B', 'S', 1.0], ['G', 'Q', 1.0], ['G', 'B', 1], ['B', 'S', 1.0], ['W', 'W', 1], ['W', 'R', 1.7270287755786299e-134], ['U', 'H', 1.0], ['L', 'D', 1.0], ['K', 'E', 1.0], ['C', 'C', 1], ['V', 'F', 1.0], ['L', 'X', 1.0], ['P', 'S', 1.0], ['V', 'G', 1.0], ['F', 'F', 1], ['V', 'F', 1.0], ['U', 'H', 1.0], ['G', 'E', 1.0], ['D', 'O', 1.0], ['L', 'L', 1], ['G', 'Q', 1.0], ['Q', 'H', 1.0], ['D', 'B', 1.0], ['P', 'P', 1.0], ['A', 'A', 1], ['W', 'M', 1.0], ['F', 'S', 1.0], ['E', 'T', 1.0], ['K', 'E', 1.0], ['E', 'E', 1], ['S', 'E', 1.0], ['Z', 'S', 1.0], ['Z', 'S', 1.3790159402541388e-163], ['Z', 'E', 1.3887943864964023e-11], ['F', 'F', 1], ['G', 'V', 1.0], ['H', 'U', 1.0], ['H', 'O', 3.625140919143559e-34], ['T', 'K', 1.0], ['T', 'F', 1], ['D', 'G', 1.0], ['T', 'T', 1.0], ['O', 'H', 1.0], ['C', 'E', 1.0], ['U', 'U', 1], ['Y', 'F', 1.0], ['R', 'H', 1.0], ['K', 'H', 1.0], ['N', 'O', 1.0], ['U', 'H', 1], ['F', 'Y', 1.0], ['G', 'C', 1.0], ['S', 'T', 1.0], ['N', 'O', 1.0], ['I', 'I', 1], ['N', 'F', 1.0], ['G', 'L', 1.0], ['D', 'B', 1.0], ['D', 'D', 1.0], ['H', 'B', 0.16240233988393524], ['A', 'Z', 1.0], ['U', 'H', 1.0], ['U', 'C', 1], ['J', 'A', 1.0], ['I', 'I', 1], ['H', 'V', 1.0], ['X', 'S', 1.0], ['G', 'C', 1.0], ['N', 'O', 1.0], ['I', 'I', 1], ['R', 'D', 1.0], ['Q', 'E', 1.0], ['U', 'Y', 1.0], ['G', 'F', 1.0], ['N', 'N', 1], ['S', 'Z', 1.0], ['B', 'V', 1.0], ['B', 'S', 3.059023205018258e-07], ['L', 'E', 1.0], ['Z', 'Q', 1], ['J', 'Q', 1.0], ['G', 'B', 1.0], ['R', 'K', 1.0], ['U', 'T', 1.0], ['X', 'X', 1], ['B', 'H', 1.0], ['N', 'R', 1.0], ['G', 'Q', 1.0], ['D', 'T', 1.0], ['R', 'H', 0.16240233988393524], ['O', 'H', 1.0], ['Q', 'S', 1.0], ['F', 'Y', 1.0], ['R', 'K', 1.0], ['L', 'L', 1], ['O', 'H', 1.0], ['H', 'O', 1.0], ['H', 'D', 1.0], ['R', 'K', 1.0], ['W', 'W', 1], ['W', 'M', 1.0225689071173033e-86], ['J', 'I', 1.0], ['S', 'Z', 1.0], ['B', 'Q', 1.0], ['S', 'S', 1], ['A', 'R', 1.0], ['R', 'B', 1.0], ['G', 'Q', 1.0], ['E', 'C', 1.0], ['W', 'W', 1], ['U', 'T', 1.0], ['L', 'X', 1.0], ['B', 'K', 1.0], ['Z', 'Q', 1.0], ['U', 'H', 1], ['H', 'U', 1.0], ['H', 'O', 3.625140919143559e-34], ['V', 'Y', 1.0], ['R', 'H', 1.0], ['I', 'I', 1], ['Q', 'G', 1.0], ['S', 'Z', 1.0], ['P', 'O', 1.0], ['G', 'Q', 1.0], ['C', 'C', 1], ['N', 'O', 1.0], ['J', 'F', 1.0], ['Q', 'S', 1.0], ['M', 'N', 1.0], ['O', 'P', 1], ['K', 'X', 1.0], ['T', 'Y', 1.0], ['H', 'O', 1.0], ['P', 'F', 1.0], ['M', 'M', 1], ['Q', 'S', 1.0], ['G', 'Q', 1.0], ['P', 'F', 1.0], ['O', 'H', 1.0], ['J', 'J', 1], ['J', 'E', 0.00012340980408667956], ['F', 'T', 1.0], ['S', 'Z', 1.0], ['P', 'G', 1.0], ['C', 'C', 1], ['F', 'J', 1.0], ['Q', 'Y', 1.0], ['M', 'A', 1.0], ['R', 'K', 1.0], ['W', 'W', 1], ['A', 'Q', 1.0], ['U', 'G', 1.0], ['C', 'E', 1.0], ['G', 'E', 1.0], ['U', 'U', 1], ['N', 'B', 1.0], ['N', 'H', 2.6102790696677047e-23], ['E', 'S', 1.0], ['J', 'S', 1.0], ['A', 'A', 1], ['X', 'S', 1.0], ['G', 'S', 1.0], ['F', 'S', 1.0], ['I', 'C', 1.0], ['M', 'M', 1], ['F', 'T', 1.0], ['O', 'D', 1.0], ['F', 'T', 1.0], ['D', 'G', 1.0], ['X', 'T', 0.16240233988393524], ['K', 'X', 1.0], ['D', 'J', 1.0], ['K', 'K', 1.0], ['O', 'R', 1.0], ['N', 'D', 1], ['M', 'A', 1.0], ['R', 'B', 1.0], ['Z', 'I', 1.0], ['G', 'K', 1.0], ['M', 'M', 1], ['A', 'Z', 1.0], ['R', 'K', 1.0], ['R', 'B', 1], ['P', 'Y', 1.0], ['Z', 'Z', 1], ['H', 'U', 1.0], ['F', 'Y', 1.0], ['F', 'T', 1.804851387845415e-35], ['X', 'Z', 1.0], ['E', 'F', 1], ['V', 'Y', 1.0], ['I', 'J', 1.0], ['F', 'E', 1.0], ['Z', 'T', 1.0], ['E', 'E', 1], ['G', 'P', 1.0], ['D', 'O', 1.0], ['C', 'C', 1.0], ['U', 'G', 1.0], ['A', 'A', 1], ['R', 'B', 1.0], ['J', 'A', 1.0], ['B', 'S', 1.0], ['U', 'H', 1.0], ['B', 'S', 1], ['D', 'O', 1.0], ['E', 'E', 1.0], ['Q', 'E', 1.0], ['Z', 'S', 1.0], ['G', 'C', 1], ['G', 'C', 1], ['V', 'Y', 1.0], ['R', 'E', 1.0], ['R', 'H', 2.937482111710803e-30], ['D', 'D', 1], ['W', 'W', 1.0], ['N', 'O', 1.0], ['U', 'H', 1.0], ['I', 'X', 1.0], ['M', 'M', 1], ['J', 'Q', 1.0], ['O', 'A', 1.0], ['D', 'G', 1.0], ['Y', 'Y', 1.0], ['E', 'E', 1], ['X', 'Q', 1.0], ['A', 'Q', 1.0], ['M', 'N', 1.0], ['K', 'C', 1.0], ['K', 'K', 1], ['M', 'A', 1.0], ['F', 'Y', 1.0], ['B', 'S', 1.0], ['G', 'E', 1.0], ['O', 'O', 1], ['M', 'O', 1.0], ['K', 'X', 1.0], ['I', 'J', 1.0], ['I', 'X', 3.257488532207521e-70], ['T', 'T', 1], ['F', 'T', 1.0], ['H', 'O', 1.0], ['T', 'K', 1.0], ['I', 'J', 1.0], ['P', 'F', 1], ['X', 'H', 1.0], ['M', 'U', 1.0], ['O', 'Q', 1.0], ['D', 'B', 1.0], ['G', 'G', 1], ['H', 'O', 1.0], ['F', 'E', 1.0], ['O', 'Q', 1.0], ['P', 'O', 1.0], ['U', 'H', 1], ['B', 'S', 1.0], ['G', 'L', 1.0], ['H', 'O', 1.0], ['M', 'U', 1.0], ['B', 'B', 1], ['R', 'K', 1.0], ['B', 'Z', 1.0], ['M', 'A', 1.0], ['F', 'Y', 1.0], ['C', 'C', 1], ['H', 'R', 1.0], ['B', 'E', 1.0], ['G', 'M', 1.0], ['X', 'K', 1.0], ['Q', 'Q', 1], ['F', 'J', 1.0], ['U', 'H', 1.0], ['U', 'H', 1.8048513878454153e-35], ['P', 'H', 1.0], ['W', 'W', 1], ['U', 'H', 1.0], ['K', 'G', 1.0], ['N', 'O', 1.0], ['Z', 'S', 1.0], ['F', 'F', 1], ['H', 'Y', 1.0], ['F', 'P', 1.0], ['C', 'K', 1.0], ['Z', 'S', 1.0], ['Y', 'Y', 1], ['H', 'K', 1.0], ['T', 'Z', 1.0], ['R', 'H', 1.0], ['U', 'C', 1.0], ['D', 'D', 1], ['C', 'C', 1.0], ['D', 'B', 1.0], ['C', 'C', 1.0], ['T', 'Z', 1.0], ['M', 'M', 1], ['N', 'K', 1.0], ['R', 'Q', 1.0], ['Z', 'J', 1.0], ['A', 'S', 1.0], ['E', 'E', 1], ['X', 'T', 1.0], ['Z', 'J', 1.0], ['M', 'N', 1.0], ['H', 'O', 1.0], ['D', 'D', 1], ['A', 'A', 1.0], ['Q', 'H', 1.0], ['G', 'L', 1.0], ['I', 'J', 1.0], ['A', 'A', 1], ['V', 'F', 1.0], ['J', 'A', 1.0], ['U', 'G', 1.0], ['U', 'Y', 3.947458751851265e-183], ['A', 'A', 1], ['H', 'O', 1.0], ['J', 'A', 1.0], ['A', 'Q', 1.0], ['G', 'E', 1.0], ['D', 'D', 1], ['Z', 'Z', 1.0], ['Q', 'B', 1.0], ['P', 'O', 1.0], ['R', 'K', 1.0], ['A', 'A', 1], ['C', 'E', 1.0], ['J', 'A', 1.0], ['H', 'K', 1.0], ['G', 'C', 1.0], ['V', 'V', 1], ['U', 'C', 1.0], ['L', 'X', 1.0], ['R', 'H', 1.0], ['C', 'E', 1.0], ['M', 'M', 1], ['G', 'E', 1.0], ['H', 'D', 1.0], ['U', 'D', 1.0], ['Q', 'M', 1.0], ['A', 'A', 1], ['K', 'C', 1.0], ['T', 'Y', 1.0], ['X', 'S', 1.0], ['F', 'J', 1.0], ['H', 'H', 1], ['F', 'S', 1.0], ['F', 'P', 8.75651076269652e-27], ['B', 'J', 1.0], ['G', 'C', 1.0], ['Q', 'Q', 1], ['Z', 'S', 1.0], ['K', 'B', 1.0], ['G', 'K', 1.0], ['H', 'Y', 1.0], ['E', 'T', 1], ['T', 'Y', 1.0], ['T', 'G', 1.7587922024243118e-25], ['C', 'E', 1.0], ['C', 'E', 0.1353352832366127], ['O', 'O', 1], ['H', 'O', 1.0], ['L', 'G', 1.0], ['E', 'Q', 1.0], ['G', 'C', 1.0], ['C', 'K', 1], ['M', 'A', 1.0], ['F', 'S', 1.0], ['P', 'F', 1.0], ['B', 'S', 1.0], ['D', 'D', 1], ['H', 'H', 1.0], ['N', 'O', 1.0], ['U', 'H', 1.0], ['L', 'D', 1.0], ['J', 'J', 1], ['H', 'O', 1.0], ['G', 'F', 1.0], ['N', 'D', 1.0], ['G', 'C', 1.0], ['O', 'O', 1], ['J', 'Q', 1.0], ['H', 'O', 1.0], ['N', 'O', 1.0], ['Y', 'P', 1.0], ['H', 'H', 1], ['K', 'E', 1.0], ['S', 'F', 1.0], ['Z', 'S', 1.0], ['H', 'U', 1.0], ['Q', 'A', 1], ['N', 'O', 1.0], ['B', 'I', 1.0], ['G', 'V', 1.0], ['M', 'D', 1.0], ['L', 'L', 1], ['U', 'Y', 1.0], ['G', 'C', 1.0], ['B', 'D', 1.0], ['G', 'L', 1.0], ['W', 'W', 1], ['J', 'A', 1.0], ['K', 'C', 1.0], ['L', 'E', 1.0], ['G', 'C', 1.0], ['W', 'W', 1], ['Q', 'B', 1.0], ['H', 'O', 1.0], ['T', 'E', 1.0], ['Z', 'S', 1.0], ['D', 'D', 1], ['F', 'F', 1.0], ['N', 'O', 1.0], ['G', 'Q', 1.0], ['H', 'O', 1.0], ['Z', 'Z', 1], ['C', 'E', 1.0], ['C', 'E', 0.1353352832366127], ['G', 'Q', 1.0], ['G', 'C', 1], ['D', 'D', 1], ['Z', 'Z', 1.0], ['V', 'N', 1.0], ['N', 'H', 1.0], ['J', 'I', 1.0], ['U', 'Y', 1], ['R', 'H', 1.0], ['R', 'K', 2.0842828425817514e-52], ['U', 'Y', 1.0], ['R', 'B', 1.0], ['C', 'C', 1], ['U', 'W', 1.0], ['J', 'I', 1.0], ['N', 'D', 1.0], ['T', 'Y', 1.0], ['I', 'I', 1], ['U', 'H', 1.0], ['S', 'O', 1.0], ['V', 'N', 1.0], ['N', 'O', 1.0], ['Q', 'Q', 1], ['U', 'H', 1.0], ['N', 'M', 1.0], ['V', 'F', 1.0], ['J', 'C', 1.0], ['P', 'P', 1], ['T', 'F', 1.0], ['R', 'D', 1.0], ['E', 'Z', 1.0], ['L', 'T', 1.0], ['H', 'O', 1], ['R', 'L', 1.0], ['S', 'Q', 1.0], ['M', 'U', 1.0], ['X', 'R', 1.0], ['N', 'N', 1], ['N', 'O', 7.868448159078602e-63], ['D', 'H', 1.0], ['D', 'D', 1.0], ['N', 'K', 0.1353352832366127], ['Y', 'Y', 1], ['E', 'B', 1.0], ['Q', 'E', 1.0], ['J', 'D', 1.0], ['I', 'F', 1.0], ['V', 'V', 1], ['L', 'E', 1.0], ['U', 'H', 1.0], ['J', 'I', 1.0], ['C', 'E', 1.0], ['V', 'Y', 1], ['H', 'G', 1.0], ['R', 'B', 1.0], ['Z', 'S', 1.0], ['P', 'F', 1.0], ['L', 'L', 1], ['V', 'N', 1.0], ['D', 'U', 1.0], ['I', 'I', 1.0], ['N', 'M', 1.0], ['T', 'T', 1], ['U', 'H', 1.0], ['R', 'D', 1.0], ['L', 'C', 1.0], ['S', 'B', 1.0], ['Q', 'P', 1], ['D', 'B', 1.0], ['E', 'E', 1.0], ['Z', 'S', 1.0], ['P', 'Y', 1.0], ['T', 'T', 1], ['Z', 'T', 1.0], ['R', 'H', 1.0], ['B', 'S', 1.0], ['V', 'N', 1.0], ['O', 'O', 1], ['N', 'K', 1.0], ['G', 'Q', 1.0], ['G', 'Q', 1.3336148155022614e-34], ['D', 'G', 1.0], ['R', 'R', 1], ['Q', 'G', 1.0], ['B', 'V', 1.0], ['Q', 'C', 1.0], ['K', 'D', 1.0], ['P', 'P', 1], ['L', 'S', 1.0], ['U', 'F', 1.0], ['G', 'L', 1.0], ['G', 'I', 9.357622968840175e-14], ['K', 'K', 1], ['N', 'O', 1.0], ['B', 'E', 1.0], ['B', 'D', 1.0], ['Z', 'X', 1.0], ['T', 'T', 1], ['R', 'X', 1.0], ['T', 'Z', 1.0], ['H', 'K', 1.0], ['T', 'F', 1.0], ['L', 'L', 1], ['P', 'F', 1.0], ['S', 'Q', 1.0], ['A', 'K', 1.0], ['J', 'E', 1.0], ['R', 'R', 1], ['J', 'A', 1.0], ['R', 'B', 1.0], ['Q', 'S', 1.0], ['G', 'C', 1.0], ['O', 'O', 1], ['T', 'E', 1.0], ['K', 'B', 1.0], ['G', 'C', 1.0], ['R', 'K', 1.0], ['P', 'P', 1], ['H', 'O', 1.0], ['E', 'C', 1.0], ['R', 'K', 1.0], ['U', 'O', 1.0], ['N', 'N', 1], ['C', 'T', 1.0], ['N', 'W', 1.0], ['D', 'X', 1.0], ['X', 'X', 1.0], ['Y', 'Y', 1], ['R', 'H', 1.0], ['U', 'H', 1.0], ['V', 'Y', 1.0], ['O', 'W', 1.0], ['X', 'X', 1], ['R', 'B', 1.0], ['D', 'B', 1.0], ['H', 'B', 0.1353352832366127], ['J', 'Q', 1.0], ['M', 'M', 1], ['A', 'Z', 1.0], ['C', 'E', 1.0], ['O', 'C', 1.0], ['G', 'Q', 1.0], ['Y', 'Y', 1], ['X', 'S', 1.0], ['K', 'X', 1.0], ['R', 'Q', 1.0], ['X', 'R', 1.0], ['K', 'R', 1], ['W', 'G', 1.0], ['V', 'F', 1.0], ['G', 'C', 1.0], ['O', 'H', 1.0], ['Z', 'Z', 1], ['J', 'E', 1.0], ['C', 'G', 1.0], ['V', 'T', 1.0], ['G', 'Q', 1.0], ['K', 'K', 1], ['F', 'H', 1.0], ['H', 'O', 1.0], ['R', 'H', 1.0], ['P', 'D', 1.0], ['V', 'V', 1], ['O', 'D', 1.0], ['J', 'A', 1.0], ['P', 'D', 1.0], ['T', 'F', 1.0], ['E', 'E', 1], ['N', 'D', 1.0], ['L', 'D', 1.0], ['N', 'O', 1.0], ['D', 'G', 1.0], ['I', 'I', 1], ['H', 'O', 1.0], ['L', 'E', 1.0], ['T', 'F', 1.0], ['R', 'K', 1.0], ['D', 'D', 1], ['Q', 'Q', 1.0], ['U', 'O', 1.0], ['Q', 'H', 1.0], ['K', 'C', 1.0], ['R', 'R', 1], ['M', 'U', 1.0], ['Q', 'S', 1.0], ['H', 'D', 1.0], ['G', 'C', 1.0], ['D', 'D', 1], ['M', 'M', 1.0], ['T', 'S', 1.0], ['A', 'H', 1.0], ['G', 'K', 1.0], ['Q', 'Q', 1], ['U', 'O', 1.0], ['Z', 'S', 1.0], ['I', 'S', 1.0], ['Y', 'I', 1.0], ['O', 'O', 1], ['H', 'B', 1.0], ['P', 'F', 1.0], ['B', 'D', 1.0], ['J', 'C', 1.0], ['M', 'M', 1], ['U', 'D', 1.0], ['M', 'B', 1.0], ['G', 'S', 1.0], ['R', 'B', 1.0], ['L', 'L', 1], ['G', 'C', 1.0], ['G', 'V', 1.247946462912951e-47], ['B', 'S', 1.0], ['D', 'O', 1.0], ['A', 'A', 1], ['P', 'N', 1.0], ['E', 'S', 1.0], ['M', 'K', 1.0], ['V', 'Y', 1.0], ['T', 'T', 1], ['G', 'Q', 1.0], ['O', 'G', 1.0], ['O', 'D', 1.0], ['H', 'O', 1.0], ['L', 'L', 1], ['E', 'Z', 1.0], ['V', 'F', 1.0], ['J', 'E', 1.0], ['B', 'S', 1.0], ['M', 'U', 1], ['H', 'M', 1.0], ['R', 'K', 1.0], ['X', 'S', 1.0], ['M', 'B', 1.0], ['C', 'E', 1], ['V', 'T', 1.0], ['N', 'O', 1.0], ['G', 'C', 1.0], ['K', 'E', 1.0], ['J', 'J', 1], ['V', 'Y', 1.0], ['U', 'H', 1.0], ['P', 'D', 1.0], ['U', 'Y', 1.0], ['D', 'D', 1], ['T', 'T', 1.0], ['J', 'O', 1.0], ['F', 'Y', 1.0], ['B', 'D', 1.0], ['R', 'K', 1], ['Q', 'O', 1.0], ['Z', 'S', 1.0], ['Q', 'P', 1.0], ['D', 'A', 1.0], ['S', 'S', 1], ['V', 'Y', 1.0], ['Q', 'H', 1.0], ['I', 'F', 1.0], ['Z', 'X', 1.0], ['D', 'O', 1], ['J', 'E', 0.1353352832366127], ['V', 'A', 1.0], ['H', 'O', 1.0], ['K', 'E', 1.0], ['M', 'M', 1], ['J', 'I', 1.0], ['B', 'S', 1.0], ['D', 'R', 1.0], ['V', 'V', 1.0], ['J', 'J', 1], ['R', 'H', 1.0], ['U', 'H', 1.0], ['G', 'Q', 1.0], ['G', 'C', 1], ['Q', 'Y', 1], ['M', 'N', 1.0], ['L', 'D', 1.0], ['O', 'W', 1.0], ['N', 'V', 1.0], ['Z', 'Z', 1], ['P', 'F', 1.0], ['O', 'H', 1.0], ['I', 'J', 1.0], ['I', 'J', 1.4251640827409352e-21], ['U', 'W', 1], ['H', 'B', 1.0], ['N', 'O', 1.0], ['T', 'G', 1.0], ['V', 'Y', 1.0], ['U', 'U', 1], ['R', 'H', 1.0], ['F', 'H', 1.0], ['Y', 'D', 1.0], ['F', 'E', 1.0], ['X', 'X', 1], ['U', 'Y', 1.0], ['L', 'D', 1.0], ['H', 'O', 1.0], ['M', 'O', 1.0], ['F', 'F', 1], ['Q', 'G', 1.0], ['D', 'B', 1.0], ['C', 'C', 1.0], ['J', 'E', 1.0], ['F', 'J', 1], ['U', 'G', 1.0], ['J', 'H', 1.0], ['C', 'E', 1.0], ['F', 'E', 1.0], ['V', 'H', 1], ['G', 'Q', 1.0], ['V', 'B', 1.0], ['B', 'V', 1.0], ['I', 'E', 1.0], ['J', 'J', 1], ['N', 'O', 1.0], ['Q', 'S', 1.0], ['X', 'K', 1.0], ['G', 'C', 1.0], ['W', 'W', 1], ['B', 'D', 1.0], ['P', 'O', 1.0], ['H', 'O', 1.0], ['W', 'V', 1.0], ['O', 'H', 1], ['J', 'E', 1.0], ['U', 'Y', 1.0], ['H', 'U', 1.0], ['M', 'A', 1.0], ['K', 'K', 1], ['N', 'W', 1.0], ['L', 'X', 1.0], ['G', 'E', 1.0], ['J', 'O', 1.0], ['W', 'W', 1], ['U', 'G', 1.0], ['Z', 'I', 1.0], ['O', 'H', 1.0], ['A', 'R', 1.0], ['M', 'M', 1], ['D', 'R', 1.0], ['L', 'D', 0.1353352832366127], ['G', 'K', 1.0], ['I', 'A', 1.0], ['F', 'F', 1], ['G', 'Q', 1.0], ['Z', 'S', 1.0], ['D', 'H', 1.0], ['F', 'F', 1.0], ['W', 'W', 1], ['Z', 'J', 1.0], ['T', 'E', 1.0], ['I', 'B', 1.0], ['L', 'D', 1.0], ['X', 'X', 1], ['H', 'D', 1.0], ['Z', 'S', 1.0], ['O', 'Q', 1.0], ['O', 'W', 3.003777872648744e-116], ['N', 'N', 1], ['H', 'O', 1.0], ['V', 'Y', 1.0], ['Q', 'P', 1.0], ['D', 'B', 1.0], ['P', 'F', 0.16240233988393524], ['G', 'V', 1.0], ['N', 'O', 1.0], ['E', 'T', 1.0], ['H', 'Y', 1.0], ['Z', 'Z', 1], ['Z', 'I', 5.166420632837861e-55], ['X', 'E', 1.0], ['M', 'U', 1.0], ['Q', 'S', 1.0], ['J', 'Q', 1], ['E', 'F', 1.0], ['S', 'B', 1.0], ['N', 'O', 1.0], ['D', 'T', 1.0], ['I', 'I', 1], ['H', 'K', 1.0], ['N', 'K', 1.0], ['M', 'U', 1.0], ['B', 'R', 1.0], ['Q', 'Q', 1], ['J', 'I', 1.0], ['J', 'F', 1.522997974471263e-08], ['Y', 'V', 1.0], ['P', 'Y', 1.0], ['Z', 'Z', 1], ['R', 'K', 1.0], ['N', 'K', 1.0], ['U', 'H', 1.0], ['B', 'S', 1.0], ['H', 'R', 1], ['B', 'J', 1.0], ['N', 'O', 1.0], ['B', 'V', 1.0], ['X', 'E', 1.0], ['U', 'U', 1], ['H', 'B', 1.0], ['B', 'S', 1.0], ['U', 'G', 1.0], ['B', 'S', 1.0], ['S', 'S', 1], ['J', 'O', 1.0], ['S', 'Z', 1.0], ['B', 'S', 1.0], ['O', 'R', 1.0], ['O', 'O', 1], ['H', 'D', 1.0], ['A', 'D', 1.0], ['U', 'O', 1.0], ['N', 'M', 1.0], ['L', 'L', 1], ['B', 'S', 1.0], ['R', 'Q', 1.0], ['B', 'S', 1.0], ['X', 'R', 1.0], ['T', 'F', 1], ['D', 'R', 1.0], ['K', 'R', 0.1353352832366127], ['N', 'O', 1.0], ['E', 'Q', 1.0], ['A', 'A', 1], ['Q', 'S', 1.0], ['G', 'L', 1.0], ['R', 'K', 1.0], ['N', 'O', 1.0], ['F', 'F', 1], ['Z', 'E', 1.0], ['P', 'I', 1.0], ['H', 'O', 1.0], ['V', 'Y', 1.0], ['P', 'H', 1], ['I', 'J', 1.0], ['N', 'O', 1.0], ['H', 'C', 1.0], ['U', 'W', 1.0], ['A', 'A', 1], ['B', 'Q', 1.0], ['L', 'K', 1.0], ['R', 'K', 1.0], ['D', 'R', 1.0], ['N', 'N', 1], ['R', 'B', 1.0], ['N', 'O', 1.0], ['H', 'Y', 1.0], ['X', 'T', 1.0], ['F', 'F', 1], ['J', 'Q', 1.0], ['F', 'C', 1.0], ['U', 'G', 1.0], ['X', 'T', 1.0], ['Z', 'Z', 1], ['N', 'D', 1.0], ['G', 'Q', 1.0], ['P', 'F', 1.0], ['U', 'H', 1.0], ['W', 'W', 1], ['K', 'C', 1.0], ['P', 'O', 1.0], ['P', 'F', 9.357622968840174e-14], ['Z', 'X', 1.0], ['L', 'L', 1], ['G', 'C', 1.0], ['P', 'D', 1.0], ['G', 'C', 1.0], ['M', 'D', 1.0], ['G', 'Q', 1], ['R', 'H', 1.0], ['F', 'X', 1.0], ['G', 'E', 1.0], ['E', 'S', 1.0], ['U', 'H', 1], ['X', 'Q', 1.0], ['G', 'Q', 1.0], ['L', 'E', 1.0], ['N', 'O', 1.0], ['T', 'T', 1], ['U', 'Y', 1.0], ['S', 'G', 1.0], ['R', 'B', 1.0], ['H', 'O', 1.0], ['Y', 'Y', 1], ['N', 'O', 1.0], ['H', 'O', 1.0], ['X', 'T', 1.0], ['U', 'H', 1.0], ['J', 'J', 1], ['Q', 'S', 1.0], ['L', 'C', 1.0], ['M', 'A', 1.0], ['U', 'K', 1.0], ['F', 'F', 1], ['H', 'K', 1.0], ['M', 'A', 1.0], ['G', 'Q', 1.0], ['U', 'H', 1.0], ['O', 'O', 1], ['T', 'K', 1.0], ['H', 'O', 1.0], ['H', 'O', 3.625140919143559e-34], ['E', 'K', 1.0], ['Y', 'Y', 1], ['G', 'C', 1.0], ['U', 'T', 1.0], ['R', 'B', 1.0], ['Q', 'G', 1.0], ['L', 'L', 1], ['H', 'O', 1.0], ['B', 'S', 1.0], ['V', 'Y', 1.0], ['H', 'D', 1.0], ['V', 'V', 1], ['U', 'K', 1.0], ['D', 'O', 1.0], ['Z', 'Z', 1.0], ['M', 'B', 1.0], ['P', 'P', 1], ['Q', 'H', 1.0], ['Z', 'T', 1.0], ['L', 'E', 1.0], ['U', 'D', 1.0], ['P', 'F', 1], ['P', 'V', 5.501611081740456e-118], ['P', 'H', 8.75651076269652e-27], ['G', 'R', 1.0], ['R', 'H', 1.0], ['Q', 'Q', 1], ['L', 'E', 1.0], ['M', 'U', 1.0], ['O', 'H', 1.0], ['A', 'Z', 1.0], ['Y', 'Y', 1], ['S', 'T', 1.0], ['Z', 'I', 1.0], ['Q', 'B', 1.0], ['B', 'S', 1.0], ['Y', 'Y', 1], ['E', 'F', 1.0], ['R', 'B', 1.0], ['A', 'R', 1.0], ['H', 'K', 1.0], ['M', 'M', 1], ['N', 'O', 1.0], ['V', 'Y', 1.0], ['M', 'U', 1.0], ['M', 'D', 1.0], ['U', 'U', 1], ['Z', 'E', 1.0], ['S', 'Q', 1.0], ['M', 'B', 1.0], ['H', 'O', 1.0], ['Q', 'Q', 1], ['D', 'O', 1.0], ['J', 'J', 1.0], ['S', 'Z', 1.0], ['H', 'O', 1.0], ['Y', 'Y', 1], ['R', 'B', 1.0], ['Z', 'S', 1.0], ['G', 'B', 1.0], ['V', 'Y', 1.0], ['Y', 'F', 1], ['V', 'Y', 1.0], ['F', 'P', 1.0], ['B', 'S', 1.0], ['K', 'C', 1.0], ['Q', 'Q', 1], ['F', 'P', 1.0], ['G', 'Q', 1.0], ['M', 'W', 1.0], ['Q', 'V', 1.0], ['U', 'U', 1], ['P', 'F', 1.0], ['M', 'B', 1.0], ['W', 'U', 1.0], ['E', 'L', 1.0], ['T', 'T', 1], ['F', 'E', 1.0], ['G', 'Q', 1.0], ['R', 'B', 1.0], ['Z', 'S', 1.0], ['S', 'S', 1], ['X', 'D', 1.0], ['M', 'O', 1.0], ['Z', 'S', 1.0], ['Q', 'O', 1.0], ['E', 'E', 1], ['Z', 'E', 1.0], ['Q', 'T', 1.0], ['T', 'F', 1.0], ['Q', 'G', 1.0], ['R', 'K', 1], ['U', 'H', 1.0], ['L', 'X', 1.0], ['J', 'E', 1.0], ['N', 'O', 1.0], ['C', 'C', 1], ['H', 'F', 1.0], ['P', 'D', 1.0], ['N', 'O', 1.0], ['I', 'D', 1.0], ['H', 'H', 1], ['I', 'H', 1.0], ['T', 'F', 1.0], ['V', 'Y', 1.0], ['J', 'C', 1.0], ['P', 'P', 1], ['Z', 'E', 1.0], ['C', 'G', 1.0], ['N', 'O', 1.0], ['H', 'U', 1.0], ['I', 'I', 1], ['Q', 'B', 1.0], ['T', 'Y', 1.0], ['U', 'Y', 1.0], ['G', 'Q', 1.0], ['T', 'T', 1], ['G', 'C', 1.0], ['G', 'C', 1], ['A', 'L', 1.0], ['G', 'C', 1.0], ['V', 'V', 1], ['P', 'G', 1.0], ['H', 'O', 1.0], ['M', 'D', 1.0], ['Q', 'A', 1.0], ['A', 'A', 1], ['B', 'Q', 1.0], ['G', 'C', 1.0], ['G', 'H', 3.775134544279098e-11], ['G', 'K', 5.749522264293559e-19], ['W', 'W', 1], ['G', 'C', 1.0], ['X', 'T', 1.0], ['G', 'C', 1.0], ['U', 'W', 1.0], ['N', 'N', 1], ['D', 'T', 1.0], ['Q', 'Q', 1.0], ['N', 'W', 1.0], ['G', 'C', 1.0], ['M', 'M', 1], ['A', 'G', 1.0], ['P', 'F', 1.0], ['B', 'S', 1.0], ['A', 'Q', 1.0], ['T', 'T', 1], ['L', 'X', 1.0], ['U', 'Y', 1.0], ['H', 'O', 1.0], ['Q', 'J', 1.0], ['W', 'W', 1], ['B', 'Q', 1.0], ['K', 'B', 1.0], ['U', 'Y', 1.0], ['V', 'H', 1.0], ['M', 'M', 1], ['G', 'C', 1.0], ['H', 'U', 1.0], ['T', 'S', 1.0], ['G', 'C', 1.0], ['A', 'A', 1], ['G', 'C', 1.0], ['J', 'E', 1.0], ['G', 'V', 1.0], ['I', 'S', 1.0], ['J', 'D', 1], ['M', 'D', 1.0], ['K', 'H', 1.0], ['J', 'C', 1.0], ['N', 'H', 1.0], ['L', 'L', 1], ['Q', 'Y', 1.0], ['I', 'S', 1.0], ['Q', 'B', 1.0], ['K', 'E', 1.0], ['O', 'O', 1], ['J', 'I', 1.0], ['V', 'N', 1.0], ['V', 'Y', 2.993184452260193e-192], ['R', 'B', 1.0], ['E', 'E', 1], ['B', 'S', 1.0], ['U', 'G', 1.0], ['U', 'H', 1.8048513878454153e-35], ['G', 'E', 1.0], ['X', 'R', 1], ['X', 'Q', 1.3994259113851394e-130], ['M', 'O', 1.0], ['R', 'K', 1.0], ['X', 'Q', 1.0], ['W', 'W', 1], ['K', 'H', 1.0], ['G', 'Q', 1.0], ['U', 'H', 1.0], ['X', 'F', 1.0], ['A', 'A', 1], ['P', 'F', 1.0], ['M', 'W', 1.0], ['R', 'B', 1.0], ['M', 'O', 1.0], ['O', 'O', 1], ['N', 'K', 1.0], ['U', 'H', 1.0], ['U', 'C', 1], ['H', 'B', 1.0], ['W', 'W', 1], ['H', 'O', 1.0], ['U', 'K', 1.0], ['M', 'N', 1.0], ['F', 'J', 1.0], ['I', 'I', 1], ['B', 'F', 1.0], ['B', 'K', 0.0009118819655545162], ['O', 'H', 1.0], ['H', 'J', 1.0], ['W', 'W', 1], ['C', 'E', 1.0], ['G', 'C', 1.0], ['N', 'R', 1.0], ['Z', 'J', 1.0], ['N', 'N', 1], ['M', 'A', 1.0], ['N', 'H', 1.0], ['N', 'O', 7.868448159078602e-63], ['D', 'B', 1.0], ['I', 'I', 1], ['C', 'E', 1.0], ['D', 'T', 1.0], ['N', 'R', 0.1353352832366127], ['R', 'H', 1.0], ['M', 'M', 1], ['H', 'K', 1.0], ['U', 'H', 1.0], ['F', 'P', 1.0], ['Q', 'B', 1.0], ['K', 'K', 1], ['I', 'F', 1.0], ['F', 'Y', 1.0], ['Z', 'S', 1.0], ['P', 'F', 1.0], ['E', 'E', 1], ['S', 'B', 1.0], ['B', 'V', 1.0], ['G', 'F', 1.0], ['H', 'O', 1.0], ['R', 'K', 1], ['Z', 'J', 1.0], ['B', 'Z', 1.0], ['P', 'Y', 1.0], ['Z', 'S', 1.0], ['K', 'K', 1], ['Z', 'S', 1.0], ['N', 'O', 1.0], ['L', 'X', 1.0], ['G', 'K', 1.0], ['S', 'S', 1], ['X', 'D', 1.0], ['H', 'O', 1.0], ['G', 'C', 1.0], ['D', 'R', 1.0], ['D', 'D', 1], ['Q', 'Q', 1.0], ['M', 'D', 1.0], ['V', 'Y', 1.0], ['K', 'Q', 1.0], ['D', 'D', 1], ['F', 'F', 1.0], ['B', 'H', 1.0], ['U', 'G', 1.0], ['V', 'F', 1.0], ['A', 'A', 1], ['T', 'D', 1.0], ['N', 'K', 1.0], ['A', 'L', 1.0], ['U', 'H', 1.0], ['V', 'V', 1], ['J', 'Q', 1.0], ['Y', 'F', 1.0], ['H', 'O', 1.0], ['H', 'K', 5.242885663363464e-22], ['K', 'K', 1], ['G', 'Q', 1.0], ['O', 'W', 1.0], ['T', 'Y', 1.0], ['M', 'O', 1.0], ['L', 'L', 1], ['D', 'R', 1.0], ['C', 'C', 1.0], ['R', 'K', 1.0], ['G', 'L', 1.0], ['C', 'C', 1], ['L', 'X', 1.0], ['G', 'V', 1.0], ['X', 'S', 1.0], ['N', 'H', 1.0], ['D', 'D', 1], ['W', 'W', 1.0], ['J', 'Q', 1.0], ['P', 'F', 1.0], ['P', 'E', 3.059023205018258e-07], ['U', 'U', 1], ['X', 'S', 1.0], ['S', 'K', 1.0], ['R', 'G', 1.0], ['V', 'P', 1.0], ['N', 'N', 1], ['N', 'O', 7.868448159078602e-63], ['G', 'P', 1.0], ['A', 'R', 1.0], ['S', 'J', 1.0], ['I', 'I', 1], ['R', 'K', 1.0], ['X', 'E', 1.0], ['V', 'F', 1.0], ['S', 'Z', 1.0], ['H', 'H', 1], ['L', 'S', 1.0], ['H', 'G', 1.0], ['I', 'X', 1.0], ['N', 'U', 1.0], ['P', 'D', 1], ['V', 'C', 1.0], ['P', 'O', 1.0], ['Q', 'E', 1.0], ['J', 'A', 1.0], ['Z', 'Z', 1], ['U', 'G', 1.0], ['Z', 'S', 1.0], ['C', 'E', 1.0], ['U', 'Y', 1.0], ['A', 'A', 1], ['H', 'O', 1.0], ['B', 'E', 1.0], ['F', 'P', 1.0], ['R', 'K', 1.0], ['D', 'D', 1], ['Y', 'Y', 1.0], ['A', 'J', 1.0], ['E', 'S', 1.0], ['V', 'F', 1.0], ['N', 'D', 1], ['H', 'O', 1.0], ['O', 'D', 1.0], ['L', 'E', 1.0], ['E', 'Z', 1.0], ['M', 'M', 1], ['L', 'X', 1.0], ['H', 'O', 1.0], ['U', 'D', 1.0], ['H', 'D', 1.0], ['E', 'E', 1], ['M', 'A', 1.0], ['N', 'O', 1.0], ['Z', 'E', 1.0], ['G', 'C', 1.0], ['J', 'A', 1], ['G', 'C', 1.0], ['I', 'J', 1.0], ['P', 'E', 1.0], ['H', 'O', 1.0], ['N', 'O', 1], ['R', 'H', 1.0], ['G', 'C', 1.0], ['D', 'O', 1.0], ['P', 'P', 1.0], ['H', 'H', 1], ['H', 'O', 3.625140919143559e-34], ['S', 'Y', 1.0], ['V', 'Y', 1.0], ['U', 'T', 1.0], ['O', 'O', 1], ['G', 'C', 1.0], ['J', 'A', 1.0], ['X', 'Q', 1.0], ['Z', 'S', 1.0], ['L', 'L', 1], ['C', 'O', 1.0], ['P', 'F', 1.0], ['F', 'P', 1.0], ['Z', 'S', 1.0], ['L', 'L', 1], ['Z', 'I', 1.0], ['M', 'U', 1.0], ['G', 'L', 1.0], ['V', 'Y', 1.0], ['F', 'F', 1], ['R', 'K', 1.0], ['T', 'P', 1.0], ['K', 'X', 1.0], ['H', 'D', 1.0], ['N', 'M', 1], ['G', 'Q', 1.0], ['O', 'H', 1.0], ['G', 'B', 1.0], ['K', 'C', 1.0], ['E', 'E', 1], ['R', 'K', 1.0], ['H', 'O', 1.0], ['Y', 'F', 1.0], ['K', 'U', 1.0], ['D', 'D', 1], ['X', 'X', 1.0], ['R', 'K', 1.0], ['S', 'E', 1.0], ['P', 'Y', 1.0], ['Q', 'Q', 1], ['J', 'E', 1.0], ['J', 'Q', 1.5400882849875202e-51], ['R', 'H', 1.0], ['B', 'H', 1.0], ['C', 'C', 1], ['X', 'K', 1.0], ['C', 'E', 1.0], ['Z', 'T', 1.0], ['G', 'Q', 1.0], ['T', 'T', 1], ['U', 'O', 1.0], ['G', 'K', 1.0], ['P', 'D', 1.0], ['C', 'K', 1.0], ['Z', 'S', 1], ['V', 'F', 1.0], ['V', 'Y', 2.993184452260193e-192], ['M', 'U', 1.0], ['Z', 'E', 1.0], ['N', 'N', 1], ['C', 'E', 1.0], ['Z', 'S', 1.0], ['B', 'Q', 1.0], ['Z', 'S', 1.0], ['T', 'T', 1], ['J', 'I', 1.0], ['K', 'H', 1.0], ['E', 'L', 1.0], ['G', 'Q', 1.0], ['Y', 'Y', 1], ['J', 'D', 1.0], ['B', 'S', 1.0], ['Z', 'S', 1.0], ['N', 'O', 1.0], ['D', 'D', 1], ['I', 'I', 1.0], ['F', 'B', 1.0], ['T', 'E', 1.0], ['I', 'J', 1.0], ['L', 'L', 1], ['V', 'Y', 1.0], ['B', 'S', 1.0], ['B', 'K', 0.0009118819655545162], ['G', 'V', 1.0], ['Y', 'Y', 1], ['G', 'C', 1.0], ['B', 'I', 1.0], ['B', 'V', 1.522997974471263e-08], ['Q', 'H', 1.0], ['N', 'N', 1], ['L', 'D', 1.0], ['U', 'H', 1.0], ['J', 'Q', 1.0], ['P', 'F', 1.0], ['K', 'K', 1], ['E', 'L', 1.0], ['G', 'L', 1.0], ['N', 'O', 1.0], ['U', 'H', 1.0], ['U', 'U', 1], ['H', 'D', 1.0], ['U', 'A', 1.0], ['G', 'I', 1.0], ['B', 'S', 1.0], ['K', 'K', 1], ['G', 'Q', 1.0], ['Y', 'F', 1.0], ['E', 'K', 1.0], ['H', 'M', 1.0], ['W', 'W', 1], ['Z', 'E', 1.0], ['P', 'A', 1.0], ['F', 'T', 1.0], ['X', 'E', 1.0], ['K', 'K', 1], ['M', 'N', 1.0], ['G', 'L', 1.0], ['S', 'E', 1.0], ['U', 'G', 1.0], ['A', 'A', 1], ['O', 'G', 1.0], ['H', 'D', 1.0], ['U', 'H', 1.0], ['Z', 'J', 1.0], ['B', 'B', 1], ['Q', 'O', 1.0], ['U', 'L', 1.0], ['B', 'S', 1.0], ['K', 'R', 1.0], ['J', 'J', 1], ['U', 'G', 1.0], ['H', 'O', 1.0], ['G', 'C', 1.0], ['U', 'C', 1.0], ['Q', 'Q', 1], ['D', 'H', 1.0], ['P', 'P', 1.0], ['H', 'D', 1.0], ['Y', 'P', 1.0], ['B', 'B', 1], ['Z', 'S', 1.0], ['P', 'Y', 1.0], ['H', 'Q', 1.0], ['D', 'R', 1.0], ['S', 'B', 0.16240233988393524], ['H', 'O', 1.0], ['B', 'S', 1.0], ['T', 'Y', 1.0], ['V', 'A', 1.0], ['E', 'E', 1], ['U', 'H', 1.0], ['H', 'R', 1.0], ['P', 'F', 1.0], ['X', 'S', 1.0], ['L', 'L', 1], ['H', 'O', 1.0], ['U', 'H', 1.0], ['N', 'R', 1.0], ['T', 'F', 1.0], ['P', 'P', 1], ['Z', 'I', 1.0], ['H', 'O', 1.0], ['M', 'N', 1.0], ['F', 'P', 1.0], ['L', 'L', 1], ['R', 'D', 1.0], ['P', 'D', 1.0], ['A', 'G', 1.0], ['R', 'K', 1.0], ['K', 'K', 1], ['P', 'Y', 1.0], ['M', 'U', 1.0], ['B', 'S', 1.0], ['R', 'H', 1.0], ['B', 'B', 1], ['U', 'Y', 1.0], ['L', 'E', 1.0], ['O', 'Q', 1.0], ['U', 'K', 1.0], ['O', 'O', 1], ['G', 'C', 1.0], ['S', 'G', 1.0], ['H', 'O', 1.0], ['I', 'F', 1.0], ['M', 'O', 1], ['V', 'Y', 1.0], ['H', 'O', 1.0], ['K', 'C', 1.0], ['V', 'Y', 1.0], ['J', 'J', 1], ['Q', 'O', 1.0], ['Z', 'S', 1.0], ['T', 'Y', 1.0], ['R', 'X', 1.0], ['M', 'M', 1], ['V', 'F', 1.0], ['G', 'Q', 1.0], ['Q', 'Y', 1.0], ['G', 'E', 1.0], ['H', 'H', 1], ['O', 'H', 1.0], ['Z', 'S', 1.0], ['K', 'E', 1.0], ['H', 'G', 1.0], ['E', 'E', 1], ['T', 'F', 1.0], ['W', 'M', 1.0], ['J', 'A', 1.0], ['U', 'Y', 1.0], ['F', 'F', 1], ['P', 'F', 1.0], ['R', 'B', 1.0], ['G', 'C', 1.0], ['H', 'D', 1.0], ['I', 'I', 1], ['I', 'J', 1.4251640827409352e-21], ['J', 'Q', 1.0], ['D', 'H', 1.0], ['O', 'O', 1.0], ['J', 'J', 1], ['G', 'C', 1.0], ['U', 'H', 1.0], ['M', 'A', 1.0], ['E', 'H', 1.0], ['G', 'G', 1], ['H', 'Y', 1.0], ['H', 'O', 3.625140919143559e-34], ['V', 'Y', 1.0], ['K', 'G', 1.0], ['D', 'D', 1], ['D', 'D', 1.0], ['X', 'X', 1.0], ['Q', 'P', 1.0], ['H', 'X', 1.0], ['J', 'J', 1], ['E', 'Q', 1.0], ['V', 'B', 1.0], ['V', 'W', 5.20597071316492e-174], ['J', 'E', 1.0], ['W', 'W', 1], ['P', 'V', 1.0], ['L', 'E', 1.0], ['T', 'S', 1.0], ['N', 'H', 1.0], ['P', 'F', 1], ['Z', 'S', 1.0], ['U', 'T', 1.0], ['O', 'J', 1.0], ['L', 'G', 1.0], ['C', 'C', 1], ['R', 'B', 1.0], ['R', 'K', 2.0842828425817514e-52], ['W', 'B', 1.0]]\n"
          ],
          "name": "stdout"
        }
      ]
    },
    {
      "cell_type": "markdown",
      "metadata": {
        "id": "g5ricIjrKcsq"
      },
      "source": [
        "\n",
        "---\n",
        "\n",
        "\n",
        "Save data from generated markov chain\n",
        "\n",
        "---\n",
        "\n"
      ]
    },
    {
      "cell_type": "code",
      "metadata": {
        "id": "Pwyxtx7k3pSD"
      },
      "source": [
        "markov.to_csv(\"/content/drive/MyDrive/DMI_Assign1/KmarkovSamplesLetters.csv\")"
      ],
      "execution_count": 39,
      "outputs": []
    },
    {
      "cell_type": "markdown",
      "metadata": {
        "id": "yAS52-Ep0RIB"
      },
      "source": [
        "\n",
        "\n",
        "---\n",
        "\n",
        "\n",
        "Creating a new list for predicted probability and appending new column or field to save the probability in the markov chain generated \n",
        "\n",
        "---\n",
        "\n"
      ]
    },
    {
      "cell_type": "code",
      "metadata": {
        "id": "Wjk8DG-B3_D9"
      },
      "source": [
        "prob=[]\n",
        "for i in predProb:\n",
        "    prob.append(i[2])\n",
        "\n",
        "markov['probability']=prob"
      ],
      "execution_count": 40,
      "outputs": []
    },
    {
      "cell_type": "markdown",
      "metadata": {
        "id": "EmaZ8vRQ0VAs"
      },
      "source": [
        "---\n",
        "\n",
        "\n",
        "Save the Predicted Probability\n",
        "\n",
        "\n",
        "---\n"
      ]
    },
    {
      "cell_type": "code",
      "metadata": {
        "id": "9n-YOd_U4Hgq"
      },
      "source": [
        "markov.to_csv(\"/content/drive/MyDrive/DMI_Assign1/KmarkovSamplesLettersProbability.csv\")"
      ],
      "execution_count": 41,
      "outputs": []
    },
    {
      "cell_type": "markdown",
      "metadata": {
        "id": "A62Ka8Lj0dcJ"
      },
      "source": [
        "\n",
        "\n",
        "---\n",
        "\n",
        "Removing the letters in list and makking the new letters list , then saving it in csv file in drive\n",
        "\n",
        "\n",
        "---\n",
        "\n"
      ]
    },
    {
      "cell_type": "code",
      "metadata": {
        "id": "cfhRBBQ95FU_"
      },
      "source": [
        "for i in lst:\n",
        "    letters=letters.drop([i])\n",
        "letters.to_csv('/content/drive/MyDrive/DMI_Assign1/KmarkovLettersRemaining.csv')"
      ],
      "execution_count": 42,
      "outputs": []
    },
    {
      "cell_type": "markdown",
      "metadata": {
        "id": "uh-fl8YsWIqm"
      },
      "source": [
        "# SVM"
      ]
    },
    {
      "cell_type": "code",
      "metadata": {
        "id": "VIRJ-WF6FKpO"
      },
      "source": [
        "train = pd.read_csv(\"/content/drive/MyDrive/DMI_Assign1/KmarkovSamplesLetters.csv\")\n",
        "test = pd.read_csv(\"/content/drive/MyDrive/DMI_Assign1/KmarkovLettersRemaining.csv\")"
      ],
      "execution_count": 44,
      "outputs": []
    },
    {
      "cell_type": "code",
      "metadata": {
        "id": "4wEpb17SGzPL"
      },
      "source": [
        "train = train.drop(train.columns[[0]], axis=1)\n",
        "test = test.drop(test.columns[[0]], axis=1)\n",
        "train.columns = ['letter', 'xbox', 'ybox', 'width', 'height', 'onpix', 'xbar','ybar', 'x2bar', 'y2bar', 'xybar', 'x2ybar', 'xy2bar', 'xedge','xedgey', 'yedge', 'yedgex']\n",
        "test.columns = ['letter', 'xbox', 'ybox', 'width', 'height', 'onpix', 'xbar','ybar', 'x2bar', 'y2bar', 'xybar', 'x2ybar', 'xy2bar', 'xedge','xedgey', 'yedge', 'yedgex']"
      ],
      "execution_count": 45,
      "outputs": []
    },
    {
      "cell_type": "code",
      "metadata": {
        "id": "JBgk-_RzGjan"
      },
      "source": [
        "X_train = train.drop(\"letter\", axis = 1)\n",
        "y_train = train[\"letter\"]\n",
        "\n",
        "X_test = test.drop(\"letter\", axis = 1)\n",
        "y_test = test[\"letter\"]"
      ],
      "execution_count": 46,
      "outputs": []
    },
    {
      "cell_type": "code",
      "metadata": {
        "id": "XpFOyx_6FYRr"
      },
      "source": [
        "from sklearn.metrics.pairwise import euclidean_distances\n",
        "from sklearn.metrics.pairwise import chi2_kernel\n",
        "\n",
        "def hellinger(X1, X2):\n",
        "    return np.sqrt(np.dot(X1,X2.T))\n",
        "\n",
        "def intersection(X1,X2):\n",
        "\n",
        "  result = np.zeros((X1.shape[0],X2.shape[0]))\n",
        "  X2=X2.T\n",
        "\n",
        "  for i in range(len(X1)):\n",
        "    # iterate through columns of Y\n",
        "    for j in range(len(X2[0])):\n",
        "      # iterate through rows of Y\n",
        "      val=float('+inf')\n",
        "      for k in range(len(X2)):\n",
        "          val = min(val,X1[i][k] * X2[k][j])\n",
        "\n",
        "      result[i][j] = val\n",
        "\n",
        "  return result"
      ],
      "execution_count": 47,
      "outputs": []
    },
    {
      "cell_type": "markdown",
      "metadata": {
        "id": "IZ5ascSp17IK"
      },
      "source": [
        "\n",
        "---\n",
        "\n",
        "\n",
        "Accuracy for all the kernels - linear, rbf, chi-squared, hellinger, intersection\n",
        "\n",
        "\n",
        "\n",
        "---\n"
      ]
    },
    {
      "cell_type": "code",
      "metadata": {
        "colab": {
          "base_uri": "https://localhost:8080/"
        },
        "id": "bitcI1CvHG5T",
        "outputId": "f4678438-bea5-49d2-f26d-b98de5a7f0c4"
      },
      "source": [
        "x_axis = ['linear', 'rbf', 'chi-squared', 'hellinger']\n",
        "y_axis = []\n",
        "\n",
        "# Linear Kernel\n",
        "\n",
        "model_linear = SVC(kernel='linear')\n",
        "model_linear.fit(X_train, y_train)\n",
        "\n",
        "y_pred = model_linear.predict(X_test)\n",
        "acc = metrics.accuracy_score(y_true=y_test, y_pred=y_pred)\n",
        "y_axis.append(acc)\n",
        "print(\"Accuracy for linear kernel:\", acc, \"\\n\")\n",
        "\n",
        "# RBF Kernel\n",
        "\n",
        "model_linear = SVC(kernel='rbf')\n",
        "model_linear.fit(X_train, y_train)\n",
        "\n",
        "y_pred = model_linear.predict(X_test)\n",
        "acc = metrics.accuracy_score(y_true=y_test, y_pred=y_pred)\n",
        "y_axis.append(acc)\n",
        "print(\"Accuracy for rbf kernel:\", acc, \"\\n\")\n",
        "\n",
        "# Chi-squared kernel\n",
        "\n",
        "model_linear = SVC(kernel=chi2_kernel)\n",
        "model_linear.fit(X_train, y_train)\n",
        "\n",
        "y_pred = model_linear.predict(X_test)\n",
        "acc = metrics.accuracy_score(y_true=y_test, y_pred=y_pred)\n",
        "y_axis.append(acc)\n",
        "print(\"Accuracy for Chi-Squared kernel:\", acc, \"\\n\")\n",
        "\n",
        "# Hellinger kernel\n",
        "\n",
        "model_linear = SVC(kernel=hellinger)\n",
        "model_linear.fit(X_train, y_train)\n",
        "\n",
        "y_pred = model_linear.predict(X_test)\n",
        "acc = metrics.accuracy_score(y_true=y_test, y_pred=y_pred)\n",
        "y_axis.append(acc)\n",
        "print(\"Accuracy for Hellinger kernel:\", acc, \"\\n\")\n"
      ],
      "execution_count": 48,
      "outputs": [
        {
          "output_type": "stream",
          "text": [
            "Accuracy for linear kernel: 0.8130606142973634 \n",
            "\n",
            "Accuracy for rbf kernel: 0.8396982875781462 \n",
            "\n",
            "Accuracy for Chi-Squared kernel: 0.8791111715139984 \n",
            "\n",
            "Accuracy for Hellinger kernel: 0.7321962489807012 \n",
            "\n"
          ],
          "name": "stdout"
        }
      ]
    },
    {
      "cell_type": "code",
      "metadata": {
        "colab": {
          "base_uri": "https://localhost:8080/",
          "height": 295
        },
        "id": "2LW4llUOIRV_",
        "outputId": "0c3610ae-3e32-4c31-9d18-0e1317d964d3"
      },
      "source": [
        "plt.plot(x_axis, y_axis)\n",
        "plt.xlabel(\"Kernels\")\n",
        "plt.ylabel(\"Accuracy\")\n",
        "plt.title(\"Plot of kernel V/s Accuracy for various kernels\")\n",
        "plt.show()"
      ],
      "execution_count": 49,
      "outputs": [
        {
          "output_type": "display_data",
          "data": {
            "image/png": "[encoded data removed]",
            "text/plain": [
              "<Figure size 432x288 with 1 Axes>"
            ]
          },
          "metadata": {
            "tags": [],
            "needs_background": "light"
          }
        }
      ]
    },
    {
      "cell_type": "code",
      "metadata": {
        "id": "7OwOPzixL4-P"
      },
      "source": [
        "# Due to time and resources constraint, were unable to run for this kernel (Intersection Kernel)\n",
        "model_linear = SVC(kernel=intersection)\n",
        "model_linear.fit(X_train, y_train)\n",
        "\n",
        "y_pred = model_linear.predict(X_test)\n",
        "print(\"accuracy:\", metrics.accuracy_score(y_true=y_test, y_pred=y_pred), \"\\n\")"
      ],
      "execution_count": null,
      "outputs": []
    }
  ]
}