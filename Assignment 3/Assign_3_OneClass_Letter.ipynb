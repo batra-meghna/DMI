{
  "nbformat": 4,
  "nbformat_minor": 0,
  "metadata": {
    "colab": {
      "name": "Assign_3_OneClass_Letter.ipynb",
      "provenance": [],
      "collapsed_sections": [],
      "toc_visible": true
    },
    "kernelspec": {
      "name": "python3",
      "display_name": "Python 3"
    },
    "language_info": {
      "name": "python"
    }
  },
  "cells": [
    {
      "cell_type": "markdown",
      "metadata": {
        "id": "yRjH8RjV3m02"
      },
      "source": [
        "#A One - Class Classification Decision Tree based on Kernel Density estimation - Letter Dataset."
      ]
    },
    {
      "cell_type": "code",
      "metadata": {
        "id": "dj5TTc6Hoxi2"
      },
      "source": [
        "from google.colab import drive\n",
        "import math\n",
        "import numpy as np\n",
        "import pandas as pd\n",
        "from sklearn.model_selection import train_test_split\n"
      ],
      "execution_count": 1,
      "outputs": []
    },
    {
      "cell_type": "markdown",
      "metadata": {
        "id": "2rqYJXEb4PR3"
      },
      "source": [
        "\n",
        "\n",
        "---\n",
        "\n",
        "\n",
        "Reading the Letter dataset and printing it.\n",
        "\n",
        "\n",
        "---\n",
        "\n"
      ]
    },
    {
      "cell_type": "code",
      "metadata": {
        "colab": {
          "base_uri": "https://localhost:8080/"
        },
        "id": "3h0Rem_Eo5hq",
        "outputId": "7b1c4d0e-5375-40ac-baf2-ba62ec950ed4"
      },
      "source": [
        "letters = pd.read_csv(\"/content/letter-recognition.csv\")\n",
        "letters.columns = ['label', 'xbox', 'ybox', 'width', 'height', 'onpix', 'xbar','ybar', 'x2bar', 'y2bar', 'xybar', 'x2ybar', 'xy2bar', 'xedge','xedgey', 'yedge', 'yedgex']\n",
        "\n",
        "print(\"Letter Recognition Dataset\")\n",
        "print()\n",
        "print(letters)"
      ],
      "execution_count": 2,
      "outputs": [
        {
          "output_type": "stream",
          "text": [
            "Letter Recognition Dataset\n",
            "\n",
            "      label  xbox  ybox  width  height  ...  xy2bar  xedge  xedgey  yedge  yedgex\n",
            "0         I     5    12      3       7  ...       9      2       8      4      10\n",
            "1         D     4    11      6       8  ...       7      3       7      3       9\n",
            "2         N     7    11      6       6  ...      10      6      10      2       8\n",
            "3         G     2     1      3       1  ...       9      1       7      5      10\n",
            "4         S     4    11      5       8  ...       6      0       8      9       7\n",
            "...     ...   ...   ...    ...     ...  ...     ...    ...     ...    ...     ...\n",
            "19994     D     2     2      3       3  ...       4      2       8      3       7\n",
            "19995     C     7    10      8       8  ...      13      2       9      3       7\n",
            "19996     T     6     9      6       7  ...       5      2      12      2       4\n",
            "19997     S     2     3      4       2  ...       8      1       9      5       8\n",
            "19998     A     4     9      6       6  ...       8      2       7      2       8\n",
            "\n",
            "[19999 rows x 17 columns]\n"
          ],
          "name": "stdout"
        }
      ]
    },
    {
      "cell_type": "markdown",
      "metadata": {
        "id": "3hJ00VtT1tqN"
      },
      "source": [
        "# Implementation of One class Classification Decision Tree based on Kernel Density Estimation"
      ]
    },
    {
      "cell_type": "markdown",
      "metadata": {
        "id": "mXxbTue_7ypb"
      },
      "source": [
        "\n",
        "\n",
        "---\n",
        "Creating Each node of the tree\n",
        "\n",
        "\n",
        "---\n",
        "\n",
        "\n"
      ]
    },
    {
      "cell_type": "code",
      "metadata": {
        "id": "rN1bzObdZVDe"
      },
      "source": [
        "class Node:\n",
        "    def __init__(self, L, R, a_prime):\n",
        "        self.L = L\n",
        "        self.R = R\n",
        "        self.a_prime = a_prime\n",
        "        self.children = []"
      ],
      "execution_count": 3,
      "outputs": []
    },
    {
      "cell_type": "markdown",
      "metadata": {
        "id": "08Ia7bTS74rF"
      },
      "source": [
        "\n",
        "\n",
        "---\n",
        "\n",
        "Implementing the Decision tree using Kernel Density estimation\n",
        "\n",
        "\n",
        "---\n",
        "\n",
        "\n",
        "\n",
        "\n",
        "\n"
      ]
    },
    {
      "cell_type": "code",
      "metadata": {
        "id": "eosKIXw_XzbA"
      },
      "source": [
        "class Tree:\n",
        "    def __init__(self, X, y, gamma, alpha, beta, nu):\n",
        "        self.gamma = gamma\n",
        "        self.alpha = alpha\n",
        "        self.beta = beta\n",
        "        self.nu = nu\n",
        "        self.n_samples, self.n_features = X.shape\n",
        "        self.A = X.columns\n",
        "        eligible = dict((a, True) for a in self.A)\n",
        "        X = X\n",
        "        self.root = self.build_tree(float('-inf'), float('inf'), X, 0, eligible)\n",
        "    \n",
        "    def build_tree(self, left, right, X, prev_A_tr, eligible):\n",
        "        \n",
        "        # 2.5 Stopping Conditions\n",
        "        n_t = len(X)\n",
        "\n",
        "        if n_t == 0:\n",
        "            return None\n",
        "\n",
        "        min_proxy_impurity_decrease = float('inf')\n",
        "        a_t = None\n",
        "        children = None\n",
        "        Y_t = None\n",
        "\n",
        "        for a in self.A:\n",
        "            # 2.4 Pre-pruning mechanism\n",
        "            if eligible[a] == False:\n",
        "                continue\n",
        "\n",
        "            if len(np.unique(X[a])) == 1:\n",
        "                continue\n",
        "            \n",
        "            # 2.1 Density Estimation\n",
        "            f, x = self.KDE(X, a)\n",
        "\n",
        "            # 2.2 Division\n",
        "            # (a) Clipping KDE\n",
        "            threshold = self.gamma * max(f)\n",
        "\n",
        "            Y = []\n",
        "            i = 0\n",
        "            while i < len(f):\n",
        "                while i < len(f) and f[i] < threshold:\n",
        "                    i += 1\n",
        "\n",
        "                if i == len(f):\n",
        "                    break\n",
        "\n",
        "                l = i\n",
        "                i += 1\n",
        "\n",
        "                while i < len(f) and f[i] >= threshold:\n",
        "                    i += 1\n",
        "                \n",
        "                r = i - 1\n",
        "                Y.append([l, r])\n",
        "                i += 1\n",
        "\n",
        "            # (b) Revision\n",
        "            Y_prime = []\n",
        "            for [l, r] in Y:\n",
        "                i = l + 1\n",
        "                L, R = l, r\n",
        "                while i < r:\n",
        "                    while i < r and f[i] < f[i + 1]:\n",
        "                        i += 1\n",
        "                    \n",
        "                    if i == r:\n",
        "                        continue\n",
        "                    \n",
        "                    maxima1 = i\n",
        "                    i += 1\n",
        "\n",
        "                    while i < r and f[i] > f[i + 1]:\n",
        "                        i += 1\n",
        "                    \n",
        "                    if i == r:\n",
        "                        continue\n",
        "\n",
        "                    minima = i\n",
        "                    i += 1\n",
        "\n",
        "                    while i < r and f[i] < f[i + 1]:\n",
        "                        i += 1\n",
        "\n",
        "                    if i == r:\n",
        "                        continue\n",
        "\n",
        "                    maxima2 = i\n",
        "                    \n",
        "                    if f[minima] <= alpha * min(f[maxima1], f[maxima2]):\n",
        "                        Y_prime.append([L, i])\n",
        "                        L = i\n",
        "                Y_prime.append([L, R])\n",
        "            \n",
        "\n",
        "            # (c) Assessment\n",
        "            Y_prime[:] = [[l, r] for [l,r] in Y_prime if len(X.loc[(x[l] <= X[a]) & (X[a] <= x[r])]) > self.beta * self.n_samples]\n",
        "\n",
        "            Y_prime_prime = []\n",
        "            for [l, r] in Y_prime:\n",
        "                sub_interval = X.loc[(x[l] <= X[a]) & (X[a] <= x[r])]\n",
        "                Y_prime_prime.append([sub_interval[a].min(), sub_interval[a].max()])\n",
        "\n",
        "            # 2.3 Impurity Decrease\n",
        "            proxy_impurity_decrease = 0\n",
        "            for [l_val, r_val] in Y_prime_prime:\n",
        "                # print(l_val, r_val)\n",
        "                n_t_i = len(X.loc[(l_val <= X[a]) & (X[a] <= r_val)])\n",
        "                n_t_i_prime = n_t_i * (r_val - l_val) / (X[a].max() - X[a].min())\n",
        "                proxy_impurity_decrease += (n_t_i * n_t_i_prime) / (n_t_i + n_t_i_prime)\n",
        "\n",
        "\n",
        "            if proxy_impurity_decrease < min_proxy_impurity_decrease:\n",
        "                min_proxy_impurity_decrease = proxy_impurity_decrease\n",
        "                a_t = a\n",
        "                Y_t = Y_prime_prime\n",
        "\n",
        "        if a_t and len(Y_t) > 0:\n",
        "            A_tr = len(X.loc[(Y_t[0][0] <= X[a]) & (X[a] <= Y_t[-1][1])]) / len(X)\n",
        "            if A_tr == prev_A_tr:\n",
        "                return None\n",
        "            root = Node(left, right, a_t)\n",
        "            eligible[a] = False\n",
        "            for [l, r] in Y_t:\n",
        "                child = self.build_tree(l, r, X.loc[(l <= X[a]) & (X[a] <= r)], A_tr, eligible)\n",
        "                if child:\n",
        "                    root.children.append(child)\n",
        "        else:\n",
        "            root = None\n",
        "\n",
        "        return root\n",
        "\n",
        "    # FUNCTION FOR KERNEL DENSITY ESTIMATION\n",
        "    def KDE(self, X, a):\n",
        "        n_t = len(X)\n",
        "        Q1 = X[a].quantile(0.25)\n",
        "        Q3 = X[a].quantile(0.75)\n",
        "        IQR = Q3 - Q1\n",
        "\n",
        "        if IQR != 0:\n",
        "            h_t = 0.9 * min(X[a].std(), IQR / 1.34) * (n_t ** (-1 / 5))\n",
        "        else:\n",
        "            h_t = 0.9 * X[a].std() * (n_t ** (-1 / 5))\n",
        "\n",
        "        lo, hi = X[a].min(), X[a].max()\n",
        "        x, f = [], []\n",
        "        density_points = 512\n",
        "        increment = (hi - lo) / density_points\n",
        "\n",
        "        i = lo\n",
        "        while i <= hi:\n",
        "            x.append(i)\n",
        "            i += increment\n",
        "\n",
        "        for z in x:\n",
        "            f.append(0)\n",
        "            for x_i in X[a]:\n",
        "                f[-1] += self.K((z - x_i) / h_t)\n",
        "            f[-1] = (1 / (n_t * h_t)) * f[-1]\n",
        "\n",
        "        return f, x\n",
        "    \n",
        "\n",
        "    def K(self, y):\n",
        "        return 1 / math.sqrt(2 * math.pi) * math.exp(-(y ** 2) / 2)\n",
        "    \n",
        "\n",
        "    def predict(self, X):\n",
        "        predictions = []\n",
        "        for i, x in X.iterrows():\n",
        "            copy = self.root\n",
        "            predictions.append(self.make_prediction(x, copy))\n",
        "\n",
        "        return predictions\n",
        "    \n",
        "    def make_prediction(self, x, root):\n",
        "        if len(root.children) == 0:\n",
        "            return 1\n",
        "\n",
        "        for child in root.children:\n",
        "            if root.L <= x[root.a_prime] <= root.R:\n",
        "                return self.make_prediction(x, child)\n",
        "\n",
        "        return 0"
      ],
      "execution_count": 4,
      "outputs": []
    },
    {
      "cell_type": "markdown",
      "metadata": {
        "id": "kS8R9AJN823W"
      },
      "source": [
        "\n",
        "\n",
        "---\n",
        "\n",
        "Implementing one class classification for the decision tree\n",
        "\n",
        "\n",
        "---\n",
        "\n"
      ]
    },
    {
      "cell_type": "code",
      "metadata": {
        "id": "SSAMYn_iCcXh"
      },
      "source": [
        "class OCC:\n",
        "    def __init__(self, gamma, alpha, beta, nu):\n",
        "        self.gamma = gamma\n",
        "        self.alpha = alpha\n",
        "        self.beta = beta\n",
        "        self.nu = nu\n",
        "\n",
        "    def fit(self, X, y):\n",
        "        self.tree_ = Tree(X, y, gamma, alpha, beta, nu)\n",
        "\n",
        "    def predict(self, X):\n",
        "        return self.tree_.predict(X)"
      ],
      "execution_count": 5,
      "outputs": []
    },
    {
      "cell_type": "markdown",
      "metadata": {
        "id": "iuQMd0xXCc7Y"
      },
      "source": [
        "# Training and Testing for the datasets for different Noise Levels"
      ]
    },
    {
      "cell_type": "markdown",
      "metadata": {
        "id": "nUcmlHPJ-kHG"
      },
      "source": [
        "\n",
        "\n",
        "---\n",
        "\n",
        "Adding the label feild for the dataset\n",
        "\n",
        "\n",
        "---\n",
        "\n"
      ]
    },
    {
      "cell_type": "code",
      "metadata": {
        "colab": {
          "base_uri": "https://localhost:8080/"
        },
        "id": "uQVv-pNLuVo6",
        "outputId": "d98a5050-e8d5-403f-c931-9c04824f99ef"
      },
      "source": [
        "target_class = 'A'\n",
        "letters['label'] = (letters['label'] == target_class).astype(int)\n",
        "\n",
        "print(\"DATASET -------------\")\n",
        "print()\n",
        "print(letters)"
      ],
      "execution_count": 6,
      "outputs": [
        {
          "output_type": "stream",
          "text": [
            "DATASET -------------\n",
            "\n",
            "       label  xbox  ybox  width  height  ...  xy2bar  xedge  xedgey  yedge  yedgex\n",
            "0          0     5    12      3       7  ...       9      2       8      4      10\n",
            "1          0     4    11      6       8  ...       7      3       7      3       9\n",
            "2          0     7    11      6       6  ...      10      6      10      2       8\n",
            "3          0     2     1      3       1  ...       9      1       7      5      10\n",
            "4          0     4    11      5       8  ...       6      0       8      9       7\n",
            "...      ...   ...   ...    ...     ...  ...     ...    ...     ...    ...     ...\n",
            "19994      0     2     2      3       3  ...       4      2       8      3       7\n",
            "19995      0     7    10      8       8  ...      13      2       9      3       7\n",
            "19996      0     6     9      6       7  ...       5      2      12      2       4\n",
            "19997      0     2     3      4       2  ...       8      1       9      5       8\n",
            "19998      1     4     9      6       6  ...       8      2       7      2       8\n",
            "\n",
            "[19999 rows x 17 columns]\n"
          ],
          "name": "stdout"
        }
      ]
    },
    {
      "cell_type": "markdown",
      "metadata": {
        "id": "rCohrDak-zC7"
      },
      "source": [
        "dividing the dataset into 2 - \n",
        "\n",
        "\n",
        "*   Target Class Data - having label field 1\n",
        "*   Outlier Data - having label field 0\n",
        "\n"
      ]
    },
    {
      "cell_type": "code",
      "metadata": {
        "colab": {
          "base_uri": "https://localhost:8080/"
        },
        "id": "jxPqBOWvuG6w",
        "outputId": "c900ed57-8a8b-4b42-a6fd-c94e3122aa28"
      },
      "source": [
        "target_class_data = letters.loc[letters['label'] == 1]\n",
        "print(\"Target Class Data\")\n",
        "print()\n",
        "print(target_class_data)\n",
        "\n",
        "outlier_data = letters.loc[letters['label'] == 0]\n",
        "print(\"Outlier Data\")\n",
        "print()\n",
        "print(outlier_data)"
      ],
      "execution_count": 7,
      "outputs": [
        {
          "output_type": "stream",
          "text": [
            "Target Class Data\n",
            "\n",
            "       label  xbox  ybox  width  height  ...  xy2bar  xedge  xedgey  yedge  yedgex\n",
            "6          1     1     1      3       2  ...       8      1       6      2       7\n",
            "77         1     3     7      5       5  ...       9      2       6      3       8\n",
            "117        1     3     8      5       6  ...       8      2       6      3       7\n",
            "129        1     2     1      4       2  ...       8      2       5      2       7\n",
            "133        1     3     7      5       5  ...       9      2       4      2       7\n",
            "...      ...   ...   ...    ...     ...  ...     ...    ...     ...    ...     ...\n",
            "19892      1     3     7      4       5  ...       8      2       7      1       7\n",
            "19950      1     6    10      7       6  ...      12      4       4      3      11\n",
            "19965      1     2     3      3       1  ...       8      1       6      1       7\n",
            "19976      1     3     9      5       6  ...       8      2       7      2       7\n",
            "19998      1     4     9      6       6  ...       8      2       7      2       8\n",
            "\n",
            "[789 rows x 17 columns]\n",
            "Outlier Data\n",
            "\n",
            "       label  xbox  ybox  width  height  ...  xy2bar  xedge  xedgey  yedge  yedgex\n",
            "0          0     5    12      3       7  ...       9      2       8      4      10\n",
            "1          0     4    11      6       8  ...       7      3       7      3       9\n",
            "2          0     7    11      6       6  ...      10      6      10      2       8\n",
            "3          0     2     1      3       1  ...       9      1       7      5      10\n",
            "4          0     4    11      5       8  ...       6      0       8      9       7\n",
            "...      ...   ...   ...    ...     ...  ...     ...    ...     ...    ...     ...\n",
            "19993      0     5     8      7       7  ...       8      3      10      8       6\n",
            "19994      0     2     2      3       3  ...       4      2       8      3       7\n",
            "19995      0     7    10      8       8  ...      13      2       9      3       7\n",
            "19996      0     6     9      6       7  ...       5      2      12      2       4\n",
            "19997      0     2     3      4       2  ...       8      1       9      5       8\n",
            "\n",
            "[19210 rows x 17 columns]\n"
          ],
          "name": "stdout"
        }
      ]
    },
    {
      "cell_type": "markdown",
      "metadata": {
        "id": "18gf9C6T_tla"
      },
      "source": [
        "# Now Testing Against Different Noise Levels --------"
      ]
    },
    {
      "cell_type": "markdown",
      "metadata": {
        "id": "gVvH2xMXA5Yb"
      },
      "source": [
        "\n",
        "\n",
        "---\n",
        "\n",
        "\n",
        "Defining the constants\n",
        "\n",
        "\n",
        "---\n",
        "\n"
      ]
    },
    {
      "cell_type": "code",
      "metadata": {
        "id": "O0tIGNROA4D3"
      },
      "source": [
        "from sklearn.metrics import classification_report\n",
        "gamma = 0.05\n",
        "alpha = 0.5\n",
        "beta = 0.02\n",
        "nu = 0.05"
      ],
      "execution_count": 8,
      "outputs": []
    },
    {
      "cell_type": "markdown",
      "metadata": {
        "id": "VWKOp0H2l2WD"
      },
      "source": [
        "\n",
        "\n",
        "---\n",
        "\n",
        "\n",
        "## For Noise Level - 2 %\n",
        "\n",
        "\n",
        "---\n",
        "\n"
      ]
    },
    {
      "cell_type": "markdown",
      "metadata": {
        "id": "u351i39YAdj5"
      },
      "source": [
        "Training ----"
      ]
    },
    {
      "cell_type": "code",
      "metadata": {
        "id": "hwqePQmnvoqy",
        "colab": {
          "base_uri": "https://localhost:8080/"
        },
        "outputId": "9dad5849-c194-4f68-d28b-257521ad809e"
      },
      "source": [
        "outlier_percentage = 2\n",
        "m = len(target_class_data)\n",
        "num_outliers = m * outlier_percentage // 100\n",
        "included_outliers = outlier_data.sample(n = num_outliers)\n",
        "\n",
        "data = target_class_data.append(included_outliers)\n",
        "print(data)\n",
        "\n",
        "X = data.drop('label', 1)\n",
        "y = data['label']\n",
        "\n",
        "X_train, X_test, y_train, y_test = train_test_split(X, y, test_size=0.33, random_state=1000)"
      ],
      "execution_count": 9,
      "outputs": [
        {
          "output_type": "stream",
          "text": [
            "       label  xbox  ybox  width  height  ...  xy2bar  xedge  xedgey  yedge  yedgex\n",
            "6          1     1     1      3       2  ...       8      1       6      2       7\n",
            "77         1     3     7      5       5  ...       9      2       6      3       8\n",
            "117        1     3     8      5       6  ...       8      2       6      3       7\n",
            "129        1     2     1      4       2  ...       8      2       5      2       7\n",
            "133        1     3     7      5       5  ...       9      2       4      2       7\n",
            "...      ...   ...   ...    ...     ...  ...     ...    ...     ...    ...     ...\n",
            "16257      0     1     3      2       2  ...       7      2       8      2       7\n",
            "7949       0     4    10      5       7  ...       8      3       8      4       8\n",
            "11341      0     4    11      5       8  ...       6      3       8     10      11\n",
            "9654       0     3     6      5       4  ...       9      3       9      1       8\n",
            "6276       0     3     7      4       5  ...      11      1      10      3       7\n",
            "\n",
            "[804 rows x 17 columns]\n"
          ],
          "name": "stdout"
        }
      ]
    },
    {
      "cell_type": "markdown",
      "metadata": {
        "id": "lop1SPG1AoRI"
      },
      "source": [
        "Testing -------"
      ]
    },
    {
      "cell_type": "code",
      "metadata": {
        "colab": {
          "base_uri": "https://localhost:8080/"
        },
        "id": "deF2GlCL0Sff",
        "outputId": "0fc0c788-29df-417a-ae43-df7d23f6e0ca"
      },
      "source": [
        "\n",
        "clf = OCC(gamma, alpha, beta, nu)\n",
        "clf.fit(X_train, y_train)\n",
        "\n",
        "y_pred = clf.predict(X_test)\n",
        "report = classification_report(y_test, y_pred)\n",
        " \n",
        "print(\"Classification report for noise level = 2 % ----------\")\n",
        "print()\n",
        "print()\n",
        "print(report)\n",
        "print()\n"
      ],
      "execution_count": 11,
      "outputs": [
        {
          "output_type": "stream",
          "text": [
            "Classification report for noise level = 2 % ----------\n",
            "\n",
            "\n",
            "              precision    recall  f1-score   support\n",
            "\n",
            "           0       0.00      0.00      0.00         4\n",
            "           1       0.98      1.00      0.99       262\n",
            "\n",
            "    accuracy                           0.98       266\n",
            "   macro avg       0.49      0.50      0.50       266\n",
            "weighted avg       0.97      0.98      0.98       266\n",
            "\n",
            "\n"
          ],
          "name": "stdout"
        },
        {
          "output_type": "stream",
          "text": [
            "/usr/local/lib/python3.7/dist-packages/sklearn/metrics/_classification.py:1272: UndefinedMetricWarning: Precision and F-score are ill-defined and being set to 0.0 in labels with no predicted samples. Use `zero_division` parameter to control this behavior.\n",
            "  _warn_prf(average, modifier, msg_start, len(result))\n"
          ],
          "name": "stderr"
        }
      ]
    },
    {
      "cell_type": "markdown",
      "metadata": {
        "id": "tG7C6d4HDvo0"
      },
      "source": [
        "\n",
        "\n",
        "---\n",
        "\n",
        "\n",
        "## For Noise Level - 5 %\n",
        "\n",
        "\n",
        "---\n",
        "\n"
      ]
    },
    {
      "cell_type": "markdown",
      "metadata": {
        "id": "kIjujfePDvo2"
      },
      "source": [
        "Training ----"
      ]
    },
    {
      "cell_type": "code",
      "metadata": {
        "colab": {
          "base_uri": "https://localhost:8080/"
        },
        "id": "laa57zhCDvo5",
        "outputId": "a5462342-7b9e-4f9b-f380-c48778f0ab05"
      },
      "source": [
        "outlier_percentage = 5\n",
        "m = len(target_class_data)\n",
        "num_outliers = m * outlier_percentage // 100\n",
        "included_outliers = outlier_data.sample(n = num_outliers)\n",
        "\n",
        "data = target_class_data.append(included_outliers)\n",
        "print(data)\n",
        "\n",
        "X = data.drop('label', 1)\n",
        "y = data['label']\n",
        "\n",
        "X_train, X_test, y_train, y_test = train_test_split(X, y, test_size=0.33, random_state=1000)"
      ],
      "execution_count": 12,
      "outputs": [
        {
          "output_type": "stream",
          "text": [
            "       label  xbox  ybox  width  height  ...  xy2bar  xedge  xedgey  yedge  yedgex\n",
            "6          1     1     1      3       2  ...       8      1       6      2       7\n",
            "77         1     3     7      5       5  ...       9      2       6      3       8\n",
            "117        1     3     8      5       6  ...       8      2       6      3       7\n",
            "129        1     2     1      4       2  ...       8      2       5      2       7\n",
            "133        1     3     7      5       5  ...       9      2       4      2       7\n",
            "...      ...   ...   ...    ...     ...  ...     ...    ...     ...    ...     ...\n",
            "14079      0     3     8      4       6  ...       6      0       7      1       7\n",
            "19489      0     1     1      2       2  ...       8      0       8      6       8\n",
            "6666       0     4     7      5       5  ...       8      2       8      5      11\n",
            "19710      0     8    15      8       8  ...       8      8       5     10       7\n",
            "19492      0    10    11     10       6  ...      10      9      10      2       7\n",
            "\n",
            "[828 rows x 17 columns]\n"
          ],
          "name": "stdout"
        }
      ]
    },
    {
      "cell_type": "markdown",
      "metadata": {
        "id": "3sQcKBPbDvo-"
      },
      "source": [
        "Testing -------"
      ]
    },
    {
      "cell_type": "code",
      "metadata": {
        "colab": {
          "base_uri": "https://localhost:8080/"
        },
        "id": "K09Pl854DvpA",
        "outputId": "648a685d-8a07-454e-f4e9-170a387921fc"
      },
      "source": [
        "\n",
        "clf = OCC(gamma, alpha, beta, nu)\n",
        "clf.fit(X_train, y_train)\n",
        "\n",
        "y_pred = clf.predict(X_test)\n",
        "report = classification_report(y_test, y_pred)\n",
        " \n",
        "print(\"Classification report for noise level = 5 % ----------\")\n",
        "print()\n",
        "print()\n",
        "print(report)\n",
        "print()\n"
      ],
      "execution_count": 13,
      "outputs": [
        {
          "output_type": "stream",
          "text": [
            "Classification report for noise level = 5 % ----------\n",
            "\n",
            "\n",
            "              precision    recall  f1-score   support\n",
            "\n",
            "           0       0.00      0.00      0.00        12\n",
            "           1       0.96      1.00      0.98       262\n",
            "\n",
            "    accuracy                           0.96       274\n",
            "   macro avg       0.48      0.50      0.49       274\n",
            "weighted avg       0.91      0.96      0.93       274\n",
            "\n",
            "\n"
          ],
          "name": "stdout"
        },
        {
          "output_type": "stream",
          "text": [
            "/usr/local/lib/python3.7/dist-packages/sklearn/metrics/_classification.py:1272: UndefinedMetricWarning: Precision and F-score are ill-defined and being set to 0.0 in labels with no predicted samples. Use `zero_division` parameter to control this behavior.\n",
            "  _warn_prf(average, modifier, msg_start, len(result))\n"
          ],
          "name": "stderr"
        }
      ]
    },
    {
      "cell_type": "markdown",
      "metadata": {
        "id": "15M3g3MhFpql"
      },
      "source": [
        "\n",
        "\n",
        "---\n",
        "\n",
        "\n",
        "## For Noise Level - 10 %\n",
        "\n",
        "\n",
        "---\n",
        "\n"
      ]
    },
    {
      "cell_type": "markdown",
      "metadata": {
        "id": "PtegoQ3aFpqm"
      },
      "source": [
        "Training ----"
      ]
    },
    {
      "cell_type": "code",
      "metadata": {
        "colab": {
          "base_uri": "https://localhost:8080/"
        },
        "id": "J4MVCaYuFpqn",
        "outputId": "0b7993e3-6714-4df6-fcbe-31754bbbff1f"
      },
      "source": [
        "outlier_percentage = 10\n",
        "m = len(target_class_data)\n",
        "num_outliers = m * outlier_percentage // 100\n",
        "included_outliers = outlier_data.sample(n = num_outliers)\n",
        "\n",
        "data = target_class_data.append(included_outliers)\n",
        "print(data)\n",
        "\n",
        "X = data.drop('label', 1)\n",
        "y = data['label']\n",
        "\n",
        "X_train, X_test, y_train, y_test = train_test_split(X, y, test_size=0.33, random_state=1000)"
      ],
      "execution_count": 14,
      "outputs": [
        {
          "output_type": "stream",
          "text": [
            "       label  xbox  ybox  width  height  ...  xy2bar  xedge  xedgey  yedge  yedgex\n",
            "6          1     1     1      3       2  ...       8      1       6      2       7\n",
            "77         1     3     7      5       5  ...       9      2       6      3       8\n",
            "117        1     3     8      5       6  ...       8      2       6      3       7\n",
            "129        1     2     1      4       2  ...       8      2       5      2       7\n",
            "133        1     3     7      5       5  ...       9      2       4      2       7\n",
            "...      ...   ...   ...    ...     ...  ...     ...    ...     ...    ...     ...\n",
            "9760       0     5     8      5       6  ...       8      3       9      1       6\n",
            "8083       0     3     5      4       8  ...       9      3      12      6       6\n",
            "13095      0     5    11      7       8  ...       5      2      10      2       7\n",
            "5293       0     5     9      8       6  ...       5      3       8      4       9\n",
            "4180       0     1     0      1       1  ...       9      2       7      3       9\n",
            "\n",
            "[867 rows x 17 columns]\n"
          ],
          "name": "stdout"
        }
      ]
    },
    {
      "cell_type": "markdown",
      "metadata": {
        "id": "T12__FnzFpqo"
      },
      "source": [
        "Testing -------"
      ]
    },
    {
      "cell_type": "code",
      "metadata": {
        "colab": {
          "base_uri": "https://localhost:8080/"
        },
        "id": "0trTKT7BFpqo",
        "outputId": "6efbc159-f16f-432f-fbc8-aaed656627cb"
      },
      "source": [
        "\n",
        "clf = OCC(gamma, alpha, beta, nu)\n",
        "clf.fit(X_train, y_train)\n",
        "\n",
        "y_pred = clf.predict(X_test)\n",
        "report = classification_report(y_test, y_pred)\n",
        " \n",
        "print(\"Classification report for noise level = 10 % ----------\")\n",
        "print()\n",
        "print()\n",
        "print(report)\n",
        "print()\n"
      ],
      "execution_count": 15,
      "outputs": [
        {
          "output_type": "stream",
          "text": [
            "Classification report for noise level = 10 % ----------\n",
            "\n",
            "\n",
            "              precision    recall  f1-score   support\n",
            "\n",
            "           0       0.00      0.00      0.00        25\n",
            "           1       0.91      1.00      0.95       262\n",
            "\n",
            "    accuracy                           0.91       287\n",
            "   macro avg       0.46      0.50      0.48       287\n",
            "weighted avg       0.83      0.91      0.87       287\n",
            "\n",
            "\n"
          ],
          "name": "stdout"
        },
        {
          "output_type": "stream",
          "text": [
            "/usr/local/lib/python3.7/dist-packages/sklearn/metrics/_classification.py:1272: UndefinedMetricWarning: Precision and F-score are ill-defined and being set to 0.0 in labels with no predicted samples. Use `zero_division` parameter to control this behavior.\n",
            "  _warn_prf(average, modifier, msg_start, len(result))\n"
          ],
          "name": "stderr"
        }
      ]
    },
    {
      "cell_type": "markdown",
      "metadata": {
        "id": "kud2qQ2fFzdc"
      },
      "source": [
        "\n",
        "\n",
        "---\n",
        "\n",
        "\n",
        "## For Noise Level - 15 %\n",
        "\n",
        "\n",
        "---\n",
        "\n"
      ]
    },
    {
      "cell_type": "markdown",
      "metadata": {
        "id": "Sdgh-jeeFzdc"
      },
      "source": [
        "Training ----"
      ]
    },
    {
      "cell_type": "code",
      "metadata": {
        "colab": {
          "base_uri": "https://localhost:8080/"
        },
        "id": "SILh82bGFzdc",
        "outputId": "76a4ba49-30b8-4560-ec58-1dee7a26890b"
      },
      "source": [
        "outlier_percentage = 15\n",
        "m = len(target_class_data)\n",
        "num_outliers = m * outlier_percentage // 100\n",
        "included_outliers = outlier_data.sample(n = num_outliers)\n",
        "\n",
        "data = target_class_data.append(included_outliers)\n",
        "print(data)\n",
        "\n",
        "X = data.drop('label', 1)\n",
        "y = data['label']\n",
        "\n",
        "X_train, X_test, y_train, y_test = train_test_split(X, y, test_size=0.33, random_state=1000)"
      ],
      "execution_count": 16,
      "outputs": [
        {
          "output_type": "stream",
          "text": [
            "       label  xbox  ybox  width  height  ...  xy2bar  xedge  xedgey  yedge  yedgex\n",
            "6          1     1     1      3       2  ...       8      1       6      2       7\n",
            "77         1     3     7      5       5  ...       9      2       6      3       8\n",
            "117        1     3     8      5       6  ...       8      2       6      3       7\n",
            "129        1     2     1      4       2  ...       8      2       5      2       7\n",
            "133        1     3     7      5       5  ...       9      2       4      2       7\n",
            "...      ...   ...   ...    ...     ...  ...     ...    ...     ...    ...     ...\n",
            "9218       0     5    11      5       8  ...       8      3       9      0       8\n",
            "16205      0     5    10      6       8  ...       5      2      10      2       5\n",
            "1224       0     8    13      8       7  ...       5      6       7      4       9\n",
            "5292       0     3     2      5       4  ...       8      3       8      6       8\n",
            "11171      0     5     9      6       7  ...       8      3      10      8      10\n",
            "\n",
            "[907 rows x 17 columns]\n"
          ],
          "name": "stdout"
        }
      ]
    },
    {
      "cell_type": "markdown",
      "metadata": {
        "id": "0w_l1FmVFzdd"
      },
      "source": [
        "Testing -------"
      ]
    },
    {
      "cell_type": "code",
      "metadata": {
        "colab": {
          "base_uri": "https://localhost:8080/"
        },
        "id": "EO1T7haZFzdd",
        "outputId": "e613d8a4-06a2-4d85-ebee-5708363f4416"
      },
      "source": [
        "\n",
        "clf = OCC(gamma, alpha, beta, nu)\n",
        "clf.fit(X_train, y_train)\n",
        "\n",
        "y_pred = clf.predict(X_test)\n",
        "report = classification_report(y_test, y_pred)\n",
        " \n",
        "print(\"Classification report for noise level = 15 % ----------\")\n",
        "print()\n",
        "print()\n",
        "print(report)\n",
        "print()\n"
      ],
      "execution_count": 17,
      "outputs": [
        {
          "output_type": "stream",
          "text": [
            "Classification report for noise level = 15 % ----------\n",
            "\n",
            "\n",
            "              precision    recall  f1-score   support\n",
            "\n",
            "           0       0.00      0.00      0.00        35\n",
            "           1       0.88      1.00      0.94       265\n",
            "\n",
            "    accuracy                           0.88       300\n",
            "   macro avg       0.44      0.50      0.47       300\n",
            "weighted avg       0.78      0.88      0.83       300\n",
            "\n",
            "\n"
          ],
          "name": "stdout"
        },
        {
          "output_type": "stream",
          "text": [
            "/usr/local/lib/python3.7/dist-packages/sklearn/metrics/_classification.py:1272: UndefinedMetricWarning: Precision and F-score are ill-defined and being set to 0.0 in labels with no predicted samples. Use `zero_division` parameter to control this behavior.\n",
            "  _warn_prf(average, modifier, msg_start, len(result))\n"
          ],
          "name": "stderr"
        }
      ]
    }
  ]
}