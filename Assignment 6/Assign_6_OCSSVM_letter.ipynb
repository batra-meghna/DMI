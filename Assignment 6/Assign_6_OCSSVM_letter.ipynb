{
  "nbformat": 4,
  "nbformat_minor": 0,
  "metadata": {
    "colab": {
      "name": "Assign_6_OCSSVM_letter.ipynb",
      "provenance": []
    },
    "kernelspec": {
      "name": "python3",
      "display_name": "Python 3"
    },
    "language_info": {
      "name": "python"
    }
  },
  "cells": [
    {
      "cell_type": "markdown",
      "metadata": {
        "id": "iEsU2i1r-Nxy"
      },
      "source": [
        "#ONE CLASS SLAB SUPPORT VECTOR MACHINE FOR LETTER DATASET\n",
        "\n",
        "\n"
      ]
    },
    {
      "cell_type": "code",
      "metadata": {
        "id": "OfzkUtMY4tOp"
      },
      "source": [
        "#Import all the dependencies\n",
        "import cvxpy as cp\n",
        "import numpy as np\n",
        "import pandas as pd"
      ],
      "execution_count": 28,
      "outputs": []
    },
    {
      "cell_type": "markdown",
      "metadata": {
        "id": "2-4AF2gFG1_p"
      },
      "source": [
        "---\n",
        "\n",
        "\n",
        "Reading the csv file made for the dataset - And initializing the dataframe with it\n",
        "\n",
        "\n",
        "---\n",
        "\n"
      ]
    },
    {
      "cell_type": "code",
      "metadata": {
        "colab": {
          "base_uri": "https://localhost:8080/"
        },
        "id": "rfu5SXPY_YJX",
        "outputId": "af10b33f-85ec-41ae-d32d-b9bfca0e6c1d"
      },
      "source": [
        "data = pd.read_csv(\"/content/letter-recognition.csv\")\n",
        "data.columns = ['letter', 'xbox', 'ybox', 'width', 'height', 'onpix', 'xbar','ybar', 'x2bar', 'y2bar', 'xybar', 'x2ybar', 'xy2bar', 'xedge','xedgey', 'yedge', 'yedgex']\n",
        "print(data)"
      ],
      "execution_count": 29,
      "outputs": [
        {
          "output_type": "stream",
          "text": [
            "      letter  xbox  ybox  width  height  ...  xy2bar  xedge  xedgey  yedge  yedgex\n",
            "0          I     5    12      3       7  ...       9      2       8      4      10\n",
            "1          D     4    11      6       8  ...       7      3       7      3       9\n",
            "2          N     7    11      6       6  ...      10      6      10      2       8\n",
            "3          G     2     1      3       1  ...       9      1       7      5      10\n",
            "4          S     4    11      5       8  ...       6      0       8      9       7\n",
            "...      ...   ...   ...    ...     ...  ...     ...    ...     ...    ...     ...\n",
            "19994      D     2     2      3       3  ...       4      2       8      3       7\n",
            "19995      C     7    10      8       8  ...      13      2       9      3       7\n",
            "19996      T     6     9      6       7  ...       5      2      12      2       4\n",
            "19997      S     2     3      4       2  ...       8      1       9      5       8\n",
            "19998      A     4     9      6       6  ...       8      2       7      2       8\n",
            "\n",
            "[19999 rows x 17 columns]\n"
          ],
          "name": "stdout"
        }
      ]
    },
    {
      "cell_type": "markdown",
      "metadata": {
        "id": "NkK58IN7GSVp"
      },
      "source": [
        "## Starting with the algorithm : \n",
        "\n",
        "\n",
        "---\n",
        "\n",
        "\n",
        "### ONE CLASS SLAB SUPPORT VECTOR MACHINE\n",
        "\n",
        "\n",
        "---\n",
        "\n",
        "**Normalization**"
      ]
    },
    {
      "cell_type": "code",
      "metadata": {
        "colab": {
          "base_uri": "https://localhost:8080/"
        },
        "id": "rzMVHNBx36qO",
        "outputId": "3a48a7f3-10e0-443a-8e8c-eb923e77a2db"
      },
      "source": [
        "for i in range(1,17):\n",
        "  col = data.columns[i]\n",
        "  mx = max(data[col])\n",
        "  mn = min(data[col])\n",
        "  d = mx - mn\n",
        "  data[col] -= mn\n",
        "  data[col] /= d\n",
        "\n",
        "print(data)"
      ],
      "execution_count": 30,
      "outputs": [
        {
          "output_type": "stream",
          "text": [
            "      letter      xbox      ybox  ...    xedgey     yedge    yedgex\n",
            "0          I  0.333333  0.800000  ...  0.533333  0.266667  0.666667\n",
            "1          D  0.266667  0.733333  ...  0.466667  0.200000  0.600000\n",
            "2          N  0.466667  0.733333  ...  0.666667  0.133333  0.533333\n",
            "3          G  0.133333  0.066667  ...  0.466667  0.333333  0.666667\n",
            "4          S  0.266667  0.733333  ...  0.533333  0.600000  0.466667\n",
            "...      ...       ...       ...  ...       ...       ...       ...\n",
            "19994      D  0.133333  0.133333  ...  0.533333  0.200000  0.466667\n",
            "19995      C  0.466667  0.666667  ...  0.600000  0.200000  0.466667\n",
            "19996      T  0.400000  0.600000  ...  0.800000  0.133333  0.266667\n",
            "19997      S  0.133333  0.200000  ...  0.600000  0.333333  0.533333\n",
            "19998      A  0.266667  0.600000  ...  0.466667  0.133333  0.533333\n",
            "\n",
            "[19999 rows x 17 columns]\n"
          ],
          "name": "stdout"
        }
      ]
    },
    {
      "cell_type": "code",
      "metadata": {
        "id": "WedCfJHD_dkG"
      },
      "source": [
        "onlyA_df = data.loc[data['letter']=='A']\n",
        "total = len(onlyA_df)\n",
        "train = int(0.8*total)    # number of A samples in training\n",
        "test = total -train       # number of A samples in testing\n",
        "onlyA = []\n",
        "\n",
        "for i in range(total):\n",
        "  temp = []\n",
        "  for j in range(1,17,1):\n",
        "    temp.append(onlyA_df.iloc[i,j])\n",
        "  onlyA.append(temp)\n",
        "\n",
        "onlyA = np.array(onlyA)"
      ],
      "execution_count": 5,
      "outputs": []
    },
    {
      "cell_type": "markdown",
      "metadata": {
        "id": "2AW72LNKG4_w"
      },
      "source": [
        "---\n",
        "\n",
        "Training and Testing\n",
        "\n",
        "---\n"
      ]
    },
    {
      "cell_type": "code",
      "metadata": {
        "colab": {
          "base_uri": "https://localhost:8080/"
        },
        "id": "qve9p-roCNtX",
        "outputId": "7525dc5e-66f6-4703-bf5e-1fab04f88c8e"
      },
      "source": [
        "train_X = onlyA[0:train]\n",
        "print(train_X,train_X.shape)"
      ],
      "execution_count": 31,
      "outputs": [
        {
          "output_type": "stream",
          "text": [
            "[[0.06666667 0.06666667 0.2        ... 0.4        0.13333333 0.46666667]\n",
            " [0.2        0.46666667 0.33333333 ... 0.4        0.2        0.53333333]\n",
            " [0.2        0.53333333 0.33333333 ... 0.4        0.2        0.46666667]\n",
            " ...\n",
            " [0.2        0.53333333 0.33333333 ... 0.46666667 0.06666667 0.53333333]\n",
            " [0.06666667 0.         0.13333333 ... 0.46666667 0.06666667 0.53333333]\n",
            " [0.13333333 0.2        0.2        ... 0.4        0.06666667 0.53333333]] (631, 16)\n"
          ],
          "name": "stdout"
        }
      ]
    },
    {
      "cell_type": "code",
      "metadata": {
        "colab": {
          "base_uri": "https://localhost:8080/"
        },
        "id": "g8A2SO4oCevU",
        "outputId": "5e3ab5f9-37eb-41b0-c673-aca16249cbf7"
      },
      "source": [
        "test_X = onlyA[train:]\n",
        "test_Y = [1]*test\n",
        "\n",
        "# including 5 samples each of remaining alphabets\n",
        "for i in range(1,26,1):\n",
        "  c = chr(i+ord('A'))\n",
        "  c_df = data.loc[data['letter']==c][0:5]\n",
        "  del c_df['letter']\n",
        "  c_df = c_df.to_numpy()\n",
        "  for j in c_df:\n",
        "    test_X = np.vstack((test_X,j))\n",
        "    test_Y.append(-1)\n",
        "\n",
        "test_Y = np.array(test_Y)\n",
        "print(test_X,test_X.shape)\n",
        "print(test_Y,test_Y.shape)"
      ],
      "execution_count": 32,
      "outputs": [
        {
          "output_type": "stream",
          "text": [
            "[[0.4        0.66666667 0.6        ... 0.53333333 0.53333333 0.26666667]\n",
            " [0.2        0.6        0.4        ... 0.46666667 0.26666667 0.33333333]\n",
            " [0.2        0.4        0.33333333 ... 0.4        0.13333333 0.53333333]\n",
            " ...\n",
            " [0.2        0.53333333 0.26666667 ... 0.53333333 0.53333333 0.53333333]\n",
            " [0.06666667 0.         0.06666667 ... 0.53333333 0.4        0.53333333]\n",
            " [0.4        0.66666667 0.53333333 ... 0.46666667 0.4        0.6       ]] (283, 16)\n",
            "[ 1  1  1  1  1  1  1  1  1  1  1  1  1  1  1  1  1  1  1  1  1  1  1  1\n",
            "  1  1  1  1  1  1  1  1  1  1  1  1  1  1  1  1  1  1  1  1  1  1  1  1\n",
            "  1  1  1  1  1  1  1  1  1  1  1  1  1  1  1  1  1  1  1  1  1  1  1  1\n",
            "  1  1  1  1  1  1  1  1  1  1  1  1  1  1  1  1  1  1  1  1  1  1  1  1\n",
            "  1  1  1  1  1  1  1  1  1  1  1  1  1  1  1  1  1  1  1  1  1  1  1  1\n",
            "  1  1  1  1  1  1  1  1  1  1  1  1  1  1  1  1  1  1  1  1  1  1  1  1\n",
            "  1  1  1  1  1  1  1  1  1  1  1  1  1  1 -1 -1 -1 -1 -1 -1 -1 -1 -1 -1\n",
            " -1 -1 -1 -1 -1 -1 -1 -1 -1 -1 -1 -1 -1 -1 -1 -1 -1 -1 -1 -1 -1 -1 -1 -1\n",
            " -1 -1 -1 -1 -1 -1 -1 -1 -1 -1 -1 -1 -1 -1 -1 -1 -1 -1 -1 -1 -1 -1 -1 -1\n",
            " -1 -1 -1 -1 -1 -1 -1 -1 -1 -1 -1 -1 -1 -1 -1 -1 -1 -1 -1 -1 -1 -1 -1 -1\n",
            " -1 -1 -1 -1 -1 -1 -1 -1 -1 -1 -1 -1 -1 -1 -1 -1 -1 -1 -1 -1 -1 -1 -1 -1\n",
            " -1 -1 -1 -1 -1 -1 -1 -1 -1 -1 -1 -1 -1 -1 -1 -1 -1 -1 -1] (283,)\n"
          ],
          "name": "stdout"
        }
      ]
    },
    {
      "cell_type": "markdown",
      "metadata": {
        "id": "iTE6zY1c9-Kl"
      },
      "source": [
        "**Defining Kernels**"
      ]
    },
    {
      "cell_type": "code",
      "metadata": {
        "id": "ZM6uuEcj6SzR"
      },
      "source": [
        "def linear_kernel(x1, x2):\n",
        "  return np.dot(x1, x2)\n",
        "\n",
        "def polynomial_kernel(x, y, p=3):\n",
        "  return (1 + np.dot(x, y)) ** p\n",
        "\n",
        "def gaussian_kernel(x, y, sigma=5.0):\n",
        "  return np.exp(-np.linalg.norm(x-y)**2 / (2 * (sigma ** 2)))\n",
        "\n",
        "def hellinger_kernel(X1, X2):\n",
        "  X1,X2 = np.sqrt(X1),np.sqrt(X2)\n",
        "  return X1 @ X2\n",
        "\n",
        "def chi_square_kernel(x,y):\n",
        "  sum = 0.0\n",
        "\n",
        "  for i in range(len(x)):\n",
        "    if (x[i]+y[i]) != 0:\n",
        "      sum += (2*x[i]*y[i])/(x[i]+y[i])\n",
        "  \n",
        "  return sum\n",
        "\n",
        "def intersection_kernel(x,y):\n",
        "  sum = 0.0\n",
        "\n",
        "  for i in range(len(x)):\n",
        "    sum += min(x[i],y[i])\n",
        "  return sum"
      ],
      "execution_count": 33,
      "outputs": []
    },
    {
      "cell_type": "markdown",
      "metadata": {
        "id": "On-y1U2w-I7V"
      },
      "source": [
        "**Calculating kernel matrix**"
      ]
    },
    {
      "cell_type": "code",
      "metadata": {
        "id": "DrOdee9O6pC_"
      },
      "source": [
        "def kernel_matrix(X,kernel=linear_kernel):\n",
        "  m = X.shape[0]\n",
        "  K = np.zeros((m,m))\n",
        "  for i in range(m):\n",
        "    for j in range(m):\n",
        "      K[i,j] = kernel(X[i], X[j])\n",
        "  \n",
        "  return K"
      ],
      "execution_count": 35,
      "outputs": []
    },
    {
      "cell_type": "code",
      "metadata": {
        "colab": {
          "base_uri": "https://localhost:8080/"
        },
        "id": "rCXCPrRo3Jtf",
        "outputId": "1f0e6987-6388-4b96-df30-c5b1cd1d1ab4"
      },
      "source": [
        "kernel_matrix(train_X,hellinger_kernel)"
      ],
      "execution_count": 36,
      "outputs": [
        {
          "output_type": "execute_result",
          "data": {
            "text/plain": [
              "array([[3.73333333, 4.4112756 , 4.22853921, ..., 4.02657957, 3.43691428,\n",
              "        3.89152273],\n",
              "       [4.4112756 , 5.46666667, 5.27764618, ..., 5.03454465, 3.91234393,\n",
              "        4.68337527],\n",
              "       [4.22853921, 5.27764618, 5.13333333, ..., 4.88078713, 3.68341075,\n",
              "        4.48244205],\n",
              "       ...,\n",
              "       [4.02657957, 5.03454465, 4.88078713, ..., 4.93333333, 3.63932105,\n",
              "        4.31316326],\n",
              "       [3.43691428, 3.91234393, 3.68341075, ..., 3.63932105, 3.46666667,\n",
              "        3.59692613],\n",
              "       [3.89152273, 4.68337527, 4.48244205, ..., 4.31316326, 3.59692613,\n",
              "        4.13333333]])"
            ]
          },
          "metadata": {
            "tags": []
          },
          "execution_count": 36
        }
      ]
    },
    {
      "cell_type": "markdown",
      "metadata": {
        "id": "qRGUoWmJrRGT"
      },
      "source": [
        "---\n",
        "\n",
        "\n",
        "Parameters\n",
        "\n",
        "\n",
        "\n",
        "---"
      ]
    },
    {
      "cell_type": "code",
      "metadata": {
        "id": "-2f05658rPbt"
      },
      "source": [
        "m = len(train_X)\n",
        "v1,v2 = 0.9,0.9\n",
        "e = 2/3\n",
        "c1,c2 = 1/(v1*m),e/(v2*m)"
      ],
      "execution_count": 37,
      "outputs": []
    },
    {
      "cell_type": "markdown",
      "metadata": {
        "id": "aYlDXhG_-UI0"
      },
      "source": [
        "**Solving Optimization problem** \n"
      ]
    },
    {
      "cell_type": "code",
      "metadata": {
        "id": "uhTnLjUK71Sj"
      },
      "source": [
        "def optimize(train_X,c1,c2,e,kernel=linear_kernel):\n",
        "\n",
        "  m = len(train_X)     # number of samples\n",
        "  n = len(train_X[0])  # number of features in one samples\n",
        "\n",
        "  alpha = cp.Variable(m)\n",
        "  alpha1 = cp.Variable(m)\n",
        "\n",
        "  A1 = np.ones((1,m))\n",
        "  b1 = np.array([1])\n",
        "  b2 = np.array([e])\n",
        "\n",
        "  G = np.eye(m)\n",
        "  h = np.full((m,),0)\n",
        "  h1 = np.full((m,),c1)\n",
        "  h2 = np.full((m,),c2)\n",
        "  G1 = -np.eye(m)\n",
        "\n",
        "  K = kernel_matrix(train_X,kernel)\n",
        "\n",
        "  prob = cp.Problem(cp.Minimize((1/2)*cp.quad_form((alpha-alpha1),K)),\n",
        "                    [A1 @ alpha == b1,\n",
        "                    A1 @ alpha1 == b2,\n",
        "                    G @ alpha <= h1,\n",
        "                    G @ alpha1 <=h2,\n",
        "                    G1 @ alpha <= h,\n",
        "                    G1 @ alpha1 <= h])\n",
        "  prob.solve()\n",
        "  print(prob.status+\" Solution found\")\n",
        "\n",
        "  alpha = alpha.value\n",
        "  alpha1 = alpha1.value\n",
        "\n",
        "  return alpha,alpha1"
      ],
      "execution_count": 38,
      "outputs": []
    },
    {
      "cell_type": "markdown",
      "metadata": {
        "id": "ia7Ynpn5-nsv"
      },
      "source": [
        "**Calculating offsets/bias**"
      ]
    },
    {
      "cell_type": "code",
      "metadata": {
        "id": "RE-EKv8hABTU"
      },
      "source": [
        "def calculate_bias(alpha,alpha1,c1,c2,X,kernel=linear_kernel):\n",
        "\n",
        "  m = X.shape[0]\n",
        "\n",
        "  n = 0 \n",
        "  sum = 0\n",
        "\n",
        "  for i in range(m):\n",
        "    if (alpha[i]>0 and alpha[i]<c1):\n",
        "      n+=1\n",
        "      for j in range(m):\n",
        "        sum += ((alpha[j]-alpha1[j])*kernel(X[i],X[j]))\n",
        "  \n",
        "  sum = sum/n;\n",
        "  p1 = sum\n",
        "\n",
        "  n = 0 \n",
        "  sum = 0.0\n",
        "\n",
        "  for i in range(m):\n",
        "    if (alpha1[i]>0 and alpha1[i]<c2):\n",
        "      n+=1\n",
        "      for j in range(m):\n",
        "        sum += ((alpha[j]-alpha1[j])*kernel(X[i],X[j]))\n",
        "  \n",
        "  sum = sum/n;\n",
        "\n",
        "  p2=sum\n",
        "\n",
        "  return p1,p2"
      ],
      "execution_count": 39,
      "outputs": []
    },
    {
      "cell_type": "markdown",
      "metadata": {
        "id": "OPnB2Ks7-sTu"
      },
      "source": [
        "**Calculating svm score**"
      ]
    },
    {
      "cell_type": "code",
      "metadata": {
        "id": "rQqaqLHV7ZcL"
      },
      "source": [
        "def svm_score(x,train_X,alpha,alpha1,kernel=linear_kernel):\n",
        "  m = train_X.shape[0] \n",
        "  score = 0.0\n",
        "\n",
        "  for i in range(m):\n",
        "    score += (alpha[i]-alpha1[i])*kernel(x,train_X[i])\n",
        "  \n",
        "  return score"
      ],
      "execution_count": 40,
      "outputs": []
    },
    {
      "cell_type": "markdown",
      "metadata": {
        "id": "3O4oWqNj-xbr"
      },
      "source": [
        "**Define Prediction function**"
      ]
    },
    {
      "cell_type": "code",
      "metadata": {
        "id": "oWpuQTBx8xS5"
      },
      "source": [
        "def predict(x,train_X,p1,p2,alpha,alpha1,kernel=linear_kernel):\n",
        "\n",
        "  score = svm_score(x,train_X,alpha,alpha1,kernel)\n",
        "  return np.sign((score-p1)*(p2-score))"
      ],
      "execution_count": 41,
      "outputs": []
    },
    {
      "cell_type": "markdown",
      "metadata": {
        "id": "97tGRqgCLtjs"
      },
      "source": [
        "# Results using different Kernels\n",
        "\n",
        "---\n",
        "\n",
        "Using Linear Kernel\n",
        "\n",
        "---"
      ]
    },
    {
      "cell_type": "code",
      "metadata": {
        "colab": {
          "base_uri": "https://localhost:8080/"
        },
        "id": "bUd42kOW628l",
        "outputId": "c5e59cae-e9f3-444c-e34e-d32af5e7b8a1"
      },
      "source": [
        "from sklearn.metrics import matthews_corrcoef\n",
        "\n",
        "alpha,alpha1 = optimize(train_X,c1,c2,e,linear_kernel)\n",
        "p1,p2 = calculate_bias(alpha,alpha1,c1,c2,train_X,linear_kernel)\n",
        "\n",
        "pred_Y = []\n",
        "total_test = len(test_Y)\n",
        "correct = 0\n",
        "\n",
        "for i in range(total_test):\n",
        "  res = predict(test_X[i],train_X,p1,p2,alpha,alpha1,linear_kernel)\n",
        "  pred_Y.append(int(res))\n",
        "\n",
        "\n",
        "print(\"Matthews correlation coefficient: \",matthews_corrcoef(test_Y, pred_Y))"
      ],
      "execution_count": 42,
      "outputs": [
        {
          "output_type": "stream",
          "text": [
            "optimal Solution found\n",
            "Matthews correlation coefficient:  0.06710934527955675\n"
          ],
          "name": "stdout"
        }
      ]
    },
    {
      "cell_type": "markdown",
      "metadata": {
        "id": "4LaQ27rANCUc"
      },
      "source": [
        "---\n",
        "\n",
        "Using Polynomial Kernel\n",
        "\n",
        "---"
      ]
    },
    {
      "cell_type": "code",
      "metadata": {
        "colab": {
          "base_uri": "https://localhost:8080/"
        },
        "id": "QZtbaOBNNCUd",
        "outputId": "87aba34b-f6f6-4210-e3b0-f9580a036ce9"
      },
      "source": [
        "from sklearn.metrics import matthews_corrcoef\n",
        "\n",
        "alpha,alpha1 = optimize(train_X,c1,c2,e,polynomial_kernel)\n",
        "p1,p2 = calculate_bias(alpha,alpha1,c1,c2,train_X,polynomial_kernel)\n",
        "\n",
        "pred_Y = []\n",
        "total_test = len(test_Y)\n",
        "correct = 0\n",
        "for i in range(total_test):\n",
        "  \n",
        "  res = predict(test_X[i],train_X,p1,p2,alpha,alpha1,polynomial_kernel)\n",
        "  pred_Y.append(int(res))\n",
        "\n",
        "print(\"Matthews correlation coefficient: \",matthews_corrcoef(test_Y, pred_Y))"
      ],
      "execution_count": 43,
      "outputs": [
        {
          "output_type": "stream",
          "text": [
            "optimal Solution found\n",
            "Matthews correlation coefficient:  0.08848584197977327\n"
          ],
          "name": "stdout"
        }
      ]
    },
    {
      "cell_type": "markdown",
      "metadata": {
        "id": "SO-0zxxWNR7J"
      },
      "source": [
        "---\n",
        "\n",
        "Using Gaussian Kernel\n",
        "\n",
        "---"
      ]
    },
    {
      "cell_type": "code",
      "metadata": {
        "colab": {
          "base_uri": "https://localhost:8080/"
        },
        "id": "sptwwr0qNR7K",
        "outputId": "67e679ed-e982-4448-cc4d-413a853581a3"
      },
      "source": [
        "from sklearn.metrics import matthews_corrcoef\n",
        "\n",
        "alpha,alpha1 = optimize(train_X,c1,c2,e,gaussian_kernel)\n",
        "p1,p2 = calculate_bias(alpha,alpha1,c1,c2,train_X,gaussian_kernel)\n",
        "\n",
        "pred_Y = []\n",
        "total_test = len(test_Y)\n",
        "correct = 0\n",
        "for i in range(total_test):\n",
        "  \n",
        "  res = predict(test_X[i],train_X,p1,p2,alpha,alpha1,gaussian_kernel)\n",
        "  pred_Y.append(int(res))\n",
        "\n",
        "print(\"Matthews correlation coefficient: \",matthews_corrcoef(test_Y, pred_Y))"
      ],
      "execution_count": 44,
      "outputs": [
        {
          "output_type": "stream",
          "text": [
            "optimal Solution found\n",
            "Matthews correlation coefficient:  -0.1873314482020479\n"
          ],
          "name": "stdout"
        }
      ]
    },
    {
      "cell_type": "markdown",
      "metadata": {
        "id": "t9QAsOu56zUR"
      },
      "source": [
        "---\n",
        "\n",
        "Using Hellinger Kernel\n",
        "\n",
        "---"
      ]
    },
    {
      "cell_type": "code",
      "metadata": {
        "colab": {
          "base_uri": "https://localhost:8080/"
        },
        "id": "njlVGnlX6zUc",
        "outputId": "5a4595b5-6624-42fd-c31b-a23b42e16c1b"
      },
      "source": [
        "from sklearn.metrics import matthews_corrcoef\n",
        "\n",
        "alpha,alpha1 = optimize(train_X,c1,c2,e,hellinger_kernel)\n",
        "p1,p2 = calculate_bias(alpha,alpha1,c1,c2,train_X,hellinger_kernel)\n",
        "\n",
        "pred_Y = []\n",
        "total_test = len(test_Y)\n",
        "correct = 0\n",
        "for i in range(total_test):\n",
        "  \n",
        "  res = predict(test_X[i],train_X,p1,p2,alpha,alpha1,hellinger_kernel)\n",
        "  pred_Y.append(int(res))\n",
        "\n",
        "print(\"Matthews correlation coefficient: \",matthews_corrcoef(test_Y, pred_Y))"
      ],
      "execution_count": 45,
      "outputs": [
        {
          "output_type": "stream",
          "text": [
            "optimal Solution found\n",
            "Matthews correlation coefficient:  0.19836719415024925\n"
          ],
          "name": "stdout"
        }
      ]
    },
    {
      "cell_type": "markdown",
      "metadata": {
        "id": "d1eb3nYj8JLk"
      },
      "source": [
        "---\n",
        "\n",
        "Using Chi square Kernel\n",
        "\n",
        "---"
      ]
    },
    {
      "cell_type": "code",
      "metadata": {
        "colab": {
          "base_uri": "https://localhost:8080/"
        },
        "id": "BgK9AnUn8JLm",
        "outputId": "76545caf-964f-463a-821a-19a4ab672e3e"
      },
      "source": [
        "from sklearn.metrics import matthews_corrcoef\n",
        "\n",
        "alpha,alpha1 = optimize(train_X,c1,c2,e,chi_square_kernel)\n",
        "p1,p2 = calculate_bias(alpha,alpha1,c1,c2,train_X,chi_square_kernel)\n",
        "\n",
        "pred_Y = []\n",
        "total_test = len(test_Y)\n",
        "correct = 0\n",
        "for i in range(total_test):\n",
        "  \n",
        "  res = predict(test_X[i],train_X,p1,p2,alpha,alpha1,chi_square_kernel)\n",
        "  pred_Y.append(int(res))\n",
        "\n",
        "print(\"matthews correlation coefficient: \",matthews_corrcoef(test_Y, pred_Y))"
      ],
      "execution_count": 46,
      "outputs": [
        {
          "output_type": "stream",
          "text": [
            "optimal Solution found\n",
            "matthews correlation coefficient:  0.26520668302954026\n"
          ],
          "name": "stdout"
        }
      ]
    },
    {
      "cell_type": "markdown",
      "metadata": {
        "id": "CEt0QnKRMkfr"
      },
      "source": [
        "---\n",
        "\n",
        "Using Intersection Kernel\n",
        "\n",
        "---"
      ]
    },
    {
      "cell_type": "code",
      "metadata": {
        "colab": {
          "base_uri": "https://localhost:8080/"
        },
        "id": "CkE4sNK-MkgN",
        "outputId": "49da781c-cd56-40fa-87c7-273a80118f13"
      },
      "source": [
        "from sklearn.metrics import matthews_corrcoef\n",
        "\n",
        "alpha,alpha1 = optimize(train_X,c1,c2,e,intersection_kernel)\n",
        "p1,p2 = calculate_bias(alpha,alpha1,c1,c2,train_X,intersection_kernel)\n",
        "\n",
        "pred_Y = []\n",
        "total_test = len(test_Y)\n",
        "correct = 0\n",
        "for i in range(total_test):\n",
        "  \n",
        "  res = predict(test_X[i],train_X,p1,p2,alpha,alpha1,intersection_kernel)\n",
        "  pred_Y.append(int(res))\n",
        "\n",
        "\n",
        "print(\"Matthews correlation coefficient: \",matthews_corrcoef(test_Y, pred_Y))"
      ],
      "execution_count": 47,
      "outputs": [
        {
          "output_type": "stream",
          "text": [
            "optimal Solution found\n",
            "Matthews correlation coefficient:  0.17667648470710767\n"
          ],
          "name": "stdout"
        }
      ]
    }
  ]
}